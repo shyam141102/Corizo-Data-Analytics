{
 "cells": [
  {
   "cell_type": "code",
   "execution_count": 18,
   "id": "c3823408-8104-47bf-80ed-ebfb5f1f7912",
   "metadata": {},
   "outputs": [],
   "source": [
    "import numpy as np"
   ]
  },
  {
   "cell_type": "code",
   "execution_count": 19,
   "id": "23dd961d-f651-43b5-811e-7f6109ecd5ec",
   "metadata": {},
   "outputs": [
    {
     "name": "stdout",
     "output_type": "stream",
     "text": [
      "[[ 0.13371765 -0.63998676 -0.00833482]\n",
      " [-0.7677989   1.17102002 -0.62856349]] \n",
      "\n",
      "[[ 1.33717651 -6.39986761 -0.08334824]\n",
      " [-7.67798899 11.7102002  -6.28563486]]\n"
     ]
    }
   ],
   "source": [
    "data  = np.random.randn(2,3)\n",
    "print(data,'\\n')\n",
    "print(data*10)"
   ]
  },
  {
   "cell_type": "code",
   "execution_count": 20,
   "id": "8c8e4e2d-9235-4c0d-9863-272037d10b06",
   "metadata": {},
   "outputs": [
    {
     "name": "stdout",
     "output_type": "stream",
     "text": [
      "data shape =  (2, 3)\n",
      "data dtype =  float64\n"
     ]
    }
   ],
   "source": [
    "print('data shape = ',data.shape)\n",
    "print('data dtype = ', data.dtype)"
   ]
  },
  {
   "cell_type": "code",
   "execution_count": 21,
   "id": "77587c53-2721-48f2-a26c-c93b61fb5640",
   "metadata": {},
   "outputs": [
    {
     "name": "stdout",
     "output_type": "stream",
     "text": [
      "[1, 2, 3, 4, 5, 6] <class 'list'>\n",
      "[1 2 3 4 5 6] <class 'numpy.ndarray'>\n"
     ]
    }
   ],
   "source": [
    "data1  = [1,2,3,4,5,6]\n",
    "print(data1 , type(data1))\n",
    "\n",
    "arr1 = np.array(data1)\n",
    "print(arr1 , type(arr1))"
   ]
  },
  {
   "cell_type": "code",
   "execution_count": 23,
   "id": "cbd02a89-134f-4fab-b6a5-e0df0e35a0d1",
   "metadata": {},
   "outputs": [
    {
     "name": "stdout",
     "output_type": "stream",
     "text": [
      "[[1, 2, 3, 4, 5], [6, 7, 8, 9, 10]]\n",
      "[[ 1  2  3  4  5]\n",
      " [ 6  7  8  9 10]]\n",
      "Dimension 2\n",
      "Shape (2, 5)\n"
     ]
    }
   ],
   "source": [
    "data2 = [[1,2,3,4,5],[6,7,8,9,10]]\n",
    "print(data2)\n",
    "arr2  = np.array(data2)\n",
    "print(arr2)\n",
    "print('Dimension', arr2.ndim)\n",
    "print('Shape',arr2.shape)"
   ]
  },
  {
   "cell_type": "code",
   "execution_count": 24,
   "id": "530a1121-04e6-45e5-ba17-aa3831a63e6d",
   "metadata": {},
   "outputs": [
    {
     "name": "stdout",
     "output_type": "stream",
     "text": [
      "[0. 0. 0. 0. 0. 0. 0. 0. 0. 0. 0. 0.] \n",
      "\n",
      "[[0. 0. 0. 0. 0. 0.]\n",
      " [0. 0. 0. 0. 0. 0.]\n",
      " [0. 0. 0. 0. 0. 0.]] \n",
      "\n",
      "[[1. 0. 0.]\n",
      " [0. 1. 0.]\n",
      " [0. 0. 1.]]\n"
     ]
    }
   ],
   "source": [
    "print(np.zeros(12),'\\n')\n",
    "print(np.zeros((3,6)),'\\n')\n",
    "print(np.eye(3))"
   ]
  },
  {
   "cell_type": "code",
   "execution_count": 25,
   "id": "d4d6b4c3-680d-4a5c-a7ac-a19ef4adda8f",
   "metadata": {},
   "outputs": [
    {
     "name": "stdout",
     "output_type": "stream",
     "text": [
      "[ 0  1  2  3  4  5  6  7  8  9 10]\n"
     ]
    }
   ],
   "source": [
    "print(np.arange(11))"
   ]
  },
  {
   "cell_type": "code",
   "execution_count": 26,
   "id": "5da79792-b455-45d3-b0ca-5ddb4ddbbc45",
   "metadata": {},
   "outputs": [
    {
     "name": "stdout",
     "output_type": "stream",
     "text": [
      "float64\n",
      "int32\n"
     ]
    }
   ],
   "source": [
    "arr1 = np.array([1,2,3],dtype = np.float64)\n",
    "arr2 = np.array([1,2,3],dtype = np.int32)\n",
    "print(arr1.dtype)\n",
    "print(arr2.dtype)"
   ]
  },
  {
   "cell_type": "code",
   "execution_count": 27,
   "id": "0101076a-75e6-4c18-b1fc-fd8596da39d3",
   "metadata": {},
   "outputs": [
    {
     "name": "stdout",
     "output_type": "stream",
     "text": [
      "[1 2 3 4 5] int32 \n",
      "\n",
      "[1. 2. 3. 4. 5.] float16\n"
     ]
    }
   ],
   "source": [
    "arr = np.array([1,2,3,4,5])\n",
    "print(arr , arr.dtype , '\\n')\n",
    "\n",
    "flt = arr.astype(np.float16)\n",
    "print(flt , flt.dtype)"
   ]
  },
  {
   "cell_type": "code",
   "execution_count": 28,
   "id": "119e8e68-caff-4476-8f17-6df388afdf70",
   "metadata": {},
   "outputs": [
    {
     "name": "stdout",
     "output_type": "stream",
     "text": [
      "[ 3 -1 -2  0 12 10]\n"
     ]
    }
   ],
   "source": [
    "arr = np.array([3.7, -1.2, -2.6, 0.5, 12.9, 10.1])\n",
    "print(arr.astype(np.int32))"
   ]
  },
  {
   "cell_type": "code",
   "execution_count": 30,
   "id": "e929e7d2-230a-4df0-9eb0-12761676235b",
   "metadata": {},
   "outputs": [
    {
     "name": "stdout",
     "output_type": "stream",
     "text": [
      "['1.25' '-9.6' '42'] <U4\n",
      "[ 1.25 -9.6  42.  ]\n",
      "<U4\n"
     ]
    }
   ],
   "source": [
    "numeric_strings = np.array(['1.25', '-9.6', '42'])\n",
    "print(numeric_strings , numeric_strings.dtype)\n",
    "print(numeric_strings.astype(np.float64))\n",
    "print(numeric_strings.dtype)"
   ]
  },
  {
   "cell_type": "code",
   "execution_count": 33,
   "id": "6d9240e5-5cc8-4db1-b01d-c31880ef0a09",
   "metadata": {},
   "outputs": [
    {
     "name": "stdout",
     "output_type": "stream",
     "text": [
      "[[1. 2. 3.]\n",
      " [4. 5. 6.]] \n",
      "\n",
      "[[ 1.  4.  9.]\n",
      " [16. 25. 36.]] \n",
      "\n",
      "[[ 2.  4.  6.]\n",
      " [ 8. 10. 12.]] \n",
      "\n",
      "[[1.         0.5        0.33333333]\n",
      " [0.25       0.2        0.16666667]] \n",
      "\n"
     ]
    }
   ],
   "source": [
    "arr = np.array([[1.,2.,3.],[4.,5.,6.]])\n",
    "print(arr ,'\\n')\n",
    "print(arr*arr,'\\n')\n",
    "print(arr+arr,'\\n')\n",
    "print(1/arr,'\\n')"
   ]
  },
  {
   "cell_type": "markdown",
   "id": "af22819b-a050-4dd5-a843-a008208e590a",
   "metadata": {},
   "source": [
    "#  Array indexing n slicing"
   ]
  },
  {
   "cell_type": "code",
   "execution_count": 35,
   "id": "3747414e-8f0c-487f-8673-e54538a34edd",
   "metadata": {},
   "outputs": [
    {
     "name": "stdout",
     "output_type": "stream",
     "text": [
      "[0 1 2 3 4 5 6 7 8 9]\n",
      "[5 6 7]\n",
      "[ 0  1  2  3  4 69 69 69  8  9]\n"
     ]
    }
   ],
   "source": [
    "arr = np.arange(10)\n",
    "print(arr)\n",
    "print(arr[5:8])\n",
    "arr[5:8]=69\n",
    "print(arr)"
   ]
  },
  {
   "cell_type": "code",
   "execution_count": 36,
   "id": "6f9f363e-7baf-435a-a6a5-aff8671bcd4b",
   "metadata": {},
   "outputs": [
    {
     "name": "stdout",
     "output_type": "stream",
     "text": [
      "[7 8 9]\n",
      "3\n"
     ]
    }
   ],
   "source": [
    "arr2d = np.array([[1, 2, 3], [4, 5, 6], [7, 8, 9]])\n",
    "print(arr2d[2])\n",
    "print(arr2d[0][2])"
   ]
  },
  {
   "cell_type": "code",
   "execution_count": 38,
   "id": "4278fee3-abf0-4548-b206-8a178550b001",
   "metadata": {},
   "outputs": [
    {
     "name": "stdout",
     "output_type": "stream",
     "text": [
      "[[1 2 3]\n",
      " [4 5 6]]\n"
     ]
    }
   ],
   "source": [
    "print(arr2d[:2])"
   ]
  },
  {
   "cell_type": "markdown",
   "id": "c6ab58c6-16f7-43a1-8ebf-03c30d26315c",
   "metadata": {},
   "source": [
    "# Transposing array n Swapping Axes"
   ]
  },
  {
   "cell_type": "code",
   "execution_count": 43,
   "id": "99226210-2424-451d-a4f0-412006627362",
   "metadata": {},
   "outputs": [
    {
     "data": {
      "text/plain": [
       "array([[ 0,  1,  2,  3,  4],\n",
       "       [ 5,  6,  7,  8,  9],\n",
       "       [10, 11, 12, 13, 14]])"
      ]
     },
     "execution_count": 43,
     "metadata": {},
     "output_type": "execute_result"
    }
   ],
   "source": [
    "arr = np.arange(15).reshape((3,5))\n",
    "arr"
   ]
  },
  {
   "cell_type": "code",
   "execution_count": 44,
   "id": "93b1a99c-a66a-40de-9bfe-0d5b2d59ab3b",
   "metadata": {},
   "outputs": [
    {
     "data": {
      "text/plain": [
       "array([[ 0,  5, 10],\n",
       "       [ 1,  6, 11],\n",
       "       [ 2,  7, 12],\n",
       "       [ 3,  8, 13],\n",
       "       [ 4,  9, 14]])"
      ]
     },
     "execution_count": 44,
     "metadata": {},
     "output_type": "execute_result"
    }
   ],
   "source": [
    "arr.T"
   ]
  },
  {
   "cell_type": "code",
   "execution_count": 47,
   "id": "a4a2d038-aceb-48f0-bdad-583e2f4762ac",
   "metadata": {},
   "outputs": [
    {
     "data": {
      "text/plain": [
       "array([[[ 0,  1,  2,  3],\n",
       "        [ 4,  5,  6,  7]],\n",
       "\n",
       "       [[ 8,  9, 10, 11],\n",
       "        [12, 13, 14, 15]]])"
      ]
     },
     "execution_count": 47,
     "metadata": {},
     "output_type": "execute_result"
    }
   ],
   "source": [
    "arr = np.arange(16).reshape((2,2,4))\n",
    "arr"
   ]
  },
  {
   "cell_type": "code",
   "execution_count": 48,
   "id": "79875be9-5633-4c4a-9b54-9fe3c7b45db0",
   "metadata": {},
   "outputs": [
    {
     "data": {
      "text/plain": [
       "array([[[ 0,  1,  2,  3],\n",
       "        [ 8,  9, 10, 11]],\n",
       "\n",
       "       [[ 4,  5,  6,  7],\n",
       "        [12, 13, 14, 15]]])"
      ]
     },
     "execution_count": 48,
     "metadata": {},
     "output_type": "execute_result"
    }
   ],
   "source": [
    "arr.transpose((1,0,2))"
   ]
  },
  {
   "cell_type": "markdown",
   "id": "85d8b852-7ca0-40e8-aeaa-f27114170a27",
   "metadata": {},
   "source": [
    "# Universal Function ufunc"
   ]
  },
  {
   "cell_type": "code",
   "execution_count": 49,
   "id": "3ed27869-6dec-4fd7-8087-a593fefd3f5f",
   "metadata": {},
   "outputs": [
    {
     "name": "stdout",
     "output_type": "stream",
     "text": [
      "[0 1 2 3 4 5 6 7 8 9]\n"
     ]
    }
   ],
   "source": [
    "arr = np.arange(10)\n",
    "print(arr)"
   ]
  },
  {
   "cell_type": "code",
   "execution_count": 50,
   "id": "3e5803e6-8aa8-4d8e-baf6-2811b459f819",
   "metadata": {},
   "outputs": [
    {
     "name": "stdout",
     "output_type": "stream",
     "text": [
      "[0.         1.         1.41421356 1.73205081 2.         2.23606798\n",
      " 2.44948974 2.64575131 2.82842712 3.        ]\n"
     ]
    }
   ],
   "source": [
    "print(np.sqrt(arr))"
   ]
  },
  {
   "cell_type": "code",
   "execution_count": 51,
   "id": "1eaf72c4-2839-4f45-80cf-11b3d9cca692",
   "metadata": {},
   "outputs": [
    {
     "name": "stdout",
     "output_type": "stream",
     "text": [
      "[1.00000000e+00 2.71828183e+00 7.38905610e+00 2.00855369e+01\n",
      " 5.45981500e+01 1.48413159e+02 4.03428793e+02 1.09663316e+03\n",
      " 2.98095799e+03 8.10308393e+03]\n"
     ]
    }
   ],
   "source": [
    "print(np.exp(arr))"
   ]
  },
  {
   "cell_type": "code",
   "execution_count": 52,
   "id": "f9d45daf-1511-48da-a876-b7d7db6d5828",
   "metadata": {},
   "outputs": [
    {
     "name": "stdout",
     "output_type": "stream",
     "text": [
      "[-0.0153215  -0.54725313  0.75518608 -0.44515449 -0.58135124 -1.03245215\n",
      "  0.25458524 -1.36886852]\n"
     ]
    }
   ],
   "source": [
    "x = np.random.randn(8)\n",
    "print(x)"
   ]
  },
  {
   "cell_type": "code",
   "execution_count": 53,
   "id": "d37d58d6-4f59-49c5-b738-db2433dd4ebf",
   "metadata": {},
   "outputs": [
    {
     "name": "stdout",
     "output_type": "stream",
     "text": [
      "[-0.43850801 -2.11738702  1.8236744  -1.11703901 -1.71765539  1.72541547\n",
      " -0.36231632 -1.52993366]\n"
     ]
    }
   ],
   "source": [
    "y = np.random.randn(8)\n",
    "print(y)"
   ]
  },
  {
   "cell_type": "code",
   "execution_count": 54,
   "id": "e875bed0-88a2-490d-9232-48d30a86bbca",
   "metadata": {},
   "outputs": [
    {
     "data": {
      "text/plain": [
       "array([-0.0153215 , -0.54725313,  1.8236744 , -0.44515449, -0.58135124,\n",
       "        1.72541547,  0.25458524, -1.36886852])"
      ]
     },
     "execution_count": 54,
     "metadata": {},
     "output_type": "execute_result"
    }
   ],
   "source": [
    "np.maximum(x,y)"
   ]
  },
  {
   "cell_type": "markdown",
   "id": "9e334dc5-a3d4-4c87-b508-a9bd2d5fa927",
   "metadata": {},
   "source": [
    "# Mathematical n  Statical Methods"
   ]
  },
  {
   "cell_type": "code",
   "execution_count": 55,
   "id": "ffe6bb01-0728-43aa-bdbe-4eb72765eaf2",
   "metadata": {},
   "outputs": [
    {
     "name": "stdout",
     "output_type": "stream",
     "text": [
      "[[ 0.64884535  0.49294998 -0.47674602 -0.43546642]\n",
      " [-0.51475747  1.23147056  0.90816891 -0.85755588]\n",
      " [-0.64331923 -0.22979714  0.7614682   0.42154921]\n",
      " [-0.01023911 -0.98129077 -0.68335861  1.48227987]\n",
      " [-1.03969255 -0.47947361 -0.8706693   1.43798418]]\n"
     ]
    }
   ],
   "source": [
    "arr = np.random.randn(5,4)\n",
    "print(arr)"
   ]
  },
  {
   "cell_type": "code",
   "execution_count": 56,
   "id": "a1ac0841-6635-4e40-b79d-7edea2d97cb3",
   "metadata": {},
   "outputs": [
    {
     "name": "stdout",
     "output_type": "stream",
     "text": [
      "Mean:  0.008117507498002174\n",
      "Mean:  0.008117507498002174\n",
      "Sum:  0.1623501499600435\n",
      "Sum:  0.1623501499600435\n"
     ]
    }
   ],
   "source": [
    "print(\"Mean: \", arr.mean())\n",
    "print(\"Mean: \", np.mean(arr))\n",
    "print(\"Sum: \", arr.sum())\n",
    "print(\"Sum: \", np.sum(arr))"
   ]
  },
  {
   "cell_type": "code",
   "execution_count": null,
   "id": "5054b3ff-3105-44d2-91fb-ee7183e52f51",
   "metadata": {},
   "outputs": [],
   "source": []
  }
 ],
 "metadata": {
  "kernelspec": {
   "display_name": "Python 3 (ipykernel)",
   "language": "python",
   "name": "python3"
  },
  "language_info": {
   "codemirror_mode": {
    "name": "ipython",
    "version": 3
   },
   "file_extension": ".py",
   "mimetype": "text/x-python",
   "name": "python",
   "nbconvert_exporter": "python",
   "pygments_lexer": "ipython3",
   "version": "3.12.3"
  }
 },
 "nbformat": 4,
 "nbformat_minor": 5
}
