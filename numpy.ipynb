{
 "cells": [
  {
   "cell_type": "code",
   "execution_count": 2,
   "id": "c3823408-8104-47bf-80ed-ebfb5f1f7912",
   "metadata": {},
   "outputs": [],
   "source": [
    "import numpy as np"
   ]
  },
  {
   "cell_type": "code",
   "execution_count": 3,
   "id": "23dd961d-f651-43b5-811e-7f6109ecd5ec",
   "metadata": {},
   "outputs": [
    {
     "name": "stdout",
     "output_type": "stream",
     "text": [
      "[[-0.20227003 -0.85955861 -0.50791296]\n",
      " [ 0.6891652  -2.2022906  -0.6818001 ]] \n",
      "\n",
      "[[ -2.02270033  -8.59558615  -5.07912955]\n",
      " [  6.89165195 -22.02290595  -6.81800099]]\n"
     ]
    }
   ],
   "source": [
    "data  = np.random.randn(2,3)\n",
    "print(data,'\\n')\n",
    "print(data*10)"
   ]
  },
  {
   "cell_type": "code",
   "execution_count": 4,
   "id": "8c8e4e2d-9235-4c0d-9863-272037d10b06",
   "metadata": {},
   "outputs": [
    {
     "name": "stdout",
     "output_type": "stream",
     "text": [
      "data shape =  (2, 3)\n",
      "data dtype =  float64\n"
     ]
    }
   ],
   "source": [
    "print('data shape = ',data.shape)\n",
    "print('data dtype = ', data.dtype)"
   ]
  },
  {
   "cell_type": "code",
   "execution_count": 5,
   "id": "77587c53-2721-48f2-a26c-c93b61fb5640",
   "metadata": {},
   "outputs": [
    {
     "name": "stdout",
     "output_type": "stream",
     "text": [
      "[1, 2, 3, 4, 5, 6] <class 'list'>\n",
      "[1 2 3 4 5 6] <class 'numpy.ndarray'>\n"
     ]
    }
   ],
   "source": [
    "data1  = [1,2,3,4,5,6]\n",
    "print(data1 , type(data1))\n",
    "\n",
    "arr1 = np.array(data1)\n",
    "print(arr1 , type(arr1))"
   ]
  },
  {
   "cell_type": "code",
   "execution_count": 6,
   "id": "cbd02a89-134f-4fab-b6a5-e0df0e35a0d1",
   "metadata": {},
   "outputs": [
    {
     "name": "stdout",
     "output_type": "stream",
     "text": [
      "[[1, 2, 3, 4, 5], [6, 7, 8, 9, 10]]\n",
      "[[ 1  2  3  4  5]\n",
      " [ 6  7  8  9 10]]\n",
      "Dimension 2\n",
      "Shape (2, 5)\n"
     ]
    }
   ],
   "source": [
    "data2 = [[1,2,3,4,5],[6,7,8,9,10]]\n",
    "print(data2)\n",
    "arr2  = np.array(data2)\n",
    "print(arr2)\n",
    "print('Dimension', arr2.ndim)\n",
    "print('Shape',arr2.shape)"
   ]
  },
  {
   "cell_type": "code",
   "execution_count": 7,
   "id": "530a1121-04e6-45e5-ba17-aa3831a63e6d",
   "metadata": {},
   "outputs": [
    {
     "name": "stdout",
     "output_type": "stream",
     "text": [
      "[0. 0. 0. 0. 0. 0. 0. 0. 0. 0. 0. 0.] \n",
      "\n",
      "[[0. 0. 0. 0. 0. 0.]\n",
      " [0. 0. 0. 0. 0. 0.]\n",
      " [0. 0. 0. 0. 0. 0.]] \n",
      "\n",
      "[[1. 0. 0.]\n",
      " [0. 1. 0.]\n",
      " [0. 0. 1.]]\n"
     ]
    }
   ],
   "source": [
    "print(np.zeros(12),'\\n')\n",
    "print(np.zeros((3,6)),'\\n')\n",
    "print(np.eye(3))"
   ]
  },
  {
   "cell_type": "code",
   "execution_count": 8,
   "id": "d4d6b4c3-680d-4a5c-a7ac-a19ef4adda8f",
   "metadata": {},
   "outputs": [
    {
     "name": "stdout",
     "output_type": "stream",
     "text": [
      "[ 0  1  2  3  4  5  6  7  8  9 10]\n"
     ]
    }
   ],
   "source": [
    "print(np.arange(11))"
   ]
  },
  {
   "cell_type": "code",
   "execution_count": 9,
   "id": "5da79792-b455-45d3-b0ca-5ddb4ddbbc45",
   "metadata": {},
   "outputs": [
    {
     "name": "stdout",
     "output_type": "stream",
     "text": [
      "float64\n",
      "int32\n"
     ]
    }
   ],
   "source": [
    "arr1 = np.array([1,2,3],dtype = np.float64)\n",
    "arr2 = np.array([1,2,3],dtype = np.int32)\n",
    "print(arr1.dtype)\n",
    "print(arr2.dtype)"
   ]
  },
  {
   "cell_type": "code",
   "execution_count": 10,
   "id": "0101076a-75e6-4c18-b1fc-fd8596da39d3",
   "metadata": {},
   "outputs": [
    {
     "name": "stdout",
     "output_type": "stream",
     "text": [
      "[1 2 3 4 5] int32 \n",
      "\n",
      "[1. 2. 3. 4. 5.] float16\n"
     ]
    }
   ],
   "source": [
    "arr = np.array([1,2,3,4,5])\n",
    "print(arr , arr.dtype , '\\n')\n",
    "\n",
    "flt = arr.astype(np.float16)\n",
    "print(flt , flt.dtype)"
   ]
  },
  {
   "cell_type": "code",
   "execution_count": 11,
   "id": "119e8e68-caff-4476-8f17-6df388afdf70",
   "metadata": {},
   "outputs": [
    {
     "name": "stdout",
     "output_type": "stream",
     "text": [
      "[ 3 -1 -2  0 12 10]\n"
     ]
    }
   ],
   "source": [
    "arr = np.array([3.7, -1.2, -2.6, 0.5, 12.9, 10.1])\n",
    "print(arr.astype(np.int32))"
   ]
  },
  {
   "cell_type": "code",
   "execution_count": 12,
   "id": "e929e7d2-230a-4df0-9eb0-12761676235b",
   "metadata": {},
   "outputs": [
    {
     "name": "stdout",
     "output_type": "stream",
     "text": [
      "['1.25' '-9.6' '42'] <U4\n",
      "[ 1.25 -9.6  42.  ]\n",
      "<U4\n"
     ]
    }
   ],
   "source": [
    "numeric_strings = np.array(['1.25', '-9.6', '42'])\n",
    "print(numeric_strings , numeric_strings.dtype)\n",
    "print(numeric_strings.astype(np.float64))\n",
    "print(numeric_strings.dtype)"
   ]
  },
  {
   "cell_type": "code",
   "execution_count": 13,
   "id": "6d9240e5-5cc8-4db1-b01d-c31880ef0a09",
   "metadata": {},
   "outputs": [
    {
     "name": "stdout",
     "output_type": "stream",
     "text": [
      "[[1. 2. 3.]\n",
      " [4. 5. 6.]] \n",
      "\n",
      "[[ 1.  4.  9.]\n",
      " [16. 25. 36.]] \n",
      "\n",
      "[[ 2.  4.  6.]\n",
      " [ 8. 10. 12.]] \n",
      "\n",
      "[[1.         0.5        0.33333333]\n",
      " [0.25       0.2        0.16666667]] \n",
      "\n"
     ]
    }
   ],
   "source": [
    "arr = np.array([[1.,2.,3.],[4.,5.,6.]])\n",
    "print(arr ,'\\n')\n",
    "print(arr*arr,'\\n')\n",
    "print(arr+arr,'\\n')\n",
    "print(1/arr,'\\n')"
   ]
  },
  {
   "cell_type": "markdown",
   "id": "af22819b-a050-4dd5-a843-a008208e590a",
   "metadata": {},
   "source": [
    "#  Array indexing n slicing"
   ]
  },
  {
   "cell_type": "code",
   "execution_count": 14,
   "id": "3747414e-8f0c-487f-8673-e54538a34edd",
   "metadata": {},
   "outputs": [
    {
     "name": "stdout",
     "output_type": "stream",
     "text": [
      "[0 1 2 3 4 5 6 7 8 9]\n",
      "[5 6 7]\n",
      "[ 0  1  2  3  4 69 69 69  8  9]\n"
     ]
    }
   ],
   "source": [
    "arr = np.arange(10)\n",
    "print(arr)\n",
    "print(arr[5:8])\n",
    "arr[5:8]=69\n",
    "print(arr)"
   ]
  },
  {
   "cell_type": "code",
   "execution_count": 15,
   "id": "6f9f363e-7baf-435a-a6a5-aff8671bcd4b",
   "metadata": {},
   "outputs": [
    {
     "name": "stdout",
     "output_type": "stream",
     "text": [
      "[7 8 9]\n",
      "3\n"
     ]
    }
   ],
   "source": [
    "arr2d = np.array([[1, 2, 3], [4, 5, 6], [7, 8, 9]])\n",
    "print(arr2d[2])\n",
    "print(arr2d[0][2])"
   ]
  },
  {
   "cell_type": "code",
   "execution_count": 16,
   "id": "4278fee3-abf0-4548-b206-8a178550b001",
   "metadata": {},
   "outputs": [
    {
     "name": "stdout",
     "output_type": "stream",
     "text": [
      "[[1 2 3]\n",
      " [4 5 6]]\n"
     ]
    }
   ],
   "source": [
    "print(arr2d[:2])"
   ]
  },
  {
   "cell_type": "markdown",
   "id": "c6ab58c6-16f7-43a1-8ebf-03c30d26315c",
   "metadata": {},
   "source": [
    "# Transposing array n Swapping Axes"
   ]
  },
  {
   "cell_type": "code",
   "execution_count": 17,
   "id": "99226210-2424-451d-a4f0-412006627362",
   "metadata": {},
   "outputs": [
    {
     "data": {
      "text/plain": [
       "array([[ 0,  1,  2,  3,  4],\n",
       "       [ 5,  6,  7,  8,  9],\n",
       "       [10, 11, 12, 13, 14]])"
      ]
     },
     "execution_count": 17,
     "metadata": {},
     "output_type": "execute_result"
    }
   ],
   "source": [
    "arr = np.arange(15).reshape((3,5))\n",
    "arr"
   ]
  },
  {
   "cell_type": "code",
   "execution_count": 18,
   "id": "93b1a99c-a66a-40de-9bfe-0d5b2d59ab3b",
   "metadata": {},
   "outputs": [
    {
     "data": {
      "text/plain": [
       "array([[ 0,  5, 10],\n",
       "       [ 1,  6, 11],\n",
       "       [ 2,  7, 12],\n",
       "       [ 3,  8, 13],\n",
       "       [ 4,  9, 14]])"
      ]
     },
     "execution_count": 18,
     "metadata": {},
     "output_type": "execute_result"
    }
   ],
   "source": [
    "arr.T"
   ]
  },
  {
   "cell_type": "code",
   "execution_count": 19,
   "id": "a4a2d038-aceb-48f0-bdad-583e2f4762ac",
   "metadata": {},
   "outputs": [
    {
     "data": {
      "text/plain": [
       "array([[[ 0,  1,  2,  3],\n",
       "        [ 4,  5,  6,  7]],\n",
       "\n",
       "       [[ 8,  9, 10, 11],\n",
       "        [12, 13, 14, 15]]])"
      ]
     },
     "execution_count": 19,
     "metadata": {},
     "output_type": "execute_result"
    }
   ],
   "source": [
    "arr = np.arange(16).reshape((2,2,4))\n",
    "arr"
   ]
  },
  {
   "cell_type": "code",
   "execution_count": 20,
   "id": "79875be9-5633-4c4a-9b54-9fe3c7b45db0",
   "metadata": {},
   "outputs": [
    {
     "data": {
      "text/plain": [
       "array([[[ 0,  1,  2,  3],\n",
       "        [ 8,  9, 10, 11]],\n",
       "\n",
       "       [[ 4,  5,  6,  7],\n",
       "        [12, 13, 14, 15]]])"
      ]
     },
     "execution_count": 20,
     "metadata": {},
     "output_type": "execute_result"
    }
   ],
   "source": [
    "arr.transpose((1,0,2))"
   ]
  },
  {
   "cell_type": "markdown",
   "id": "85d8b852-7ca0-40e8-aeaa-f27114170a27",
   "metadata": {},
   "source": [
    "# Universal Function ufunc"
   ]
  },
  {
   "cell_type": "code",
   "execution_count": 21,
   "id": "3ed27869-6dec-4fd7-8087-a593fefd3f5f",
   "metadata": {},
   "outputs": [
    {
     "name": "stdout",
     "output_type": "stream",
     "text": [
      "[0 1 2 3 4 5 6 7 8 9]\n"
     ]
    }
   ],
   "source": [
    "arr = np.arange(10)\n",
    "print(arr)"
   ]
  },
  {
   "cell_type": "code",
   "execution_count": 22,
   "id": "3e5803e6-8aa8-4d8e-baf6-2811b459f819",
   "metadata": {},
   "outputs": [
    {
     "name": "stdout",
     "output_type": "stream",
     "text": [
      "[0.         1.         1.41421356 1.73205081 2.         2.23606798\n",
      " 2.44948974 2.64575131 2.82842712 3.        ]\n"
     ]
    }
   ],
   "source": [
    "print(np.sqrt(arr))"
   ]
  },
  {
   "cell_type": "code",
   "execution_count": 23,
   "id": "1eaf72c4-2839-4f45-80cf-11b3d9cca692",
   "metadata": {},
   "outputs": [
    {
     "name": "stdout",
     "output_type": "stream",
     "text": [
      "[1.00000000e+00 2.71828183e+00 7.38905610e+00 2.00855369e+01\n",
      " 5.45981500e+01 1.48413159e+02 4.03428793e+02 1.09663316e+03\n",
      " 2.98095799e+03 8.10308393e+03]\n"
     ]
    }
   ],
   "source": [
    "print(np.exp(arr))"
   ]
  },
  {
   "cell_type": "code",
   "execution_count": 24,
   "id": "f9d45daf-1511-48da-a876-b7d7db6d5828",
   "metadata": {},
   "outputs": [
    {
     "name": "stdout",
     "output_type": "stream",
     "text": [
      "[-0.40834877  0.25632373 -0.23347774  1.2512674   0.7215316  -0.85568361\n",
      " -1.42406588 -0.1453766 ]\n"
     ]
    }
   ],
   "source": [
    "x = np.random.randn(8)\n",
    "print(x)"
   ]
  },
  {
   "cell_type": "code",
   "execution_count": 25,
   "id": "d37d58d6-4f59-49c5-b738-db2433dd4ebf",
   "metadata": {},
   "outputs": [
    {
     "name": "stdout",
     "output_type": "stream",
     "text": [
      "[ 1.22428644 -1.98004512 -2.00816303  0.5602297  -0.2171359  -1.44399825\n",
      "  1.61112597 -0.51009885]\n"
     ]
    }
   ],
   "source": [
    "y = np.random.randn(8)\n",
    "print(y)"
   ]
  },
  {
   "cell_type": "code",
   "execution_count": 26,
   "id": "e875bed0-88a2-490d-9232-48d30a86bbca",
   "metadata": {},
   "outputs": [
    {
     "data": {
      "text/plain": [
       "array([ 1.22428644,  0.25632373, -0.23347774,  1.2512674 ,  0.7215316 ,\n",
       "       -0.85568361,  1.61112597, -0.1453766 ])"
      ]
     },
     "execution_count": 26,
     "metadata": {},
     "output_type": "execute_result"
    }
   ],
   "source": [
    "np.maximum(x,y)"
   ]
  },
  {
   "cell_type": "markdown",
   "id": "9e334dc5-a3d4-4c87-b508-a9bd2d5fa927",
   "metadata": {},
   "source": [
    "# Mathematical n  Statical Methods"
   ]
  },
  {
   "cell_type": "code",
   "execution_count": 27,
   "id": "ffe6bb01-0728-43aa-bdbe-4eb72765eaf2",
   "metadata": {},
   "outputs": [
    {
     "name": "stdout",
     "output_type": "stream",
     "text": [
      "[[ 1.30031511 -0.33374906 -0.19534553  1.39835583]\n",
      " [ 0.5348012   1.01132757  0.53449753 -0.05840881]\n",
      " [-1.92058528  1.46087822 -0.66800582  0.65909455]\n",
      " [-0.63879062  0.45980507 -2.07477054 -0.46163596]\n",
      " [ 2.57071687  1.82312532  0.22594006  0.59498699]]\n"
     ]
    }
   ],
   "source": [
    "arr = np.random.randn(5,4)\n",
    "print(arr)"
   ]
  },
  {
   "cell_type": "code",
   "execution_count": 28,
   "id": "a1ac0841-6635-4e40-b79d-7edea2d97cb3",
   "metadata": {},
   "outputs": [
    {
     "name": "stdout",
     "output_type": "stream",
     "text": [
      "Mean:  0.31112763608221966\n",
      "Mean:  0.31112763608221966\n",
      "Sum:  6.222552721644393\n",
      "Sum:  6.222552721644393\n"
     ]
    }
   ],
   "source": [
    "print(\"Mean: \", arr.mean())\n",
    "print(\"Mean: \", np.mean(arr))\n",
    "print(\"Sum: \", arr.sum())\n",
    "print(\"Sum: \", np.sum(arr))"
   ]
  },
  {
   "cell_type": "code",
   "execution_count": 30,
   "id": "5054b3ff-3105-44d2-91fb-ee7183e52f51",
   "metadata": {},
   "outputs": [
    {
     "name": "stdout",
     "output_type": "stream",
     "text": [
      "[ 0.54239409  0.50555437 -0.11715458 -0.67884801  1.30369231]\n"
     ]
    }
   ],
   "source": [
    "# mean for row\n",
    "print(arr.mean(axis=1))"
   ]
  },
  {
   "cell_type": "code",
   "execution_count": 31,
   "id": "0358ec68-e123-447e-bb13-cf797533d9ea",
   "metadata": {},
   "outputs": [
    {
     "name": "stdout",
     "output_type": "stream",
     "text": [
      "[ 0.36929146  0.88427742 -0.43553686  0.42647852]\n"
     ]
    }
   ],
   "source": [
    "# mean for columns\n",
    "print(arr.mean(axis=0))"
   ]
  },
  {
   "cell_type": "code",
   "execution_count": 33,
   "id": "be6b533b-2134-4e59-b752-2e74a5da6b7e",
   "metadata": {},
   "outputs": [
    {
     "name": "stdout",
     "output_type": "stream",
     "text": [
      "[ 2.16957636  2.0222175  -0.46861833 -2.71539205  5.21476924]\n",
      "[ 1.84645729  4.42138712 -2.1776843   2.13239261]\n"
     ]
    }
   ],
   "source": [
    "# sum for row n columns\n",
    "print(arr.sum(axis=1))\n",
    "print(arr.sum(axis=0))"
   ]
  },
  {
   "cell_type": "markdown",
   "id": "78828d4d-93b1-4436-a9c7-9058edd34ba9",
   "metadata": {},
   "source": [
    "# Linear Algebra"
   ]
  },
  {
   "cell_type": "code",
   "execution_count": 35,
   "id": "e59eb75f-029c-4579-b20d-72d08e206f20",
   "metadata": {},
   "outputs": [
    {
     "name": "stdout",
     "output_type": "stream",
     "text": [
      "[[0 1]\n",
      " [2 3]] \n",
      "\n",
      " [[0 2]\n",
      " [4 6]] \n",
      "\n",
      " [[0 3]\n",
      " [6 9]]\n"
     ]
    }
   ],
   "source": [
    "m1 = np.arange(4).reshape(2,2)\n",
    "m2 = (np.arange(4)*2).reshape(2,2)\n",
    "m3 = (np.arange(4)*3).reshape(2,2)\n",
    "\n",
    "print(m1 ,'\\n\\n',m2,'\\n\\n',m3)"
   ]
  },
  {
   "cell_type": "code",
   "execution_count": 36,
   "id": "fe13c170-db68-43f0-9051-21921cb93f64",
   "metadata": {},
   "outputs": [
    {
     "name": "stdout",
     "output_type": "stream",
     "text": [
      "[[ 36  66]\n",
      " [132 234]]\n"
     ]
    }
   ],
   "source": [
    "print(np.linalg.multi_dot([m1,m2,m3]))"
   ]
  },
  {
   "cell_type": "code",
   "execution_count": 41,
   "id": "7c66962e-bf0b-4cb3-aae4-8d52b6aa9c30",
   "metadata": {},
   "outputs": [],
   "source": [
    "#  3x+y=9 , x+2y=8\n",
    "\n",
    "a = np.array([[3,1],[1,2]])\n",
    "b = np.array([9,8])"
   ]
  },
  {
   "cell_type": "code",
   "execution_count": 42,
   "id": "424808cf-0fca-4435-a24d-9c2907450d9b",
   "metadata": {},
   "outputs": [
    {
     "name": "stdout",
     "output_type": "stream",
     "text": [
      "5.000000000000001\n"
     ]
    }
   ],
   "source": [
    "# Calculating the determinant of square matrix to check the matrix is invertible or not \n",
    "print(np.linalg.det(a))"
   ]
  },
  {
   "cell_type": "code",
   "execution_count": 40,
   "id": "984f4951-48da-4a59-9ba7-19dd62d20f04",
   "metadata": {},
   "outputs": [
    {
     "name": "stdout",
     "output_type": "stream",
     "text": [
      "[2. 3.]\n"
     ]
    }
   ],
   "source": [
    "# solving linear equation problem using solve fun\n",
    "print(np.linalg.solve(a,b))"
   ]
  },
  {
   "cell_type": "code",
   "execution_count": 43,
   "id": "05153e84-1d89-4357-b6bf-3fc5d6df7153",
   "metadata": {},
   "outputs": [
    {
     "name": "stdout",
     "output_type": "stream",
     "text": [
      "[[ 0.4 -0.2]\n",
      " [-0.2  0.6]]\n"
     ]
    }
   ],
   "source": [
    "#  using inverse function to find inverse of  matrix which exist if determinnat is non zero\n",
    "print(np.linalg.inv(a))"
   ]
  },
  {
   "cell_type": "code",
   "execution_count": 45,
   "id": "60b939fa-a46c-43f1-a9e7-3b85dc0e1c99",
   "metadata": {},
   "outputs": [
    {
     "name": "stdout",
     "output_type": "stream",
     "text": [
      "2\n"
     ]
    }
   ],
   "source": [
    "# using matrix_rank to find the rank of a matrix, indicating the number of linearly independent rows or columns.\n",
    "print(np.linalg.matrix_rank(a))"
   ]
  },
  {
   "cell_type": "markdown",
   "id": "0960e700-63a8-4194-83fb-5d853d7f278c",
   "metadata": {},
   "source": [
    "# array -oriented programming with array"
   ]
  },
  {
   "cell_type": "code",
   "execution_count": 48,
   "id": "534e9325-548e-41ec-a5ae-8617eeb8ffde",
   "metadata": {},
   "outputs": [],
   "source": [
    "xarr = np.array([1.1,1.2,1.3,1.4,1.5])\n",
    "yarr = np.array([2.1,2.2,2.3,2.4,2.5])\n",
    "cond = np.array([True,False,True,True,False])"
   ]
  },
  {
   "cell_type": "code",
   "execution_count": 49,
   "id": "c1b6f655-76de-4c19-b614-c066f3107bf3",
   "metadata": {},
   "outputs": [
    {
     "name": "stdout",
     "output_type": "stream",
     "text": [
      "[1.1, 2.2, 1.3, 1.4, 2.5]\n"
     ]
    }
   ],
   "source": [
    "result = [(x if c else y) for x,y,c in zip(xarr,yarr,cond)]\n",
    "print(result)"
   ]
  },
  {
   "cell_type": "code",
   "execution_count": 50,
   "id": "d650066f-96b9-41ef-92b5-9785f83d6cc1",
   "metadata": {},
   "outputs": [
    {
     "name": "stdout",
     "output_type": "stream",
     "text": [
      "[1.1 2.2 1.3 1.4 2.5]\n"
     ]
    }
   ],
   "source": [
    "result = np.where(cond,xarr,yarr)\n",
    "print(result)"
   ]
  },
  {
   "cell_type": "code",
   "execution_count": 51,
   "id": "d0aea208-a841-4400-a4ec-fbdadb9e9083",
   "metadata": {},
   "outputs": [
    {
     "name": "stdout",
     "output_type": "stream",
     "text": [
      "[[ 0.27345542 -0.51167344 -0.46109402 -0.45432799]\n",
      " [ 0.5611862  -1.79370635  1.45233915  0.39840462]\n",
      " [-0.83562936  0.10318935  0.36446703 -0.23961611]\n",
      " [-1.07672892 -1.18801026  0.01820394  0.45667133]]\n"
     ]
    }
   ],
   "source": [
    "arr = np.random.randn(4,4)\n",
    "print(arr)"
   ]
  },
  {
   "cell_type": "code",
   "execution_count": 52,
   "id": "55e7d9a7-0a1b-49f6-bb3f-7f7fc26a4389",
   "metadata": {},
   "outputs": [
    {
     "name": "stdout",
     "output_type": "stream",
     "text": [
      "[[ True False False False]\n",
      " [ True False  True  True]\n",
      " [False  True  True False]\n",
      " [False False  True  True]]\n"
     ]
    }
   ],
   "source": [
    "print(arr>0)"
   ]
  },
  {
   "cell_type": "code",
   "execution_count": 54,
   "id": "cef70ab9-4209-4f68-8abf-e59b360ce455",
   "metadata": {},
   "outputs": [
    {
     "name": "stdout",
     "output_type": "stream",
     "text": [
      "[[ 2 -2 -2 -2]\n",
      " [ 2 -2  2  2]\n",
      " [-2  2  2 -2]\n",
      " [-2 -2  2  2]]\n"
     ]
    }
   ],
   "source": [
    "result = np.where(arr>0,2,-2)\n",
    "print(result)"
   ]
  }
 ],
 "metadata": {
  "kernelspec": {
   "display_name": "Python 3 (ipykernel)",
   "language": "python",
   "name": "python3"
  },
  "language_info": {
   "codemirror_mode": {
    "name": "ipython",
    "version": 3
   },
   "file_extension": ".py",
   "mimetype": "text/x-python",
   "name": "python",
   "nbconvert_exporter": "python",
   "pygments_lexer": "ipython3",
   "version": "3.12.3"
  }
 },
 "nbformat": 4,
 "nbformat_minor": 5
}
