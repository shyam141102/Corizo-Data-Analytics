{
 "cells": [
  {
   "cell_type": "code",
   "execution_count": 1,
   "id": "a29b5734-5f5e-431f-a284-cc991ccb34db",
   "metadata": {},
   "outputs": [],
   "source": [
    "import pandas as pd\n",
    "import numpy as np\n",
    "from numpy import nan as NA"
   ]
  },
  {
   "cell_type": "markdown",
   "id": "92ca5a9f-7447-4571-95f1-dd983e12cb36",
   "metadata": {},
   "source": [
    "# Handling Missing Data"
   ]
  },
  {
   "cell_type": "code",
   "execution_count": 2,
   "id": "b3f9079a-3e77-4dfa-8521-abd0f26efdb8",
   "metadata": {},
   "outputs": [
    {
     "data": {
      "text/plain": [
       "0     aardvark\n",
       "1    artichoke\n",
       "2          NaN\n",
       "3      avocado\n",
       "dtype: object"
      ]
     },
     "execution_count": 2,
     "metadata": {},
     "output_type": "execute_result"
    }
   ],
   "source": [
    "string_data = pd.Series(['aardvark', 'artichoke', np.nan, 'avocado'])\n",
    "string_data"
   ]
  },
  {
   "cell_type": "code",
   "execution_count": 3,
   "id": "3031283d-e013-4629-a9c8-754f000cd21e",
   "metadata": {},
   "outputs": [
    {
     "data": {
      "text/plain": [
       "0    False\n",
       "1    False\n",
       "2     True\n",
       "3    False\n",
       "dtype: bool"
      ]
     },
     "execution_count": 3,
     "metadata": {},
     "output_type": "execute_result"
    }
   ],
   "source": [
    "string_data.isnull()"
   ]
  },
  {
   "cell_type": "code",
   "execution_count": 4,
   "id": "9777295b-0fb9-4518-b9f6-b03f80be4151",
   "metadata": {},
   "outputs": [
    {
     "data": {
      "text/plain": [
       "0         None\n",
       "1    artichoke\n",
       "2          NaN\n",
       "3      avocado\n",
       "dtype: object"
      ]
     },
     "execution_count": 4,
     "metadata": {},
     "output_type": "execute_result"
    }
   ],
   "source": [
    "string_data[0] = None\n",
    "string_data"
   ]
  },
  {
   "cell_type": "code",
   "execution_count": 5,
   "id": "b05faa6e-1797-45f0-a3dc-20671294db03",
   "metadata": {},
   "outputs": [
    {
     "data": {
      "text/plain": [
       "0     True\n",
       "1    False\n",
       "2     True\n",
       "3    False\n",
       "dtype: bool"
      ]
     },
     "execution_count": 5,
     "metadata": {},
     "output_type": "execute_result"
    }
   ],
   "source": [
    "string_data.isnull()"
   ]
  },
  {
   "cell_type": "markdown",
   "id": "2b9fd8e2-698f-4344-8555-014f2cdb85cb",
   "metadata": {},
   "source": [
    "# Fltering Out Missing Data"
   ]
  },
  {
   "cell_type": "code",
   "execution_count": 6,
   "id": "5bb07640-08c8-4165-9606-1e79d3091c9d",
   "metadata": {},
   "outputs": [
    {
     "data": {
      "text/plain": [
       "0    1.0\n",
       "1    NaN\n",
       "2    3.5\n",
       "3    NaN\n",
       "4    7.0\n",
       "dtype: float64"
      ]
     },
     "execution_count": 6,
     "metadata": {},
     "output_type": "execute_result"
    }
   ],
   "source": [
    "data = pd.Series([1,NA, 3.5,NA,7])\n",
    "data"
   ]
  },
  {
   "cell_type": "code",
   "execution_count": 7,
   "id": "52208172-dec8-4542-ab5b-c2817b615899",
   "metadata": {},
   "outputs": [
    {
     "data": {
      "text/plain": [
       "0    1.0\n",
       "2    3.5\n",
       "4    7.0\n",
       "dtype: float64"
      ]
     },
     "execution_count": 7,
     "metadata": {},
     "output_type": "execute_result"
    }
   ],
   "source": [
    "data.dropna()"
   ]
  },
  {
   "cell_type": "code",
   "execution_count": 8,
   "id": "e76f16be-131c-4e9d-89f3-92973dfd5cc7",
   "metadata": {},
   "outputs": [
    {
     "data": {
      "text/html": [
       "<div>\n",
       "<style scoped>\n",
       "    .dataframe tbody tr th:only-of-type {\n",
       "        vertical-align: middle;\n",
       "    }\n",
       "\n",
       "    .dataframe tbody tr th {\n",
       "        vertical-align: top;\n",
       "    }\n",
       "\n",
       "    .dataframe thead th {\n",
       "        text-align: right;\n",
       "    }\n",
       "</style>\n",
       "<table border=\"1\" class=\"dataframe\">\n",
       "  <thead>\n",
       "    <tr style=\"text-align: right;\">\n",
       "      <th></th>\n",
       "      <th>0</th>\n",
       "      <th>1</th>\n",
       "      <th>2</th>\n",
       "    </tr>\n",
       "  </thead>\n",
       "  <tbody>\n",
       "    <tr>\n",
       "      <th>0</th>\n",
       "      <td>1.0</td>\n",
       "      <td>6.5</td>\n",
       "      <td>3.0</td>\n",
       "    </tr>\n",
       "    <tr>\n",
       "      <th>1</th>\n",
       "      <td>1.0</td>\n",
       "      <td>NaN</td>\n",
       "      <td>NaN</td>\n",
       "    </tr>\n",
       "    <tr>\n",
       "      <th>2</th>\n",
       "      <td>NaN</td>\n",
       "      <td>NaN</td>\n",
       "      <td>NaN</td>\n",
       "    </tr>\n",
       "    <tr>\n",
       "      <th>3</th>\n",
       "      <td>NaN</td>\n",
       "      <td>6.5</td>\n",
       "      <td>3.0</td>\n",
       "    </tr>\n",
       "  </tbody>\n",
       "</table>\n",
       "</div>"
      ],
      "text/plain": [
       "     0    1    2\n",
       "0  1.0  6.5  3.0\n",
       "1  1.0  NaN  NaN\n",
       "2  NaN  NaN  NaN\n",
       "3  NaN  6.5  3.0"
      ]
     },
     "execution_count": 8,
     "metadata": {},
     "output_type": "execute_result"
    }
   ],
   "source": [
    "data = pd.DataFrame([[1., 6.5, 3.], [1., NA, NA], [NA, NA, NA], [NA, 6.5, 3.]])\n",
    "data"
   ]
  },
  {
   "cell_type": "code",
   "execution_count": 9,
   "id": "90fa49a7-dedf-4109-8765-f89684036182",
   "metadata": {},
   "outputs": [
    {
     "data": {
      "text/html": [
       "<div>\n",
       "<style scoped>\n",
       "    .dataframe tbody tr th:only-of-type {\n",
       "        vertical-align: middle;\n",
       "    }\n",
       "\n",
       "    .dataframe tbody tr th {\n",
       "        vertical-align: top;\n",
       "    }\n",
       "\n",
       "    .dataframe thead th {\n",
       "        text-align: right;\n",
       "    }\n",
       "</style>\n",
       "<table border=\"1\" class=\"dataframe\">\n",
       "  <thead>\n",
       "    <tr style=\"text-align: right;\">\n",
       "      <th></th>\n",
       "      <th>0</th>\n",
       "      <th>1</th>\n",
       "      <th>2</th>\n",
       "    </tr>\n",
       "  </thead>\n",
       "  <tbody>\n",
       "    <tr>\n",
       "      <th>0</th>\n",
       "      <td>1.0</td>\n",
       "      <td>6.5</td>\n",
       "      <td>3.0</td>\n",
       "    </tr>\n",
       "  </tbody>\n",
       "</table>\n",
       "</div>"
      ],
      "text/plain": [
       "     0    1    2\n",
       "0  1.0  6.5  3.0"
      ]
     },
     "execution_count": 9,
     "metadata": {},
     "output_type": "execute_result"
    }
   ],
   "source": [
    "data.dropna()"
   ]
  },
  {
   "cell_type": "code",
   "execution_count": 10,
   "id": "ab3981b1-a23c-4efc-9282-49349acbaa9c",
   "metadata": {},
   "outputs": [
    {
     "data": {
      "text/html": [
       "<div>\n",
       "<style scoped>\n",
       "    .dataframe tbody tr th:only-of-type {\n",
       "        vertical-align: middle;\n",
       "    }\n",
       "\n",
       "    .dataframe tbody tr th {\n",
       "        vertical-align: top;\n",
       "    }\n",
       "\n",
       "    .dataframe thead th {\n",
       "        text-align: right;\n",
       "    }\n",
       "</style>\n",
       "<table border=\"1\" class=\"dataframe\">\n",
       "  <thead>\n",
       "    <tr style=\"text-align: right;\">\n",
       "      <th></th>\n",
       "      <th>0</th>\n",
       "      <th>1</th>\n",
       "      <th>2</th>\n",
       "    </tr>\n",
       "  </thead>\n",
       "  <tbody>\n",
       "    <tr>\n",
       "      <th>0</th>\n",
       "      <td>1.0</td>\n",
       "      <td>6.5</td>\n",
       "      <td>3.0</td>\n",
       "    </tr>\n",
       "    <tr>\n",
       "      <th>1</th>\n",
       "      <td>1.0</td>\n",
       "      <td>NaN</td>\n",
       "      <td>NaN</td>\n",
       "    </tr>\n",
       "    <tr>\n",
       "      <th>3</th>\n",
       "      <td>NaN</td>\n",
       "      <td>6.5</td>\n",
       "      <td>3.0</td>\n",
       "    </tr>\n",
       "  </tbody>\n",
       "</table>\n",
       "</div>"
      ],
      "text/plain": [
       "     0    1    2\n",
       "0  1.0  6.5  3.0\n",
       "1  1.0  NaN  NaN\n",
       "3  NaN  6.5  3.0"
      ]
     },
     "execution_count": 10,
     "metadata": {},
     "output_type": "execute_result"
    }
   ],
   "source": [
    "data.dropna(how='all')"
   ]
  },
  {
   "cell_type": "code",
   "execution_count": 11,
   "id": "1afe11cf-61bb-4b1f-a7e9-8f2bada0620b",
   "metadata": {},
   "outputs": [
    {
     "data": {
      "text/html": [
       "<div>\n",
       "<style scoped>\n",
       "    .dataframe tbody tr th:only-of-type {\n",
       "        vertical-align: middle;\n",
       "    }\n",
       "\n",
       "    .dataframe tbody tr th {\n",
       "        vertical-align: top;\n",
       "    }\n",
       "\n",
       "    .dataframe thead th {\n",
       "        text-align: right;\n",
       "    }\n",
       "</style>\n",
       "<table border=\"1\" class=\"dataframe\">\n",
       "  <thead>\n",
       "    <tr style=\"text-align: right;\">\n",
       "      <th></th>\n",
       "    </tr>\n",
       "  </thead>\n",
       "  <tbody>\n",
       "    <tr>\n",
       "      <th>0</th>\n",
       "    </tr>\n",
       "    <tr>\n",
       "      <th>1</th>\n",
       "    </tr>\n",
       "    <tr>\n",
       "      <th>2</th>\n",
       "    </tr>\n",
       "    <tr>\n",
       "      <th>3</th>\n",
       "    </tr>\n",
       "  </tbody>\n",
       "</table>\n",
       "</div>"
      ],
      "text/plain": [
       "Empty DataFrame\n",
       "Columns: []\n",
       "Index: [0, 1, 2, 3]"
      ]
     },
     "execution_count": 11,
     "metadata": {},
     "output_type": "execute_result"
    }
   ],
   "source": [
    "data.dropna(axis=1)"
   ]
  },
  {
   "cell_type": "code",
   "execution_count": 12,
   "id": "8f8baa70-935f-43d7-90f3-7a6d9eacd4db",
   "metadata": {},
   "outputs": [
    {
     "data": {
      "text/html": [
       "<div>\n",
       "<style scoped>\n",
       "    .dataframe tbody tr th:only-of-type {\n",
       "        vertical-align: middle;\n",
       "    }\n",
       "\n",
       "    .dataframe tbody tr th {\n",
       "        vertical-align: top;\n",
       "    }\n",
       "\n",
       "    .dataframe thead th {\n",
       "        text-align: right;\n",
       "    }\n",
       "</style>\n",
       "<table border=\"1\" class=\"dataframe\">\n",
       "  <thead>\n",
       "    <tr style=\"text-align: right;\">\n",
       "      <th></th>\n",
       "      <th>0</th>\n",
       "      <th>1</th>\n",
       "      <th>2</th>\n",
       "      <th>4</th>\n",
       "    </tr>\n",
       "  </thead>\n",
       "  <tbody>\n",
       "    <tr>\n",
       "      <th>0</th>\n",
       "      <td>1.0</td>\n",
       "      <td>6.5</td>\n",
       "      <td>3.0</td>\n",
       "      <td>NaN</td>\n",
       "    </tr>\n",
       "    <tr>\n",
       "      <th>1</th>\n",
       "      <td>1.0</td>\n",
       "      <td>NaN</td>\n",
       "      <td>NaN</td>\n",
       "      <td>NaN</td>\n",
       "    </tr>\n",
       "    <tr>\n",
       "      <th>2</th>\n",
       "      <td>NaN</td>\n",
       "      <td>NaN</td>\n",
       "      <td>NaN</td>\n",
       "      <td>NaN</td>\n",
       "    </tr>\n",
       "    <tr>\n",
       "      <th>3</th>\n",
       "      <td>NaN</td>\n",
       "      <td>6.5</td>\n",
       "      <td>3.0</td>\n",
       "      <td>NaN</td>\n",
       "    </tr>\n",
       "  </tbody>\n",
       "</table>\n",
       "</div>"
      ],
      "text/plain": [
       "     0    1    2   4\n",
       "0  1.0  6.5  3.0 NaN\n",
       "1  1.0  NaN  NaN NaN\n",
       "2  NaN  NaN  NaN NaN\n",
       "3  NaN  6.5  3.0 NaN"
      ]
     },
     "execution_count": 12,
     "metadata": {},
     "output_type": "execute_result"
    }
   ],
   "source": [
    "data[4]=NA\n",
    "data"
   ]
  },
  {
   "cell_type": "code",
   "execution_count": 13,
   "id": "14a8c69b-ed34-449e-a0fd-1092cef48b09",
   "metadata": {},
   "outputs": [
    {
     "data": {
      "text/html": [
       "<div>\n",
       "<style scoped>\n",
       "    .dataframe tbody tr th:only-of-type {\n",
       "        vertical-align: middle;\n",
       "    }\n",
       "\n",
       "    .dataframe tbody tr th {\n",
       "        vertical-align: top;\n",
       "    }\n",
       "\n",
       "    .dataframe thead th {\n",
       "        text-align: right;\n",
       "    }\n",
       "</style>\n",
       "<table border=\"1\" class=\"dataframe\">\n",
       "  <thead>\n",
       "    <tr style=\"text-align: right;\">\n",
       "      <th></th>\n",
       "      <th>0</th>\n",
       "      <th>1</th>\n",
       "      <th>2</th>\n",
       "    </tr>\n",
       "  </thead>\n",
       "  <tbody>\n",
       "    <tr>\n",
       "      <th>0</th>\n",
       "      <td>1.0</td>\n",
       "      <td>6.5</td>\n",
       "      <td>3.0</td>\n",
       "    </tr>\n",
       "    <tr>\n",
       "      <th>1</th>\n",
       "      <td>1.0</td>\n",
       "      <td>NaN</td>\n",
       "      <td>NaN</td>\n",
       "    </tr>\n",
       "    <tr>\n",
       "      <th>2</th>\n",
       "      <td>NaN</td>\n",
       "      <td>NaN</td>\n",
       "      <td>NaN</td>\n",
       "    </tr>\n",
       "    <tr>\n",
       "      <th>3</th>\n",
       "      <td>NaN</td>\n",
       "      <td>6.5</td>\n",
       "      <td>3.0</td>\n",
       "    </tr>\n",
       "  </tbody>\n",
       "</table>\n",
       "</div>"
      ],
      "text/plain": [
       "     0    1    2\n",
       "0  1.0  6.5  3.0\n",
       "1  1.0  NaN  NaN\n",
       "2  NaN  NaN  NaN\n",
       "3  NaN  6.5  3.0"
      ]
     },
     "execution_count": 13,
     "metadata": {},
     "output_type": "execute_result"
    }
   ],
   "source": [
    "data.dropna(axis=1, how='all')\n"
   ]
  },
  {
   "cell_type": "code",
   "execution_count": 14,
   "id": "910eb42e-becf-474c-a990-9d458040aed9",
   "metadata": {},
   "outputs": [
    {
     "data": {
      "text/html": [
       "<div>\n",
       "<style scoped>\n",
       "    .dataframe tbody tr th:only-of-type {\n",
       "        vertical-align: middle;\n",
       "    }\n",
       "\n",
       "    .dataframe tbody tr th {\n",
       "        vertical-align: top;\n",
       "    }\n",
       "\n",
       "    .dataframe thead th {\n",
       "        text-align: right;\n",
       "    }\n",
       "</style>\n",
       "<table border=\"1\" class=\"dataframe\">\n",
       "  <thead>\n",
       "    <tr style=\"text-align: right;\">\n",
       "      <th></th>\n",
       "      <th>0</th>\n",
       "      <th>1</th>\n",
       "      <th>2</th>\n",
       "    </tr>\n",
       "  </thead>\n",
       "  <tbody>\n",
       "    <tr>\n",
       "      <th>0</th>\n",
       "      <td>-0.470419</td>\n",
       "      <td>-0.472831</td>\n",
       "      <td>-0.848070</td>\n",
       "    </tr>\n",
       "    <tr>\n",
       "      <th>1</th>\n",
       "      <td>-1.998794</td>\n",
       "      <td>-0.403329</td>\n",
       "      <td>0.075866</td>\n",
       "    </tr>\n",
       "    <tr>\n",
       "      <th>2</th>\n",
       "      <td>0.482496</td>\n",
       "      <td>-1.249057</td>\n",
       "      <td>0.155032</td>\n",
       "    </tr>\n",
       "    <tr>\n",
       "      <th>3</th>\n",
       "      <td>0.967330</td>\n",
       "      <td>0.284631</td>\n",
       "      <td>2.040830</td>\n",
       "    </tr>\n",
       "    <tr>\n",
       "      <th>4</th>\n",
       "      <td>0.760563</td>\n",
       "      <td>0.225573</td>\n",
       "      <td>-0.108233</td>\n",
       "    </tr>\n",
       "    <tr>\n",
       "      <th>5</th>\n",
       "      <td>-0.220343</td>\n",
       "      <td>0.037216</td>\n",
       "      <td>1.101113</td>\n",
       "    </tr>\n",
       "    <tr>\n",
       "      <th>6</th>\n",
       "      <td>1.687978</td>\n",
       "      <td>-1.102490</td>\n",
       "      <td>-0.701953</td>\n",
       "    </tr>\n",
       "  </tbody>\n",
       "</table>\n",
       "</div>"
      ],
      "text/plain": [
       "          0         1         2\n",
       "0 -0.470419 -0.472831 -0.848070\n",
       "1 -1.998794 -0.403329  0.075866\n",
       "2  0.482496 -1.249057  0.155032\n",
       "3  0.967330  0.284631  2.040830\n",
       "4  0.760563  0.225573 -0.108233\n",
       "5 -0.220343  0.037216  1.101113\n",
       "6  1.687978 -1.102490 -0.701953"
      ]
     },
     "execution_count": 14,
     "metadata": {},
     "output_type": "execute_result"
    }
   ],
   "source": [
    "df = pd.DataFrame(np.random.randn(7, 3))\n",
    "df"
   ]
  },
  {
   "cell_type": "code",
   "execution_count": 15,
   "id": "6aa71c56-f4ee-48c3-8513-c49cdab0b20c",
   "metadata": {},
   "outputs": [
    {
     "data": {
      "text/html": [
       "<div>\n",
       "<style scoped>\n",
       "    .dataframe tbody tr th:only-of-type {\n",
       "        vertical-align: middle;\n",
       "    }\n",
       "\n",
       "    .dataframe tbody tr th {\n",
       "        vertical-align: top;\n",
       "    }\n",
       "\n",
       "    .dataframe thead th {\n",
       "        text-align: right;\n",
       "    }\n",
       "</style>\n",
       "<table border=\"1\" class=\"dataframe\">\n",
       "  <thead>\n",
       "    <tr style=\"text-align: right;\">\n",
       "      <th></th>\n",
       "      <th>0</th>\n",
       "      <th>1</th>\n",
       "      <th>2</th>\n",
       "    </tr>\n",
       "  </thead>\n",
       "  <tbody>\n",
       "    <tr>\n",
       "      <th>0</th>\n",
       "      <td>-0.470419</td>\n",
       "      <td>NaN</td>\n",
       "      <td>-0.848070</td>\n",
       "    </tr>\n",
       "    <tr>\n",
       "      <th>1</th>\n",
       "      <td>-1.998794</td>\n",
       "      <td>NaN</td>\n",
       "      <td>0.075866</td>\n",
       "    </tr>\n",
       "    <tr>\n",
       "      <th>2</th>\n",
       "      <td>0.482496</td>\n",
       "      <td>NaN</td>\n",
       "      <td>0.155032</td>\n",
       "    </tr>\n",
       "    <tr>\n",
       "      <th>3</th>\n",
       "      <td>0.967330</td>\n",
       "      <td>NaN</td>\n",
       "      <td>2.040830</td>\n",
       "    </tr>\n",
       "    <tr>\n",
       "      <th>4</th>\n",
       "      <td>0.760563</td>\n",
       "      <td>0.225573</td>\n",
       "      <td>-0.108233</td>\n",
       "    </tr>\n",
       "    <tr>\n",
       "      <th>5</th>\n",
       "      <td>-0.220343</td>\n",
       "      <td>0.037216</td>\n",
       "      <td>1.101113</td>\n",
       "    </tr>\n",
       "    <tr>\n",
       "      <th>6</th>\n",
       "      <td>1.687978</td>\n",
       "      <td>-1.102490</td>\n",
       "      <td>-0.701953</td>\n",
       "    </tr>\n",
       "  </tbody>\n",
       "</table>\n",
       "</div>"
      ],
      "text/plain": [
       "          0         1         2\n",
       "0 -0.470419       NaN -0.848070\n",
       "1 -1.998794       NaN  0.075866\n",
       "2  0.482496       NaN  0.155032\n",
       "3  0.967330       NaN  2.040830\n",
       "4  0.760563  0.225573 -0.108233\n",
       "5 -0.220343  0.037216  1.101113\n",
       "6  1.687978 -1.102490 -0.701953"
      ]
     },
     "execution_count": 15,
     "metadata": {},
     "output_type": "execute_result"
    }
   ],
   "source": [
    "df.iloc[:4, 1] = NA\n",
    "df"
   ]
  },
  {
   "cell_type": "code",
   "execution_count": 16,
   "id": "62f4fc11-8cf8-4919-a6bb-98944e2fff10",
   "metadata": {},
   "outputs": [
    {
     "data": {
      "text/html": [
       "<div>\n",
       "<style scoped>\n",
       "    .dataframe tbody tr th:only-of-type {\n",
       "        vertical-align: middle;\n",
       "    }\n",
       "\n",
       "    .dataframe tbody tr th {\n",
       "        vertical-align: top;\n",
       "    }\n",
       "\n",
       "    .dataframe thead th {\n",
       "        text-align: right;\n",
       "    }\n",
       "</style>\n",
       "<table border=\"1\" class=\"dataframe\">\n",
       "  <thead>\n",
       "    <tr style=\"text-align: right;\">\n",
       "      <th></th>\n",
       "      <th>0</th>\n",
       "      <th>1</th>\n",
       "      <th>2</th>\n",
       "    </tr>\n",
       "  </thead>\n",
       "  <tbody>\n",
       "    <tr>\n",
       "      <th>0</th>\n",
       "      <td>-0.470419</td>\n",
       "      <td>NaN</td>\n",
       "      <td>NaN</td>\n",
       "    </tr>\n",
       "    <tr>\n",
       "      <th>1</th>\n",
       "      <td>-1.998794</td>\n",
       "      <td>NaN</td>\n",
       "      <td>NaN</td>\n",
       "    </tr>\n",
       "    <tr>\n",
       "      <th>2</th>\n",
       "      <td>0.482496</td>\n",
       "      <td>NaN</td>\n",
       "      <td>0.155032</td>\n",
       "    </tr>\n",
       "    <tr>\n",
       "      <th>3</th>\n",
       "      <td>0.967330</td>\n",
       "      <td>NaN</td>\n",
       "      <td>2.040830</td>\n",
       "    </tr>\n",
       "    <tr>\n",
       "      <th>4</th>\n",
       "      <td>0.760563</td>\n",
       "      <td>0.225573</td>\n",
       "      <td>-0.108233</td>\n",
       "    </tr>\n",
       "    <tr>\n",
       "      <th>5</th>\n",
       "      <td>-0.220343</td>\n",
       "      <td>0.037216</td>\n",
       "      <td>1.101113</td>\n",
       "    </tr>\n",
       "    <tr>\n",
       "      <th>6</th>\n",
       "      <td>1.687978</td>\n",
       "      <td>-1.102490</td>\n",
       "      <td>-0.701953</td>\n",
       "    </tr>\n",
       "  </tbody>\n",
       "</table>\n",
       "</div>"
      ],
      "text/plain": [
       "          0         1         2\n",
       "0 -0.470419       NaN       NaN\n",
       "1 -1.998794       NaN       NaN\n",
       "2  0.482496       NaN  0.155032\n",
       "3  0.967330       NaN  2.040830\n",
       "4  0.760563  0.225573 -0.108233\n",
       "5 -0.220343  0.037216  1.101113\n",
       "6  1.687978 -1.102490 -0.701953"
      ]
     },
     "execution_count": 16,
     "metadata": {},
     "output_type": "execute_result"
    }
   ],
   "source": [
    "df.iloc[:2, 2] = NA\n",
    "df"
   ]
  },
  {
   "cell_type": "code",
   "execution_count": 17,
   "id": "19bd73e2-fc43-4e44-9c1e-227a23e68eb6",
   "metadata": {},
   "outputs": [
    {
     "data": {
      "text/html": [
       "<div>\n",
       "<style scoped>\n",
       "    .dataframe tbody tr th:only-of-type {\n",
       "        vertical-align: middle;\n",
       "    }\n",
       "\n",
       "    .dataframe tbody tr th {\n",
       "        vertical-align: top;\n",
       "    }\n",
       "\n",
       "    .dataframe thead th {\n",
       "        text-align: right;\n",
       "    }\n",
       "</style>\n",
       "<table border=\"1\" class=\"dataframe\">\n",
       "  <thead>\n",
       "    <tr style=\"text-align: right;\">\n",
       "      <th></th>\n",
       "      <th>0</th>\n",
       "      <th>1</th>\n",
       "      <th>2</th>\n",
       "    </tr>\n",
       "  </thead>\n",
       "  <tbody>\n",
       "    <tr>\n",
       "      <th>4</th>\n",
       "      <td>0.760563</td>\n",
       "      <td>0.225573</td>\n",
       "      <td>-0.108233</td>\n",
       "    </tr>\n",
       "    <tr>\n",
       "      <th>5</th>\n",
       "      <td>-0.220343</td>\n",
       "      <td>0.037216</td>\n",
       "      <td>1.101113</td>\n",
       "    </tr>\n",
       "    <tr>\n",
       "      <th>6</th>\n",
       "      <td>1.687978</td>\n",
       "      <td>-1.102490</td>\n",
       "      <td>-0.701953</td>\n",
       "    </tr>\n",
       "  </tbody>\n",
       "</table>\n",
       "</div>"
      ],
      "text/plain": [
       "          0         1         2\n",
       "4  0.760563  0.225573 -0.108233\n",
       "5 -0.220343  0.037216  1.101113\n",
       "6  1.687978 -1.102490 -0.701953"
      ]
     },
     "execution_count": 17,
     "metadata": {},
     "output_type": "execute_result"
    }
   ],
   "source": [
    "df.dropna()"
   ]
  },
  {
   "cell_type": "code",
   "execution_count": 18,
   "id": "5c0a1895-6531-4863-bd45-a1d13bbdaea2",
   "metadata": {},
   "outputs": [
    {
     "data": {
      "text/html": [
       "<div>\n",
       "<style scoped>\n",
       "    .dataframe tbody tr th:only-of-type {\n",
       "        vertical-align: middle;\n",
       "    }\n",
       "\n",
       "    .dataframe tbody tr th {\n",
       "        vertical-align: top;\n",
       "    }\n",
       "\n",
       "    .dataframe thead th {\n",
       "        text-align: right;\n",
       "    }\n",
       "</style>\n",
       "<table border=\"1\" class=\"dataframe\">\n",
       "  <thead>\n",
       "    <tr style=\"text-align: right;\">\n",
       "      <th></th>\n",
       "      <th>0</th>\n",
       "      <th>1</th>\n",
       "      <th>2</th>\n",
       "    </tr>\n",
       "  </thead>\n",
       "  <tbody>\n",
       "    <tr>\n",
       "      <th>2</th>\n",
       "      <td>0.482496</td>\n",
       "      <td>NaN</td>\n",
       "      <td>0.155032</td>\n",
       "    </tr>\n",
       "    <tr>\n",
       "      <th>3</th>\n",
       "      <td>0.967330</td>\n",
       "      <td>NaN</td>\n",
       "      <td>2.040830</td>\n",
       "    </tr>\n",
       "    <tr>\n",
       "      <th>4</th>\n",
       "      <td>0.760563</td>\n",
       "      <td>0.225573</td>\n",
       "      <td>-0.108233</td>\n",
       "    </tr>\n",
       "    <tr>\n",
       "      <th>5</th>\n",
       "      <td>-0.220343</td>\n",
       "      <td>0.037216</td>\n",
       "      <td>1.101113</td>\n",
       "    </tr>\n",
       "    <tr>\n",
       "      <th>6</th>\n",
       "      <td>1.687978</td>\n",
       "      <td>-1.102490</td>\n",
       "      <td>-0.701953</td>\n",
       "    </tr>\n",
       "  </tbody>\n",
       "</table>\n",
       "</div>"
      ],
      "text/plain": [
       "          0         1         2\n",
       "2  0.482496       NaN  0.155032\n",
       "3  0.967330       NaN  2.040830\n",
       "4  0.760563  0.225573 -0.108233\n",
       "5 -0.220343  0.037216  1.101113\n",
       "6  1.687978 -1.102490 -0.701953"
      ]
     },
     "execution_count": 18,
     "metadata": {},
     "output_type": "execute_result"
    }
   ],
   "source": [
    "df.dropna(thresh=2)"
   ]
  },
  {
   "cell_type": "markdown",
   "id": "6361bfb6-daa8-433b-8499-423e7e56c678",
   "metadata": {},
   "source": [
    "# Filling In Missing Data"
   ]
  },
  {
   "cell_type": "code",
   "execution_count": 19,
   "id": "0dee3f44-ec12-4bea-b4d6-892bd4f176a0",
   "metadata": {},
   "outputs": [
    {
     "data": {
      "text/html": [
       "<div>\n",
       "<style scoped>\n",
       "    .dataframe tbody tr th:only-of-type {\n",
       "        vertical-align: middle;\n",
       "    }\n",
       "\n",
       "    .dataframe tbody tr th {\n",
       "        vertical-align: top;\n",
       "    }\n",
       "\n",
       "    .dataframe thead th {\n",
       "        text-align: right;\n",
       "    }\n",
       "</style>\n",
       "<table border=\"1\" class=\"dataframe\">\n",
       "  <thead>\n",
       "    <tr style=\"text-align: right;\">\n",
       "      <th></th>\n",
       "      <th>0</th>\n",
       "      <th>1</th>\n",
       "      <th>2</th>\n",
       "    </tr>\n",
       "  </thead>\n",
       "  <tbody>\n",
       "    <tr>\n",
       "      <th>0</th>\n",
       "      <td>-0.470419</td>\n",
       "      <td>0.000000</td>\n",
       "      <td>0.000000</td>\n",
       "    </tr>\n",
       "    <tr>\n",
       "      <th>1</th>\n",
       "      <td>-1.998794</td>\n",
       "      <td>0.000000</td>\n",
       "      <td>0.000000</td>\n",
       "    </tr>\n",
       "    <tr>\n",
       "      <th>2</th>\n",
       "      <td>0.482496</td>\n",
       "      <td>0.000000</td>\n",
       "      <td>0.155032</td>\n",
       "    </tr>\n",
       "    <tr>\n",
       "      <th>3</th>\n",
       "      <td>0.967330</td>\n",
       "      <td>0.000000</td>\n",
       "      <td>2.040830</td>\n",
       "    </tr>\n",
       "    <tr>\n",
       "      <th>4</th>\n",
       "      <td>0.760563</td>\n",
       "      <td>0.225573</td>\n",
       "      <td>-0.108233</td>\n",
       "    </tr>\n",
       "    <tr>\n",
       "      <th>5</th>\n",
       "      <td>-0.220343</td>\n",
       "      <td>0.037216</td>\n",
       "      <td>1.101113</td>\n",
       "    </tr>\n",
       "    <tr>\n",
       "      <th>6</th>\n",
       "      <td>1.687978</td>\n",
       "      <td>-1.102490</td>\n",
       "      <td>-0.701953</td>\n",
       "    </tr>\n",
       "  </tbody>\n",
       "</table>\n",
       "</div>"
      ],
      "text/plain": [
       "          0         1         2\n",
       "0 -0.470419  0.000000  0.000000\n",
       "1 -1.998794  0.000000  0.000000\n",
       "2  0.482496  0.000000  0.155032\n",
       "3  0.967330  0.000000  2.040830\n",
       "4  0.760563  0.225573 -0.108233\n",
       "5 -0.220343  0.037216  1.101113\n",
       "6  1.687978 -1.102490 -0.701953"
      ]
     },
     "execution_count": 19,
     "metadata": {},
     "output_type": "execute_result"
    }
   ],
   "source": [
    "df.fillna(0)"
   ]
  },
  {
   "cell_type": "code",
   "execution_count": 20,
   "id": "21c80dcc-adda-4233-82e4-ec905ed76ba4",
   "metadata": {},
   "outputs": [
    {
     "data": {
      "text/html": [
       "<div>\n",
       "<style scoped>\n",
       "    .dataframe tbody tr th:only-of-type {\n",
       "        vertical-align: middle;\n",
       "    }\n",
       "\n",
       "    .dataframe tbody tr th {\n",
       "        vertical-align: top;\n",
       "    }\n",
       "\n",
       "    .dataframe thead th {\n",
       "        text-align: right;\n",
       "    }\n",
       "</style>\n",
       "<table border=\"1\" class=\"dataframe\">\n",
       "  <thead>\n",
       "    <tr style=\"text-align: right;\">\n",
       "      <th></th>\n",
       "      <th>0</th>\n",
       "      <th>1</th>\n",
       "      <th>2</th>\n",
       "    </tr>\n",
       "  </thead>\n",
       "  <tbody>\n",
       "    <tr>\n",
       "      <th>0</th>\n",
       "      <td>-0.470419</td>\n",
       "      <td>0.500000</td>\n",
       "      <td>0.000000</td>\n",
       "    </tr>\n",
       "    <tr>\n",
       "      <th>1</th>\n",
       "      <td>-1.998794</td>\n",
       "      <td>0.500000</td>\n",
       "      <td>0.000000</td>\n",
       "    </tr>\n",
       "    <tr>\n",
       "      <th>2</th>\n",
       "      <td>0.482496</td>\n",
       "      <td>0.500000</td>\n",
       "      <td>0.155032</td>\n",
       "    </tr>\n",
       "    <tr>\n",
       "      <th>3</th>\n",
       "      <td>0.967330</td>\n",
       "      <td>0.500000</td>\n",
       "      <td>2.040830</td>\n",
       "    </tr>\n",
       "    <tr>\n",
       "      <th>4</th>\n",
       "      <td>0.760563</td>\n",
       "      <td>0.225573</td>\n",
       "      <td>-0.108233</td>\n",
       "    </tr>\n",
       "    <tr>\n",
       "      <th>5</th>\n",
       "      <td>-0.220343</td>\n",
       "      <td>0.037216</td>\n",
       "      <td>1.101113</td>\n",
       "    </tr>\n",
       "    <tr>\n",
       "      <th>6</th>\n",
       "      <td>1.687978</td>\n",
       "      <td>-1.102490</td>\n",
       "      <td>-0.701953</td>\n",
       "    </tr>\n",
       "  </tbody>\n",
       "</table>\n",
       "</div>"
      ],
      "text/plain": [
       "          0         1         2\n",
       "0 -0.470419  0.500000  0.000000\n",
       "1 -1.998794  0.500000  0.000000\n",
       "2  0.482496  0.500000  0.155032\n",
       "3  0.967330  0.500000  2.040830\n",
       "4  0.760563  0.225573 -0.108233\n",
       "5 -0.220343  0.037216  1.101113\n",
       "6  1.687978 -1.102490 -0.701953"
      ]
     },
     "execution_count": 20,
     "metadata": {},
     "output_type": "execute_result"
    }
   ],
   "source": [
    "df.fillna({1: 0.5, 2: 0})"
   ]
  },
  {
   "cell_type": "code",
   "execution_count": 21,
   "id": "118f66ee-e13e-4cc8-8df2-b50e6b710702",
   "metadata": {},
   "outputs": [],
   "source": [
    "df.fillna(0, inplace=True)"
   ]
  },
  {
   "cell_type": "code",
   "execution_count": 22,
   "id": "cbb99cab-20e2-4d6d-874d-5d279a635a91",
   "metadata": {},
   "outputs": [
    {
     "data": {
      "text/html": [
       "<div>\n",
       "<style scoped>\n",
       "    .dataframe tbody tr th:only-of-type {\n",
       "        vertical-align: middle;\n",
       "    }\n",
       "\n",
       "    .dataframe tbody tr th {\n",
       "        vertical-align: top;\n",
       "    }\n",
       "\n",
       "    .dataframe thead th {\n",
       "        text-align: right;\n",
       "    }\n",
       "</style>\n",
       "<table border=\"1\" class=\"dataframe\">\n",
       "  <thead>\n",
       "    <tr style=\"text-align: right;\">\n",
       "      <th></th>\n",
       "      <th>0</th>\n",
       "      <th>1</th>\n",
       "      <th>2</th>\n",
       "    </tr>\n",
       "  </thead>\n",
       "  <tbody>\n",
       "    <tr>\n",
       "      <th>0</th>\n",
       "      <td>-0.470419</td>\n",
       "      <td>0.000000</td>\n",
       "      <td>0.000000</td>\n",
       "    </tr>\n",
       "    <tr>\n",
       "      <th>1</th>\n",
       "      <td>-1.998794</td>\n",
       "      <td>0.000000</td>\n",
       "      <td>0.000000</td>\n",
       "    </tr>\n",
       "    <tr>\n",
       "      <th>2</th>\n",
       "      <td>0.482496</td>\n",
       "      <td>0.000000</td>\n",
       "      <td>0.155032</td>\n",
       "    </tr>\n",
       "    <tr>\n",
       "      <th>3</th>\n",
       "      <td>0.967330</td>\n",
       "      <td>0.000000</td>\n",
       "      <td>2.040830</td>\n",
       "    </tr>\n",
       "    <tr>\n",
       "      <th>4</th>\n",
       "      <td>0.760563</td>\n",
       "      <td>0.225573</td>\n",
       "      <td>-0.108233</td>\n",
       "    </tr>\n",
       "    <tr>\n",
       "      <th>5</th>\n",
       "      <td>-0.220343</td>\n",
       "      <td>0.037216</td>\n",
       "      <td>1.101113</td>\n",
       "    </tr>\n",
       "    <tr>\n",
       "      <th>6</th>\n",
       "      <td>1.687978</td>\n",
       "      <td>-1.102490</td>\n",
       "      <td>-0.701953</td>\n",
       "    </tr>\n",
       "  </tbody>\n",
       "</table>\n",
       "</div>"
      ],
      "text/plain": [
       "          0         1         2\n",
       "0 -0.470419  0.000000  0.000000\n",
       "1 -1.998794  0.000000  0.000000\n",
       "2  0.482496  0.000000  0.155032\n",
       "3  0.967330  0.000000  2.040830\n",
       "4  0.760563  0.225573 -0.108233\n",
       "5 -0.220343  0.037216  1.101113\n",
       "6  1.687978 -1.102490 -0.701953"
      ]
     },
     "execution_count": 22,
     "metadata": {},
     "output_type": "execute_result"
    }
   ],
   "source": [
    "df"
   ]
  },
  {
   "cell_type": "code",
   "execution_count": 23,
   "id": "136be576-103b-4f1c-ab23-5308796a6bb4",
   "metadata": {},
   "outputs": [
    {
     "data": {
      "text/html": [
       "<div>\n",
       "<style scoped>\n",
       "    .dataframe tbody tr th:only-of-type {\n",
       "        vertical-align: middle;\n",
       "    }\n",
       "\n",
       "    .dataframe tbody tr th {\n",
       "        vertical-align: top;\n",
       "    }\n",
       "\n",
       "    .dataframe thead th {\n",
       "        text-align: right;\n",
       "    }\n",
       "</style>\n",
       "<table border=\"1\" class=\"dataframe\">\n",
       "  <thead>\n",
       "    <tr style=\"text-align: right;\">\n",
       "      <th></th>\n",
       "      <th>0</th>\n",
       "      <th>1</th>\n",
       "      <th>2</th>\n",
       "    </tr>\n",
       "  </thead>\n",
       "  <tbody>\n",
       "    <tr>\n",
       "      <th>0</th>\n",
       "      <td>1.063807</td>\n",
       "      <td>0.989391</td>\n",
       "      <td>-1.073915</td>\n",
       "    </tr>\n",
       "    <tr>\n",
       "      <th>1</th>\n",
       "      <td>-1.349094</td>\n",
       "      <td>-0.993246</td>\n",
       "      <td>0.357562</td>\n",
       "    </tr>\n",
       "    <tr>\n",
       "      <th>2</th>\n",
       "      <td>0.879254</td>\n",
       "      <td>-1.283017</td>\n",
       "      <td>0.436039</td>\n",
       "    </tr>\n",
       "    <tr>\n",
       "      <th>3</th>\n",
       "      <td>1.078084</td>\n",
       "      <td>1.132281</td>\n",
       "      <td>-0.120435</td>\n",
       "    </tr>\n",
       "    <tr>\n",
       "      <th>4</th>\n",
       "      <td>1.071392</td>\n",
       "      <td>-0.251270</td>\n",
       "      <td>-0.600797</td>\n",
       "    </tr>\n",
       "    <tr>\n",
       "      <th>5</th>\n",
       "      <td>-0.700187</td>\n",
       "      <td>1.749962</td>\n",
       "      <td>-0.097710</td>\n",
       "    </tr>\n",
       "  </tbody>\n",
       "</table>\n",
       "</div>"
      ],
      "text/plain": [
       "          0         1         2\n",
       "0  1.063807  0.989391 -1.073915\n",
       "1 -1.349094 -0.993246  0.357562\n",
       "2  0.879254 -1.283017  0.436039\n",
       "3  1.078084  1.132281 -0.120435\n",
       "4  1.071392 -0.251270 -0.600797\n",
       "5 -0.700187  1.749962 -0.097710"
      ]
     },
     "execution_count": 23,
     "metadata": {},
     "output_type": "execute_result"
    }
   ],
   "source": [
    "df = pd.DataFrame(np.random.randn(6, 3))\n",
    "df"
   ]
  },
  {
   "cell_type": "code",
   "execution_count": 24,
   "id": "4256e126-7a70-4752-bdc9-fcc7095f1459",
   "metadata": {},
   "outputs": [
    {
     "data": {
      "text/html": [
       "<div>\n",
       "<style scoped>\n",
       "    .dataframe tbody tr th:only-of-type {\n",
       "        vertical-align: middle;\n",
       "    }\n",
       "\n",
       "    .dataframe tbody tr th {\n",
       "        vertical-align: top;\n",
       "    }\n",
       "\n",
       "    .dataframe thead th {\n",
       "        text-align: right;\n",
       "    }\n",
       "</style>\n",
       "<table border=\"1\" class=\"dataframe\">\n",
       "  <thead>\n",
       "    <tr style=\"text-align: right;\">\n",
       "      <th></th>\n",
       "      <th>0</th>\n",
       "      <th>1</th>\n",
       "      <th>2</th>\n",
       "    </tr>\n",
       "  </thead>\n",
       "  <tbody>\n",
       "    <tr>\n",
       "      <th>0</th>\n",
       "      <td>1.063807</td>\n",
       "      <td>0.989391</td>\n",
       "      <td>-1.073915</td>\n",
       "    </tr>\n",
       "    <tr>\n",
       "      <th>1</th>\n",
       "      <td>-1.349094</td>\n",
       "      <td>-0.993246</td>\n",
       "      <td>0.357562</td>\n",
       "    </tr>\n",
       "    <tr>\n",
       "      <th>2</th>\n",
       "      <td>0.879254</td>\n",
       "      <td>NaN</td>\n",
       "      <td>0.436039</td>\n",
       "    </tr>\n",
       "    <tr>\n",
       "      <th>3</th>\n",
       "      <td>1.078084</td>\n",
       "      <td>NaN</td>\n",
       "      <td>-0.120435</td>\n",
       "    </tr>\n",
       "    <tr>\n",
       "      <th>4</th>\n",
       "      <td>1.071392</td>\n",
       "      <td>NaN</td>\n",
       "      <td>NaN</td>\n",
       "    </tr>\n",
       "    <tr>\n",
       "      <th>5</th>\n",
       "      <td>-0.700187</td>\n",
       "      <td>NaN</td>\n",
       "      <td>NaN</td>\n",
       "    </tr>\n",
       "  </tbody>\n",
       "</table>\n",
       "</div>"
      ],
      "text/plain": [
       "          0         1         2\n",
       "0  1.063807  0.989391 -1.073915\n",
       "1 -1.349094 -0.993246  0.357562\n",
       "2  0.879254       NaN  0.436039\n",
       "3  1.078084       NaN -0.120435\n",
       "4  1.071392       NaN       NaN\n",
       "5 -0.700187       NaN       NaN"
      ]
     },
     "execution_count": 24,
     "metadata": {},
     "output_type": "execute_result"
    }
   ],
   "source": [
    "df.iloc[2:, 1] = NA\n",
    "df.iloc[4:, 2] = NA\n",
    "df"
   ]
  },
  {
   "cell_type": "code",
   "execution_count": 25,
   "id": "87aa267b-b5f9-4533-ba27-c9f5eb1fb72f",
   "metadata": {},
   "outputs": [
    {
     "name": "stderr",
     "output_type": "stream",
     "text": [
      "C:\\Users\\shyam\\AppData\\Local\\Temp\\ipykernel_12920\\1193302488.py:1: FutureWarning: DataFrame.fillna with 'method' is deprecated and will raise in a future version. Use obj.ffill() or obj.bfill() instead.\n",
      "  df.fillna(method='ffill')\n"
     ]
    },
    {
     "data": {
      "text/html": [
       "<div>\n",
       "<style scoped>\n",
       "    .dataframe tbody tr th:only-of-type {\n",
       "        vertical-align: middle;\n",
       "    }\n",
       "\n",
       "    .dataframe tbody tr th {\n",
       "        vertical-align: top;\n",
       "    }\n",
       "\n",
       "    .dataframe thead th {\n",
       "        text-align: right;\n",
       "    }\n",
       "</style>\n",
       "<table border=\"1\" class=\"dataframe\">\n",
       "  <thead>\n",
       "    <tr style=\"text-align: right;\">\n",
       "      <th></th>\n",
       "      <th>0</th>\n",
       "      <th>1</th>\n",
       "      <th>2</th>\n",
       "    </tr>\n",
       "  </thead>\n",
       "  <tbody>\n",
       "    <tr>\n",
       "      <th>0</th>\n",
       "      <td>1.063807</td>\n",
       "      <td>0.989391</td>\n",
       "      <td>-1.073915</td>\n",
       "    </tr>\n",
       "    <tr>\n",
       "      <th>1</th>\n",
       "      <td>-1.349094</td>\n",
       "      <td>-0.993246</td>\n",
       "      <td>0.357562</td>\n",
       "    </tr>\n",
       "    <tr>\n",
       "      <th>2</th>\n",
       "      <td>0.879254</td>\n",
       "      <td>-0.993246</td>\n",
       "      <td>0.436039</td>\n",
       "    </tr>\n",
       "    <tr>\n",
       "      <th>3</th>\n",
       "      <td>1.078084</td>\n",
       "      <td>-0.993246</td>\n",
       "      <td>-0.120435</td>\n",
       "    </tr>\n",
       "    <tr>\n",
       "      <th>4</th>\n",
       "      <td>1.071392</td>\n",
       "      <td>-0.993246</td>\n",
       "      <td>-0.120435</td>\n",
       "    </tr>\n",
       "    <tr>\n",
       "      <th>5</th>\n",
       "      <td>-0.700187</td>\n",
       "      <td>-0.993246</td>\n",
       "      <td>-0.120435</td>\n",
       "    </tr>\n",
       "  </tbody>\n",
       "</table>\n",
       "</div>"
      ],
      "text/plain": [
       "          0         1         2\n",
       "0  1.063807  0.989391 -1.073915\n",
       "1 -1.349094 -0.993246  0.357562\n",
       "2  0.879254 -0.993246  0.436039\n",
       "3  1.078084 -0.993246 -0.120435\n",
       "4  1.071392 -0.993246 -0.120435\n",
       "5 -0.700187 -0.993246 -0.120435"
      ]
     },
     "execution_count": 25,
     "metadata": {},
     "output_type": "execute_result"
    }
   ],
   "source": [
    "df.fillna(method='ffill')"
   ]
  },
  {
   "cell_type": "code",
   "execution_count": 26,
   "id": "1d4c0ea5-a1dc-4149-a6df-03f3746618ec",
   "metadata": {},
   "outputs": [
    {
     "name": "stderr",
     "output_type": "stream",
     "text": [
      "C:\\Users\\shyam\\AppData\\Local\\Temp\\ipykernel_12920\\1234214557.py:1: FutureWarning: DataFrame.fillna with 'method' is deprecated and will raise in a future version. Use obj.ffill() or obj.bfill() instead.\n",
      "  df.fillna(method='ffill', limit = 2)\n"
     ]
    },
    {
     "data": {
      "text/html": [
       "<div>\n",
       "<style scoped>\n",
       "    .dataframe tbody tr th:only-of-type {\n",
       "        vertical-align: middle;\n",
       "    }\n",
       "\n",
       "    .dataframe tbody tr th {\n",
       "        vertical-align: top;\n",
       "    }\n",
       "\n",
       "    .dataframe thead th {\n",
       "        text-align: right;\n",
       "    }\n",
       "</style>\n",
       "<table border=\"1\" class=\"dataframe\">\n",
       "  <thead>\n",
       "    <tr style=\"text-align: right;\">\n",
       "      <th></th>\n",
       "      <th>0</th>\n",
       "      <th>1</th>\n",
       "      <th>2</th>\n",
       "    </tr>\n",
       "  </thead>\n",
       "  <tbody>\n",
       "    <tr>\n",
       "      <th>0</th>\n",
       "      <td>1.063807</td>\n",
       "      <td>0.989391</td>\n",
       "      <td>-1.073915</td>\n",
       "    </tr>\n",
       "    <tr>\n",
       "      <th>1</th>\n",
       "      <td>-1.349094</td>\n",
       "      <td>-0.993246</td>\n",
       "      <td>0.357562</td>\n",
       "    </tr>\n",
       "    <tr>\n",
       "      <th>2</th>\n",
       "      <td>0.879254</td>\n",
       "      <td>-0.993246</td>\n",
       "      <td>0.436039</td>\n",
       "    </tr>\n",
       "    <tr>\n",
       "      <th>3</th>\n",
       "      <td>1.078084</td>\n",
       "      <td>-0.993246</td>\n",
       "      <td>-0.120435</td>\n",
       "    </tr>\n",
       "    <tr>\n",
       "      <th>4</th>\n",
       "      <td>1.071392</td>\n",
       "      <td>NaN</td>\n",
       "      <td>-0.120435</td>\n",
       "    </tr>\n",
       "    <tr>\n",
       "      <th>5</th>\n",
       "      <td>-0.700187</td>\n",
       "      <td>NaN</td>\n",
       "      <td>-0.120435</td>\n",
       "    </tr>\n",
       "  </tbody>\n",
       "</table>\n",
       "</div>"
      ],
      "text/plain": [
       "          0         1         2\n",
       "0  1.063807  0.989391 -1.073915\n",
       "1 -1.349094 -0.993246  0.357562\n",
       "2  0.879254 -0.993246  0.436039\n",
       "3  1.078084 -0.993246 -0.120435\n",
       "4  1.071392       NaN -0.120435\n",
       "5 -0.700187       NaN -0.120435"
      ]
     },
     "execution_count": 26,
     "metadata": {},
     "output_type": "execute_result"
    }
   ],
   "source": [
    "df.fillna(method='ffill', limit = 2)"
   ]
  },
  {
   "cell_type": "code",
   "execution_count": 27,
   "id": "45d7c548-7ecf-4360-bcd2-b7ffcaabfe8e",
   "metadata": {},
   "outputs": [
    {
     "data": {
      "text/plain": [
       "0    1.0\n",
       "1    NaN\n",
       "2    3.5\n",
       "3    NaN\n",
       "4    7.0\n",
       "dtype: float64"
      ]
     },
     "execution_count": 27,
     "metadata": {},
     "output_type": "execute_result"
    }
   ],
   "source": [
    "data = pd.Series([1., NA, 3.5, NA, 7])\n",
    "data"
   ]
  },
  {
   "cell_type": "code",
   "execution_count": 28,
   "id": "42c31b18-f84e-4523-8cb7-622a46543e97",
   "metadata": {},
   "outputs": [
    {
     "data": {
      "text/plain": [
       "0    1.000000\n",
       "1    3.833333\n",
       "2    3.500000\n",
       "3    3.833333\n",
       "4    7.000000\n",
       "dtype: float64"
      ]
     },
     "execution_count": 28,
     "metadata": {},
     "output_type": "execute_result"
    }
   ],
   "source": [
    "data.fillna(data.mean())"
   ]
  },
  {
   "cell_type": "markdown",
   "id": "caefb8da-44d1-403a-866e-075e7f933e6c",
   "metadata": {},
   "source": [
    "# Data Transformation"
   ]
  },
  {
   "cell_type": "markdown",
   "id": "51a5fb2c-448e-43fe-b441-b49814a996b8",
   "metadata": {},
   "source": [
    "## Removing duplicates"
   ]
  },
  {
   "cell_type": "code",
   "execution_count": 29,
   "id": "9af6f172-dfd9-450c-9477-fda20bbbbc72",
   "metadata": {},
   "outputs": [
    {
     "data": {
      "text/html": [
       "<div>\n",
       "<style scoped>\n",
       "    .dataframe tbody tr th:only-of-type {\n",
       "        vertical-align: middle;\n",
       "    }\n",
       "\n",
       "    .dataframe tbody tr th {\n",
       "        vertical-align: top;\n",
       "    }\n",
       "\n",
       "    .dataframe thead th {\n",
       "        text-align: right;\n",
       "    }\n",
       "</style>\n",
       "<table border=\"1\" class=\"dataframe\">\n",
       "  <thead>\n",
       "    <tr style=\"text-align: right;\">\n",
       "      <th></th>\n",
       "      <th>k1</th>\n",
       "      <th>k2</th>\n",
       "    </tr>\n",
       "  </thead>\n",
       "  <tbody>\n",
       "    <tr>\n",
       "      <th>0</th>\n",
       "      <td>one</td>\n",
       "      <td>1</td>\n",
       "    </tr>\n",
       "    <tr>\n",
       "      <th>1</th>\n",
       "      <td>two</td>\n",
       "      <td>1</td>\n",
       "    </tr>\n",
       "    <tr>\n",
       "      <th>2</th>\n",
       "      <td>one</td>\n",
       "      <td>2</td>\n",
       "    </tr>\n",
       "    <tr>\n",
       "      <th>3</th>\n",
       "      <td>two</td>\n",
       "      <td>3</td>\n",
       "    </tr>\n",
       "    <tr>\n",
       "      <th>4</th>\n",
       "      <td>one</td>\n",
       "      <td>3</td>\n",
       "    </tr>\n",
       "    <tr>\n",
       "      <th>5</th>\n",
       "      <td>two</td>\n",
       "      <td>4</td>\n",
       "    </tr>\n",
       "    <tr>\n",
       "      <th>6</th>\n",
       "      <td>two</td>\n",
       "      <td>4</td>\n",
       "    </tr>\n",
       "  </tbody>\n",
       "</table>\n",
       "</div>"
      ],
      "text/plain": [
       "    k1  k2\n",
       "0  one   1\n",
       "1  two   1\n",
       "2  one   2\n",
       "3  two   3\n",
       "4  one   3\n",
       "5  two   4\n",
       "6  two   4"
      ]
     },
     "execution_count": 29,
     "metadata": {},
     "output_type": "execute_result"
    }
   ],
   "source": [
    "data = pd.DataFrame({'k1': ['one', 'two'] * 3 + ['two'], 'k2': [1, 1, 2, 3, 3, 4, 4]})\n",
    "data"
   ]
  },
  {
   "cell_type": "code",
   "execution_count": 30,
   "id": "0adc2a5d-741f-4151-bc75-b5485133077f",
   "metadata": {},
   "outputs": [
    {
     "data": {
      "text/plain": [
       "0    False\n",
       "1    False\n",
       "2    False\n",
       "3    False\n",
       "4    False\n",
       "5    False\n",
       "6     True\n",
       "dtype: bool"
      ]
     },
     "execution_count": 30,
     "metadata": {},
     "output_type": "execute_result"
    }
   ],
   "source": [
    "data.duplicated()"
   ]
  },
  {
   "cell_type": "code",
   "execution_count": 31,
   "id": "9325f8f4-f5b1-4430-9db9-1cb8da917830",
   "metadata": {},
   "outputs": [
    {
     "data": {
      "text/html": [
       "<div>\n",
       "<style scoped>\n",
       "    .dataframe tbody tr th:only-of-type {\n",
       "        vertical-align: middle;\n",
       "    }\n",
       "\n",
       "    .dataframe tbody tr th {\n",
       "        vertical-align: top;\n",
       "    }\n",
       "\n",
       "    .dataframe thead th {\n",
       "        text-align: right;\n",
       "    }\n",
       "</style>\n",
       "<table border=\"1\" class=\"dataframe\">\n",
       "  <thead>\n",
       "    <tr style=\"text-align: right;\">\n",
       "      <th></th>\n",
       "      <th>k1</th>\n",
       "      <th>k2</th>\n",
       "    </tr>\n",
       "  </thead>\n",
       "  <tbody>\n",
       "    <tr>\n",
       "      <th>0</th>\n",
       "      <td>one</td>\n",
       "      <td>1</td>\n",
       "    </tr>\n",
       "    <tr>\n",
       "      <th>1</th>\n",
       "      <td>two</td>\n",
       "      <td>1</td>\n",
       "    </tr>\n",
       "    <tr>\n",
       "      <th>2</th>\n",
       "      <td>one</td>\n",
       "      <td>2</td>\n",
       "    </tr>\n",
       "    <tr>\n",
       "      <th>3</th>\n",
       "      <td>two</td>\n",
       "      <td>3</td>\n",
       "    </tr>\n",
       "    <tr>\n",
       "      <th>4</th>\n",
       "      <td>one</td>\n",
       "      <td>3</td>\n",
       "    </tr>\n",
       "    <tr>\n",
       "      <th>5</th>\n",
       "      <td>two</td>\n",
       "      <td>4</td>\n",
       "    </tr>\n",
       "  </tbody>\n",
       "</table>\n",
       "</div>"
      ],
      "text/plain": [
       "    k1  k2\n",
       "0  one   1\n",
       "1  two   1\n",
       "2  one   2\n",
       "3  two   3\n",
       "4  one   3\n",
       "5  two   4"
      ]
     },
     "execution_count": 31,
     "metadata": {},
     "output_type": "execute_result"
    }
   ],
   "source": [
    "data.drop_duplicates()"
   ]
  },
  {
   "cell_type": "code",
   "execution_count": 32,
   "id": "87f42223-62c7-4954-b328-73eac3d2fa12",
   "metadata": {},
   "outputs": [
    {
     "data": {
      "text/html": [
       "<div>\n",
       "<style scoped>\n",
       "    .dataframe tbody tr th:only-of-type {\n",
       "        vertical-align: middle;\n",
       "    }\n",
       "\n",
       "    .dataframe tbody tr th {\n",
       "        vertical-align: top;\n",
       "    }\n",
       "\n",
       "    .dataframe thead th {\n",
       "        text-align: right;\n",
       "    }\n",
       "</style>\n",
       "<table border=\"1\" class=\"dataframe\">\n",
       "  <thead>\n",
       "    <tr style=\"text-align: right;\">\n",
       "      <th></th>\n",
       "      <th>k1</th>\n",
       "      <th>k2</th>\n",
       "      <th>v1</th>\n",
       "    </tr>\n",
       "  </thead>\n",
       "  <tbody>\n",
       "    <tr>\n",
       "      <th>0</th>\n",
       "      <td>one</td>\n",
       "      <td>1</td>\n",
       "      <td>0</td>\n",
       "    </tr>\n",
       "    <tr>\n",
       "      <th>1</th>\n",
       "      <td>two</td>\n",
       "      <td>1</td>\n",
       "      <td>1</td>\n",
       "    </tr>\n",
       "    <tr>\n",
       "      <th>2</th>\n",
       "      <td>one</td>\n",
       "      <td>2</td>\n",
       "      <td>2</td>\n",
       "    </tr>\n",
       "    <tr>\n",
       "      <th>3</th>\n",
       "      <td>two</td>\n",
       "      <td>3</td>\n",
       "      <td>3</td>\n",
       "    </tr>\n",
       "    <tr>\n",
       "      <th>4</th>\n",
       "      <td>one</td>\n",
       "      <td>3</td>\n",
       "      <td>4</td>\n",
       "    </tr>\n",
       "    <tr>\n",
       "      <th>5</th>\n",
       "      <td>two</td>\n",
       "      <td>4</td>\n",
       "      <td>5</td>\n",
       "    </tr>\n",
       "    <tr>\n",
       "      <th>6</th>\n",
       "      <td>two</td>\n",
       "      <td>4</td>\n",
       "      <td>6</td>\n",
       "    </tr>\n",
       "  </tbody>\n",
       "</table>\n",
       "</div>"
      ],
      "text/plain": [
       "    k1  k2  v1\n",
       "0  one   1   0\n",
       "1  two   1   1\n",
       "2  one   2   2\n",
       "3  two   3   3\n",
       "4  one   3   4\n",
       "5  two   4   5\n",
       "6  two   4   6"
      ]
     },
     "execution_count": 32,
     "metadata": {},
     "output_type": "execute_result"
    }
   ],
   "source": [
    "data['v1'] = range(7)\n",
    "data"
   ]
  },
  {
   "cell_type": "code",
   "execution_count": 33,
   "id": "67c471b1-822f-4774-8164-eb3b29c8ac51",
   "metadata": {},
   "outputs": [
    {
     "data": {
      "text/html": [
       "<div>\n",
       "<style scoped>\n",
       "    .dataframe tbody tr th:only-of-type {\n",
       "        vertical-align: middle;\n",
       "    }\n",
       "\n",
       "    .dataframe tbody tr th {\n",
       "        vertical-align: top;\n",
       "    }\n",
       "\n",
       "    .dataframe thead th {\n",
       "        text-align: right;\n",
       "    }\n",
       "</style>\n",
       "<table border=\"1\" class=\"dataframe\">\n",
       "  <thead>\n",
       "    <tr style=\"text-align: right;\">\n",
       "      <th></th>\n",
       "      <th>k1</th>\n",
       "      <th>k2</th>\n",
       "      <th>v1</th>\n",
       "    </tr>\n",
       "  </thead>\n",
       "  <tbody>\n",
       "    <tr>\n",
       "      <th>0</th>\n",
       "      <td>one</td>\n",
       "      <td>1</td>\n",
       "      <td>0</td>\n",
       "    </tr>\n",
       "    <tr>\n",
       "      <th>1</th>\n",
       "      <td>two</td>\n",
       "      <td>1</td>\n",
       "      <td>1</td>\n",
       "    </tr>\n",
       "  </tbody>\n",
       "</table>\n",
       "</div>"
      ],
      "text/plain": [
       "    k1  k2  v1\n",
       "0  one   1   0\n",
       "1  two   1   1"
      ]
     },
     "execution_count": 33,
     "metadata": {},
     "output_type": "execute_result"
    }
   ],
   "source": [
    "data.drop_duplicates(['k1'])"
   ]
  },
  {
   "cell_type": "code",
   "execution_count": 34,
   "id": "1934403e-5b47-459c-8034-796d307d6355",
   "metadata": {},
   "outputs": [
    {
     "data": {
      "text/html": [
       "<div>\n",
       "<style scoped>\n",
       "    .dataframe tbody tr th:only-of-type {\n",
       "        vertical-align: middle;\n",
       "    }\n",
       "\n",
       "    .dataframe tbody tr th {\n",
       "        vertical-align: top;\n",
       "    }\n",
       "\n",
       "    .dataframe thead th {\n",
       "        text-align: right;\n",
       "    }\n",
       "</style>\n",
       "<table border=\"1\" class=\"dataframe\">\n",
       "  <thead>\n",
       "    <tr style=\"text-align: right;\">\n",
       "      <th></th>\n",
       "      <th>k1</th>\n",
       "      <th>k2</th>\n",
       "      <th>v1</th>\n",
       "    </tr>\n",
       "  </thead>\n",
       "  <tbody>\n",
       "    <tr>\n",
       "      <th>0</th>\n",
       "      <td>one</td>\n",
       "      <td>1</td>\n",
       "      <td>0</td>\n",
       "    </tr>\n",
       "    <tr>\n",
       "      <th>1</th>\n",
       "      <td>two</td>\n",
       "      <td>1</td>\n",
       "      <td>1</td>\n",
       "    </tr>\n",
       "    <tr>\n",
       "      <th>2</th>\n",
       "      <td>one</td>\n",
       "      <td>2</td>\n",
       "      <td>2</td>\n",
       "    </tr>\n",
       "    <tr>\n",
       "      <th>3</th>\n",
       "      <td>two</td>\n",
       "      <td>3</td>\n",
       "      <td>3</td>\n",
       "    </tr>\n",
       "    <tr>\n",
       "      <th>4</th>\n",
       "      <td>one</td>\n",
       "      <td>3</td>\n",
       "      <td>4</td>\n",
       "    </tr>\n",
       "    <tr>\n",
       "      <th>6</th>\n",
       "      <td>two</td>\n",
       "      <td>4</td>\n",
       "      <td>6</td>\n",
       "    </tr>\n",
       "  </tbody>\n",
       "</table>\n",
       "</div>"
      ],
      "text/plain": [
       "    k1  k2  v1\n",
       "0  one   1   0\n",
       "1  two   1   1\n",
       "2  one   2   2\n",
       "3  two   3   3\n",
       "4  one   3   4\n",
       "6  two   4   6"
      ]
     },
     "execution_count": 34,
     "metadata": {},
     "output_type": "execute_result"
    }
   ],
   "source": [
    "data.drop_duplicates(['k1', 'k2'], keep='last')"
   ]
  },
  {
   "cell_type": "markdown",
   "id": "236d96f6-2ce6-4c4a-b68e-2d7db3f27f71",
   "metadata": {},
   "source": [
    "# Transforming Data Using a function or mapping "
   ]
  },
  {
   "cell_type": "code",
   "execution_count": 35,
   "id": "f209ad72-162a-4f3c-bb82-e6146898d2f9",
   "metadata": {},
   "outputs": [
    {
     "data": {
      "text/html": [
       "<div>\n",
       "<style scoped>\n",
       "    .dataframe tbody tr th:only-of-type {\n",
       "        vertical-align: middle;\n",
       "    }\n",
       "\n",
       "    .dataframe tbody tr th {\n",
       "        vertical-align: top;\n",
       "    }\n",
       "\n",
       "    .dataframe thead th {\n",
       "        text-align: right;\n",
       "    }\n",
       "</style>\n",
       "<table border=\"1\" class=\"dataframe\">\n",
       "  <thead>\n",
       "    <tr style=\"text-align: right;\">\n",
       "      <th></th>\n",
       "      <th>food</th>\n",
       "      <th>ounces</th>\n",
       "    </tr>\n",
       "  </thead>\n",
       "  <tbody>\n",
       "    <tr>\n",
       "      <th>0</th>\n",
       "      <td>bacon</td>\n",
       "      <td>4.0</td>\n",
       "    </tr>\n",
       "    <tr>\n",
       "      <th>1</th>\n",
       "      <td>pulled pork</td>\n",
       "      <td>3.0</td>\n",
       "    </tr>\n",
       "    <tr>\n",
       "      <th>2</th>\n",
       "      <td>bacon</td>\n",
       "      <td>12.0</td>\n",
       "    </tr>\n",
       "    <tr>\n",
       "      <th>3</th>\n",
       "      <td>Pastrami</td>\n",
       "      <td>6.0</td>\n",
       "    </tr>\n",
       "    <tr>\n",
       "      <th>4</th>\n",
       "      <td>corned beef</td>\n",
       "      <td>7.5</td>\n",
       "    </tr>\n",
       "    <tr>\n",
       "      <th>5</th>\n",
       "      <td>Bacon</td>\n",
       "      <td>8.0</td>\n",
       "    </tr>\n",
       "    <tr>\n",
       "      <th>6</th>\n",
       "      <td>pastrami</td>\n",
       "      <td>3.0</td>\n",
       "    </tr>\n",
       "    <tr>\n",
       "      <th>7</th>\n",
       "      <td>honey ham</td>\n",
       "      <td>5.0</td>\n",
       "    </tr>\n",
       "    <tr>\n",
       "      <th>8</th>\n",
       "      <td>nova lox</td>\n",
       "      <td>6.0</td>\n",
       "    </tr>\n",
       "  </tbody>\n",
       "</table>\n",
       "</div>"
      ],
      "text/plain": [
       "          food  ounces\n",
       "0        bacon     4.0\n",
       "1  pulled pork     3.0\n",
       "2        bacon    12.0\n",
       "3     Pastrami     6.0\n",
       "4  corned beef     7.5\n",
       "5        Bacon     8.0\n",
       "6     pastrami     3.0\n",
       "7    honey ham     5.0\n",
       "8     nova lox     6.0"
      ]
     },
     "execution_count": 35,
     "metadata": {},
     "output_type": "execute_result"
    }
   ],
   "source": [
    "data = pd.DataFrame({'food': ['bacon', 'pulled pork', 'bacon',\n",
    " ....: 'Pastrami', 'corned beef', 'Bacon',\n",
    " ....: 'pastrami', 'honey ham', 'nova lox'],\n",
    " ....: 'ounces': [4, 3, 12, 6, 7.5, 8, 3, 5, 6]})\n",
    "data"
   ]
  },
  {
   "cell_type": "code",
   "execution_count": 36,
   "id": "a0f00ede-011a-4ffd-be47-6f524833fefa",
   "metadata": {},
   "outputs": [],
   "source": [
    "meat_to_animal = {\n",
    " 'bacon': 'pig',\n",
    " 'pulled pork': 'pig',\n",
    " 'pastrami': 'cow',\n",
    " 'corned beef': 'cow',\n",
    " 'honey ham': 'pig',\n",
    " 'nova lox': 'salmon'\n",
    "}"
   ]
  },
  {
   "cell_type": "code",
   "execution_count": 37,
   "id": "41e2f15d-55de-4e6b-b661-8aff1b44c1ab",
   "metadata": {},
   "outputs": [
    {
     "data": {
      "text/plain": [
       "0          bacon\n",
       "1    pulled pork\n",
       "2          bacon\n",
       "3       pastrami\n",
       "4    corned beef\n",
       "5          bacon\n",
       "6       pastrami\n",
       "7      honey ham\n",
       "8       nova lox\n",
       "Name: food, dtype: object"
      ]
     },
     "execution_count": 37,
     "metadata": {},
     "output_type": "execute_result"
    }
   ],
   "source": [
    "lowercased = data['food'].str.lower()\n",
    "lowercased"
   ]
  },
  {
   "cell_type": "code",
   "execution_count": 38,
   "id": "89ef4388-451a-488a-87e2-d311badd2665",
   "metadata": {},
   "outputs": [
    {
     "data": {
      "text/html": [
       "<div>\n",
       "<style scoped>\n",
       "    .dataframe tbody tr th:only-of-type {\n",
       "        vertical-align: middle;\n",
       "    }\n",
       "\n",
       "    .dataframe tbody tr th {\n",
       "        vertical-align: top;\n",
       "    }\n",
       "\n",
       "    .dataframe thead th {\n",
       "        text-align: right;\n",
       "    }\n",
       "</style>\n",
       "<table border=\"1\" class=\"dataframe\">\n",
       "  <thead>\n",
       "    <tr style=\"text-align: right;\">\n",
       "      <th></th>\n",
       "      <th>food</th>\n",
       "      <th>ounces</th>\n",
       "      <th>animal</th>\n",
       "    </tr>\n",
       "  </thead>\n",
       "  <tbody>\n",
       "    <tr>\n",
       "      <th>0</th>\n",
       "      <td>bacon</td>\n",
       "      <td>4.0</td>\n",
       "      <td>pig</td>\n",
       "    </tr>\n",
       "    <tr>\n",
       "      <th>1</th>\n",
       "      <td>pulled pork</td>\n",
       "      <td>3.0</td>\n",
       "      <td>pig</td>\n",
       "    </tr>\n",
       "    <tr>\n",
       "      <th>2</th>\n",
       "      <td>bacon</td>\n",
       "      <td>12.0</td>\n",
       "      <td>pig</td>\n",
       "    </tr>\n",
       "    <tr>\n",
       "      <th>3</th>\n",
       "      <td>Pastrami</td>\n",
       "      <td>6.0</td>\n",
       "      <td>cow</td>\n",
       "    </tr>\n",
       "    <tr>\n",
       "      <th>4</th>\n",
       "      <td>corned beef</td>\n",
       "      <td>7.5</td>\n",
       "      <td>cow</td>\n",
       "    </tr>\n",
       "    <tr>\n",
       "      <th>5</th>\n",
       "      <td>Bacon</td>\n",
       "      <td>8.0</td>\n",
       "      <td>pig</td>\n",
       "    </tr>\n",
       "    <tr>\n",
       "      <th>6</th>\n",
       "      <td>pastrami</td>\n",
       "      <td>3.0</td>\n",
       "      <td>cow</td>\n",
       "    </tr>\n",
       "    <tr>\n",
       "      <th>7</th>\n",
       "      <td>honey ham</td>\n",
       "      <td>5.0</td>\n",
       "      <td>pig</td>\n",
       "    </tr>\n",
       "    <tr>\n",
       "      <th>8</th>\n",
       "      <td>nova lox</td>\n",
       "      <td>6.0</td>\n",
       "      <td>salmon</td>\n",
       "    </tr>\n",
       "  </tbody>\n",
       "</table>\n",
       "</div>"
      ],
      "text/plain": [
       "          food  ounces  animal\n",
       "0        bacon     4.0     pig\n",
       "1  pulled pork     3.0     pig\n",
       "2        bacon    12.0     pig\n",
       "3     Pastrami     6.0     cow\n",
       "4  corned beef     7.5     cow\n",
       "5        Bacon     8.0     pig\n",
       "6     pastrami     3.0     cow\n",
       "7    honey ham     5.0     pig\n",
       "8     nova lox     6.0  salmon"
      ]
     },
     "execution_count": 38,
     "metadata": {},
     "output_type": "execute_result"
    }
   ],
   "source": [
    "data['animal'] = lowercased.map(meat_to_animal)\n",
    "data"
   ]
  },
  {
   "cell_type": "markdown",
   "id": "36e00b92-03ca-4129-bea3-e9ef1a05073f",
   "metadata": {},
   "source": [
    "# Replacing Values"
   ]
  },
  {
   "cell_type": "code",
   "execution_count": 39,
   "id": "daba375b-7cc7-489b-81b3-c0e143e3f017",
   "metadata": {},
   "outputs": [
    {
     "data": {
      "text/plain": [
       "0       1.0\n",
       "1    -999.0\n",
       "2       2.0\n",
       "3    -999.0\n",
       "4   -1000.0\n",
       "5       3.0\n",
       "dtype: float64"
      ]
     },
     "execution_count": 39,
     "metadata": {},
     "output_type": "execute_result"
    }
   ],
   "source": [
    "data= pd.Series ([1.,-999.,2.,-999.,-1000.,3.])\n",
    "data"
   ]
  },
  {
   "cell_type": "code",
   "execution_count": 40,
   "id": "d04f1a6f-62be-4d03-8868-a6d4b85a3d6a",
   "metadata": {},
   "outputs": [
    {
     "data": {
      "text/plain": [
       "0       1.0\n",
       "1       NaN\n",
       "2       2.0\n",
       "3       NaN\n",
       "4   -1000.0\n",
       "5       3.0\n",
       "dtype: float64"
      ]
     },
     "execution_count": 40,
     "metadata": {},
     "output_type": "execute_result"
    }
   ],
   "source": [
    "data.replace(-999,NA)"
   ]
  },
  {
   "cell_type": "code",
   "execution_count": 41,
   "id": "58520078-3960-4572-86f4-a7f16b5e8bc0",
   "metadata": {},
   "outputs": [
    {
     "data": {
      "text/plain": [
       "0    1.0\n",
       "1    NaN\n",
       "2    2.0\n",
       "3    NaN\n",
       "4    NaN\n",
       "5    3.0\n",
       "dtype: float64"
      ]
     },
     "execution_count": 41,
     "metadata": {},
     "output_type": "execute_result"
    }
   ],
   "source": [
    "data.replace([-999, -1000], np.nan)"
   ]
  },
  {
   "cell_type": "code",
   "execution_count": 42,
   "id": "bac8ebb7-e2b4-4621-b3d0-93c895448623",
   "metadata": {},
   "outputs": [
    {
     "data": {
      "text/plain": [
       "0    1.0\n",
       "1    NaN\n",
       "2    2.0\n",
       "3    NaN\n",
       "4    0.0\n",
       "5    3.0\n",
       "dtype: float64"
      ]
     },
     "execution_count": 42,
     "metadata": {},
     "output_type": "execute_result"
    }
   ],
   "source": [
    "data.replace([-999, -1000], [np.nan, 0])"
   ]
  },
  {
   "cell_type": "code",
   "execution_count": 43,
   "id": "a7a5da97-21d2-4e90-8197-8d69980b0afe",
   "metadata": {},
   "outputs": [
    {
     "data": {
      "text/plain": [
       "0    1.0\n",
       "1    NaN\n",
       "2    2.0\n",
       "3    NaN\n",
       "4    0.0\n",
       "5    3.0\n",
       "dtype: float64"
      ]
     },
     "execution_count": 43,
     "metadata": {},
     "output_type": "execute_result"
    }
   ],
   "source": [
    "data.replace({-999: np.nan, -1000: 0})"
   ]
  },
  {
   "cell_type": "markdown",
   "id": "e7125c45-2ad4-4285-8d1e-db3e89fe0564",
   "metadata": {},
   "source": [
    "# Renaming Axis Indexes"
   ]
  },
  {
   "cell_type": "code",
   "execution_count": 44,
   "id": "f93fb6f7-bc6f-44c7-8402-7ba527820963",
   "metadata": {},
   "outputs": [
    {
     "data": {
      "text/html": [
       "<div>\n",
       "<style scoped>\n",
       "    .dataframe tbody tr th:only-of-type {\n",
       "        vertical-align: middle;\n",
       "    }\n",
       "\n",
       "    .dataframe tbody tr th {\n",
       "        vertical-align: top;\n",
       "    }\n",
       "\n",
       "    .dataframe thead th {\n",
       "        text-align: right;\n",
       "    }\n",
       "</style>\n",
       "<table border=\"1\" class=\"dataframe\">\n",
       "  <thead>\n",
       "    <tr style=\"text-align: right;\">\n",
       "      <th></th>\n",
       "      <th>one</th>\n",
       "      <th>two</th>\n",
       "      <th>three</th>\n",
       "      <th>four</th>\n",
       "    </tr>\n",
       "  </thead>\n",
       "  <tbody>\n",
       "    <tr>\n",
       "      <th>Ohio</th>\n",
       "      <td>0</td>\n",
       "      <td>1</td>\n",
       "      <td>2</td>\n",
       "      <td>3</td>\n",
       "    </tr>\n",
       "    <tr>\n",
       "      <th>Colorado</th>\n",
       "      <td>4</td>\n",
       "      <td>5</td>\n",
       "      <td>6</td>\n",
       "      <td>7</td>\n",
       "    </tr>\n",
       "    <tr>\n",
       "      <th>New York</th>\n",
       "      <td>8</td>\n",
       "      <td>9</td>\n",
       "      <td>10</td>\n",
       "      <td>11</td>\n",
       "    </tr>\n",
       "  </tbody>\n",
       "</table>\n",
       "</div>"
      ],
      "text/plain": [
       "          one  two  three  four\n",
       "Ohio        0    1      2     3\n",
       "Colorado    4    5      6     7\n",
       "New York    8    9     10    11"
      ]
     },
     "execution_count": 44,
     "metadata": {},
     "output_type": "execute_result"
    }
   ],
   "source": [
    "data = pd.DataFrame(np.arange(12).reshape((3, 4)), index=['Ohio', 'Colorado', 'New York'], columns=['one', 'two', 'three', 'four'])\n",
    "data"
   ]
  },
  {
   "cell_type": "code",
   "execution_count": 45,
   "id": "4d4f1142-9f6d-4640-a8a3-ff194aceba4a",
   "metadata": {},
   "outputs": [
    {
     "data": {
      "text/plain": [
       "Index(['OHIO', 'COLO', 'NEW '], dtype='object')"
      ]
     },
     "execution_count": 45,
     "metadata": {},
     "output_type": "execute_result"
    }
   ],
   "source": [
    "transform = lambda x :x[:4].upper()\n",
    "data.index.map(transform)"
   ]
  },
  {
   "cell_type": "code",
   "execution_count": 46,
   "id": "ded9b37d-678a-4060-94aa-147b23601917",
   "metadata": {},
   "outputs": [
    {
     "data": {
      "text/html": [
       "<div>\n",
       "<style scoped>\n",
       "    .dataframe tbody tr th:only-of-type {\n",
       "        vertical-align: middle;\n",
       "    }\n",
       "\n",
       "    .dataframe tbody tr th {\n",
       "        vertical-align: top;\n",
       "    }\n",
       "\n",
       "    .dataframe thead th {\n",
       "        text-align: right;\n",
       "    }\n",
       "</style>\n",
       "<table border=\"1\" class=\"dataframe\">\n",
       "  <thead>\n",
       "    <tr style=\"text-align: right;\">\n",
       "      <th></th>\n",
       "      <th>one</th>\n",
       "      <th>two</th>\n",
       "      <th>three</th>\n",
       "      <th>four</th>\n",
       "    </tr>\n",
       "  </thead>\n",
       "  <tbody>\n",
       "    <tr>\n",
       "      <th>OHIO</th>\n",
       "      <td>0</td>\n",
       "      <td>1</td>\n",
       "      <td>2</td>\n",
       "      <td>3</td>\n",
       "    </tr>\n",
       "    <tr>\n",
       "      <th>COLO</th>\n",
       "      <td>4</td>\n",
       "      <td>5</td>\n",
       "      <td>6</td>\n",
       "      <td>7</td>\n",
       "    </tr>\n",
       "    <tr>\n",
       "      <th>NEW</th>\n",
       "      <td>8</td>\n",
       "      <td>9</td>\n",
       "      <td>10</td>\n",
       "      <td>11</td>\n",
       "    </tr>\n",
       "  </tbody>\n",
       "</table>\n",
       "</div>"
      ],
      "text/plain": [
       "      one  two  three  four\n",
       "OHIO    0    1      2     3\n",
       "COLO    4    5      6     7\n",
       "NEW     8    9     10    11"
      ]
     },
     "execution_count": 46,
     "metadata": {},
     "output_type": "execute_result"
    }
   ],
   "source": [
    "data.index= data.index.map(transform)\n",
    "data"
   ]
  },
  {
   "cell_type": "code",
   "execution_count": 47,
   "id": "2f7500b1-a0d4-43eb-b186-eaca984ec022",
   "metadata": {},
   "outputs": [
    {
     "data": {
      "text/html": [
       "<div>\n",
       "<style scoped>\n",
       "    .dataframe tbody tr th:only-of-type {\n",
       "        vertical-align: middle;\n",
       "    }\n",
       "\n",
       "    .dataframe tbody tr th {\n",
       "        vertical-align: top;\n",
       "    }\n",
       "\n",
       "    .dataframe thead th {\n",
       "        text-align: right;\n",
       "    }\n",
       "</style>\n",
       "<table border=\"1\" class=\"dataframe\">\n",
       "  <thead>\n",
       "    <tr style=\"text-align: right;\">\n",
       "      <th></th>\n",
       "      <th>ONE</th>\n",
       "      <th>TWO</th>\n",
       "      <th>THREE</th>\n",
       "      <th>FOUR</th>\n",
       "    </tr>\n",
       "  </thead>\n",
       "  <tbody>\n",
       "    <tr>\n",
       "      <th>Ohio</th>\n",
       "      <td>0</td>\n",
       "      <td>1</td>\n",
       "      <td>2</td>\n",
       "      <td>3</td>\n",
       "    </tr>\n",
       "    <tr>\n",
       "      <th>Colo</th>\n",
       "      <td>4</td>\n",
       "      <td>5</td>\n",
       "      <td>6</td>\n",
       "      <td>7</td>\n",
       "    </tr>\n",
       "    <tr>\n",
       "      <th>New</th>\n",
       "      <td>8</td>\n",
       "      <td>9</td>\n",
       "      <td>10</td>\n",
       "      <td>11</td>\n",
       "    </tr>\n",
       "  </tbody>\n",
       "</table>\n",
       "</div>"
      ],
      "text/plain": [
       "      ONE  TWO  THREE  FOUR\n",
       "Ohio    0    1      2     3\n",
       "Colo    4    5      6     7\n",
       "New     8    9     10    11"
      ]
     },
     "execution_count": 47,
     "metadata": {},
     "output_type": "execute_result"
    }
   ],
   "source": [
    "data.rename(index=str.title, columns=str.upper)"
   ]
  },
  {
   "cell_type": "code",
   "execution_count": 48,
   "id": "261ccca0-2a5e-43a9-a9ce-8d17e29d36ce",
   "metadata": {},
   "outputs": [
    {
     "data": {
      "text/html": [
       "<div>\n",
       "<style scoped>\n",
       "    .dataframe tbody tr th:only-of-type {\n",
       "        vertical-align: middle;\n",
       "    }\n",
       "\n",
       "    .dataframe tbody tr th {\n",
       "        vertical-align: top;\n",
       "    }\n",
       "\n",
       "    .dataframe thead th {\n",
       "        text-align: right;\n",
       "    }\n",
       "</style>\n",
       "<table border=\"1\" class=\"dataframe\">\n",
       "  <thead>\n",
       "    <tr style=\"text-align: right;\">\n",
       "      <th></th>\n",
       "      <th>one</th>\n",
       "      <th>two</th>\n",
       "      <th>peekaboo</th>\n",
       "      <th>four</th>\n",
       "    </tr>\n",
       "  </thead>\n",
       "  <tbody>\n",
       "    <tr>\n",
       "      <th>INDIANA</th>\n",
       "      <td>0</td>\n",
       "      <td>1</td>\n",
       "      <td>2</td>\n",
       "      <td>3</td>\n",
       "    </tr>\n",
       "    <tr>\n",
       "      <th>COLO</th>\n",
       "      <td>4</td>\n",
       "      <td>5</td>\n",
       "      <td>6</td>\n",
       "      <td>7</td>\n",
       "    </tr>\n",
       "    <tr>\n",
       "      <th>NEW</th>\n",
       "      <td>8</td>\n",
       "      <td>9</td>\n",
       "      <td>10</td>\n",
       "      <td>11</td>\n",
       "    </tr>\n",
       "  </tbody>\n",
       "</table>\n",
       "</div>"
      ],
      "text/plain": [
       "         one  two  peekaboo  four\n",
       "INDIANA    0    1         2     3\n",
       "COLO       4    5         6     7\n",
       "NEW        8    9        10    11"
      ]
     },
     "execution_count": 48,
     "metadata": {},
     "output_type": "execute_result"
    }
   ],
   "source": [
    "data.rename(index={'OHIO': 'INDIANA'}, columns={'three': 'peekaboo'})"
   ]
  },
  {
   "cell_type": "code",
   "execution_count": 49,
   "id": "67fc0c07-1f7b-46a1-9584-48a133ee7e5f",
   "metadata": {},
   "outputs": [
    {
     "data": {
      "text/html": [
       "<div>\n",
       "<style scoped>\n",
       "    .dataframe tbody tr th:only-of-type {\n",
       "        vertical-align: middle;\n",
       "    }\n",
       "\n",
       "    .dataframe tbody tr th {\n",
       "        vertical-align: top;\n",
       "    }\n",
       "\n",
       "    .dataframe thead th {\n",
       "        text-align: right;\n",
       "    }\n",
       "</style>\n",
       "<table border=\"1\" class=\"dataframe\">\n",
       "  <thead>\n",
       "    <tr style=\"text-align: right;\">\n",
       "      <th></th>\n",
       "      <th>one</th>\n",
       "      <th>two</th>\n",
       "      <th>three</th>\n",
       "      <th>four</th>\n",
       "    </tr>\n",
       "  </thead>\n",
       "  <tbody>\n",
       "    <tr>\n",
       "      <th>INDIANA</th>\n",
       "      <td>0</td>\n",
       "      <td>1</td>\n",
       "      <td>2</td>\n",
       "      <td>3</td>\n",
       "    </tr>\n",
       "    <tr>\n",
       "      <th>COLO</th>\n",
       "      <td>4</td>\n",
       "      <td>5</td>\n",
       "      <td>6</td>\n",
       "      <td>7</td>\n",
       "    </tr>\n",
       "    <tr>\n",
       "      <th>NEW</th>\n",
       "      <td>8</td>\n",
       "      <td>9</td>\n",
       "      <td>10</td>\n",
       "      <td>11</td>\n",
       "    </tr>\n",
       "  </tbody>\n",
       "</table>\n",
       "</div>"
      ],
      "text/plain": [
       "         one  two  three  four\n",
       "INDIANA    0    1      2     3\n",
       "COLO       4    5      6     7\n",
       "NEW        8    9     10    11"
      ]
     },
     "execution_count": 49,
     "metadata": {},
     "output_type": "execute_result"
    }
   ],
   "source": [
    "data.rename(index={'OHIO': 'INDIANA'}, inplace=True)\n",
    "data"
   ]
  },
  {
   "cell_type": "markdown",
   "id": "e288cc5a-61d5-4c68-96f3-1fa8f9bba0f7",
   "metadata": {},
   "source": [
    "# Discreation n Binning"
   ]
  },
  {
   "cell_type": "raw",
   "id": "6eb8d6d4-75f9-477c-ae14-7feba67f2c6a",
   "metadata": {},
   "source": [
    "Continuous data is often discretized or otherwise separated into “bins” for analysis. Suppose you have data about a group of people in a study, and you want to group them into discrete age buckets:"
   ]
  },
  {
   "cell_type": "code",
   "execution_count": 50,
   "id": "2fc43e1e-5d9f-4a9c-8460-652ba7326bcf",
   "metadata": {},
   "outputs": [],
   "source": [
    "ages = [20, 22, 25, 27, 21, 23, 37, 31, 61, 45, 41, 32]"
   ]
  },
  {
   "cell_type": "raw",
   "id": "3e07ecb5-3e6c-410d-8275-adab3a3fa1ae",
   "metadata": {},
   "source": [
    "Let’s divide these into bins of 18 to 25, 26 to 35, 36 to 60, and finally 61 and older. To do so, you have to use cut, a function in pandas:"
   ]
  },
  {
   "cell_type": "code",
   "execution_count": 51,
   "id": "660f3160-17d8-45fa-b798-fd4532fa8f2f",
   "metadata": {},
   "outputs": [
    {
     "data": {
      "text/plain": [
       "[(18, 25], (18, 25], (18, 25], (25, 35], (18, 25], ..., (25, 35], (60, 100], (35, 60], (35, 60], (25, 35]]\n",
       "Length: 12\n",
       "Categories (4, interval[int64, right]): [(18, 25] < (25, 35] < (35, 60] < (60, 100]]"
      ]
     },
     "execution_count": 51,
     "metadata": {},
     "output_type": "execute_result"
    }
   ],
   "source": [
    "bins = [18,25,35,60,100]\n",
    "cats=  pd.cut(ages,bins)\n",
    "cats"
   ]
  },
  {
   "cell_type": "raw",
   "id": "6ca06240-5951-44d5-b372-c16bba930593",
   "metadata": {},
   "source": [
    "[18, 26): Includes 18 but excludes 26.\n",
    "[26, 36): Includes 26 but excludes 36.\n",
    "[36, 61): Includes 36 but excludes 61.\n",
    "[61, 100): Includes 61 but excludes 100.\n",
    "\n",
    "Interval Notation: Square brackets ([ or ]) denote inclusive boundaries, while parentheses (( or )) denote exclusive boundaries.\n",
    "Default Behavior: By default, pd.cut creates bins with the right boundary inclusive."
   ]
  },
  {
   "cell_type": "code",
   "execution_count": 52,
   "id": "8c530222-f15c-450e-8924-7d1eba1ed48b",
   "metadata": {},
   "outputs": [
    {
     "name": "stderr",
     "output_type": "stream",
     "text": [
      "C:\\Users\\shyam\\AppData\\Local\\Temp\\ipykernel_12920\\1485279302.py:1: FutureWarning: pandas.value_counts is deprecated and will be removed in a future version. Use pd.Series(obj).value_counts() instead.\n",
      "  pd.value_counts(cats)\n"
     ]
    },
    {
     "data": {
      "text/plain": [
       "(18, 25]     5\n",
       "(25, 35]     3\n",
       "(35, 60]     3\n",
       "(60, 100]    1\n",
       "Name: count, dtype: int64"
      ]
     },
     "execution_count": 52,
     "metadata": {},
     "output_type": "execute_result"
    }
   ],
   "source": [
    "pd.value_counts(cats)"
   ]
  },
  {
   "cell_type": "code",
   "execution_count": 53,
   "id": "c83d0559-6921-4adf-90fd-30b2f4236392",
   "metadata": {},
   "outputs": [
    {
     "data": {
      "text/plain": [
       "[[18, 26), [18, 26), [18, 26), [26, 36), [18, 26), ..., [26, 36), [61, 100), [36, 61), [36, 61), [26, 36)]\n",
       "Length: 12\n",
       "Categories (4, interval[int64, left]): [[18, 26) < [26, 36) < [36, 61) < [61, 100)]"
      ]
     },
     "execution_count": 53,
     "metadata": {},
     "output_type": "execute_result"
    }
   ],
   "source": [
    "pd.cut(ages,[18,26,36,61,100],right=False)"
   ]
  },
  {
   "cell_type": "code",
   "execution_count": 54,
   "id": "fd091dc0-3d80-4781-9fe7-49b2ca7e15b5",
   "metadata": {},
   "outputs": [
    {
     "data": {
      "text/plain": [
       "['Youth', 'Youth', 'Youth', 'YoungAdult', 'Youth', ..., 'YoungAdult', 'Senior', 'MiddleAged', 'MiddleAged', 'YoungAdult']\n",
       "Length: 12\n",
       "Categories (4, object): ['Youth' < 'YoungAdult' < 'MiddleAged' < 'Senior']"
      ]
     },
     "execution_count": 54,
     "metadata": {},
     "output_type": "execute_result"
    }
   ],
   "source": [
    "group_name = ['Youth','YoungAdult','MiddleAged','Senior']\n",
    "pd.cut(ages,bins, labels=group_name)"
   ]
  },
  {
   "cell_type": "code",
   "execution_count": 55,
   "id": "7edff459-5185-4d5e-9d41-d3dc201b0585",
   "metadata": {},
   "outputs": [
    {
     "data": {
      "text/plain": [
       "array([0.68267558, 0.45723025, 0.62524139, 0.16932607, 0.98879278,\n",
       "       0.45909638, 0.15107288, 0.213267  , 0.74505263, 0.73337603,\n",
       "       0.43891404, 0.04155894, 0.75429113, 0.37450402, 0.09309035,\n",
       "       0.26334919, 0.85085907, 0.71850193, 0.21226422, 0.89212568])"
      ]
     },
     "execution_count": 55,
     "metadata": {},
     "output_type": "execute_result"
    }
   ],
   "source": [
    "data = np.random.rand(20)\n",
    "data"
   ]
  },
  {
   "cell_type": "code",
   "execution_count": 56,
   "id": "276e657e-9cec-44e8-b54e-7110f69bebcb",
   "metadata": {},
   "outputs": [
    {
     "data": {
      "text/plain": [
       "[(0.52, 0.75], (0.28, 0.52], (0.52, 0.75], (0.041, 0.28], (0.75, 0.99], ..., (0.041, 0.28], (0.75, 0.99], (0.52, 0.75], (0.041, 0.28], (0.75, 0.99]]\n",
       "Length: 20\n",
       "Categories (4, interval[float64, right]): [(0.041, 0.28] < (0.28, 0.52] < (0.52, 0.75] < (0.75, 0.99]]"
      ]
     },
     "execution_count": 56,
     "metadata": {},
     "output_type": "execute_result"
    }
   ],
   "source": [
    "pd.cut(data, 4, precision=2)"
   ]
  },
  {
   "cell_type": "raw",
   "id": "2a924c3d-8b5d-4c88-9119-f5d317b4f017",
   "metadata": {},
   "source": [
    "The precision=2 option limits the decimal precision to two digits."
   ]
  },
  {
   "cell_type": "code",
   "execution_count": 57,
   "id": "bffd27a1-813e-4986-9223-587fcfdff1fc",
   "metadata": {},
   "outputs": [
    {
     "data": {
      "text/plain": [
       "array([ 1.99955110e-01, -6.59367228e-01, -4.05654900e-01,  1.39180194e-02,\n",
       "       -2.13073599e+00,  7.51810101e-01, -6.30575432e-01, -2.29399581e-03,\n",
       "       -1.58577889e-02,  4.17554358e-01,  4.46627635e-01,  6.08281777e-01,\n",
       "        5.11925450e-01, -7.64290454e-01, -1.81995903e+00, -1.07698068e+00,\n",
       "        4.78412786e-01, -1.65084778e+00, -4.50912374e-01,  1.12015374e+00,\n",
       "        3.20129043e-02, -1.28998088e+00,  5.16717859e-01,  1.62542631e+00,\n",
       "       -1.82420392e-01,  7.48916955e-01, -2.51262530e-01,  4.09670609e-01,\n",
       "       -8.69043742e-01, -2.95673296e+00, -6.65475567e-01,  2.15213840e-02,\n",
       "        1.07839497e+00, -6.70194994e-01, -2.06978299e+00, -7.30401906e-01,\n",
       "       -4.14011443e-01,  1.69801963e-01,  2.11040563e-01,  5.81446657e-01,\n",
       "        5.83506434e-01,  1.06018899e+00,  4.10376531e-01,  1.00332841e+00,\n",
       "       -8.06391715e-01,  8.76594174e-02,  2.67085555e-01,  6.91258492e-01,\n",
       "        1.01750984e+00,  1.64620643e-01, -1.83948659e-01, -2.01971893e-02,\n",
       "       -1.89603545e+00,  3.40958599e-01, -7.69729455e-01, -7.68013825e-01,\n",
       "       -3.94813010e-01, -7.26801741e-01,  9.02430047e-01, -4.06416906e-01,\n",
       "        1.35884996e+00,  9.96166388e-01, -6.48647429e-01, -3.94147941e-01,\n",
       "       -3.13640661e-01,  8.89560732e-01, -4.87260977e-01,  3.49076375e-01,\n",
       "        1.50279578e-02, -3.17306204e-01, -1.36864525e+00, -2.21197849e+00,\n",
       "       -4.63834959e-01, -7.49068462e-01, -2.97809693e-02, -1.10028237e+00,\n",
       "       -1.08650702e+00,  1.31086572e+00,  3.61141321e-01, -1.02949304e+00,\n",
       "       -5.91133256e-01, -2.03418694e-01,  3.74446563e-01,  2.29667426e-01,\n",
       "       -1.66190782e+00, -1.80743375e-01,  2.45823923e+00, -3.46108488e-01,\n",
       "       -4.09571218e-01,  7.73535949e-01, -1.11651023e+00,  2.29853526e-01,\n",
       "        1.18111881e+00, -8.41127580e-01, -2.15197298e+00, -1.03304899e+00,\n",
       "       -5.01025916e-01,  6.20601333e-01, -2.60244634e-02, -2.13161932e+00,\n",
       "        7.95384683e-02,  1.39296158e+00, -1.05986443e+00, -7.78203805e-01,\n",
       "        6.04792440e-01,  7.59403416e-01, -1.17939434e+00,  1.45053826e-01,\n",
       "       -2.15248184e+00, -5.38125523e-01, -3.22288575e-03,  3.03459755e-01,\n",
       "       -6.27792118e-01,  1.72138265e+00, -7.35922037e-02,  2.34045068e-01,\n",
       "        3.99888558e-01, -5.71128531e-01, -9.87425178e-01,  4.18308565e-01,\n",
       "       -5.38992633e-01, -8.82312936e-02, -1.13928972e+00, -3.99734769e-01,\n",
       "       -2.60870651e+00, -1.21587748e+00, -7.13384491e-02, -5.00402805e-01,\n",
       "        2.98793484e-01, -1.26176689e+00,  2.92884851e-02,  1.27913409e+00,\n",
       "        8.45552358e-01,  1.85273454e+00,  1.18669931e-01,  1.80462250e+00,\n",
       "       -2.16039826e-01,  1.13844753e+00, -8.61661798e-01, -1.17171830e+00,\n",
       "        4.54990288e-01, -8.59849622e-01, -1.36461861e-01,  1.62101107e+00,\n",
       "        2.40917923e-01, -6.46220324e-01, -3.71509921e-01,  3.94124895e-01,\n",
       "       -1.23031265e-01,  4.28378999e-01, -5.83647815e-01, -2.96305761e-01,\n",
       "        9.59948705e-01, -4.99665056e-01,  1.50286886e-01,  7.75431286e-01,\n",
       "       -9.12326455e-01,  1.36232639e+00, -3.02949277e-02,  7.59032830e-01,\n",
       "        9.54080112e-01,  1.28750154e+00,  5.42619782e-01,  1.50893377e+00,\n",
       "        4.64864020e-01,  5.25272259e-02, -5.84367664e-01,  4.54300923e-01,\n",
       "        3.75595001e-01,  1.62373528e+00,  6.75704465e-01,  3.48787490e-03,\n",
       "        6.56518622e-01, -7.86346462e-02, -5.26076415e-01, -3.29125936e-01,\n",
       "        5.88963514e-01, -1.17618469e+00, -9.59324011e-01,  3.07085911e-01,\n",
       "       -4.28457784e-01, -3.24678668e-01,  1.37083604e+00,  7.88282873e-01,\n",
       "       -1.34948915e-01, -5.41763025e-01, -5.61088562e-01, -5.56913263e-01,\n",
       "       -1.72694206e+00, -3.40142992e-01, -5.92522308e-01,  5.78956283e-01,\n",
       "        1.53848588e+00,  7.34692538e-01, -6.98284453e-01,  3.89151788e-01,\n",
       "       -2.87420259e-02, -1.08424942e+00,  3.16439960e-01, -7.20769903e-01,\n",
       "        1.18480409e+00, -1.54400766e+00,  4.80255954e-01,  1.53508984e+00,\n",
       "       -6.41105237e-01, -1.37682738e+00, -6.84850006e-01, -6.13434297e-01,\n",
       "       -5.71854845e-01, -5.64023950e-01,  1.87443274e-01,  3.99426524e-01,\n",
       "       -5.90738495e-01,  3.09617372e-01,  1.65859556e-01, -1.93213931e-01,\n",
       "       -1.34072794e+00, -9.74060078e-01, -3.92425150e-01, -3.82773765e-01,\n",
       "        6.26026920e-01,  4.28261740e-01, -1.65041849e-01,  1.17139877e+00,\n",
       "       -2.62832531e-01, -8.89995035e-02,  1.03626953e+00, -1.98707749e-01,\n",
       "        1.06122791e+00, -5.12371378e-01,  7.25644168e-01,  5.98807480e-01,\n",
       "        1.21486565e+00, -8.55748345e-02, -8.92978990e-01, -1.13103682e+00,\n",
       "        4.23853410e-01,  1.14459484e+00, -1.36284563e+00,  4.27323572e-01,\n",
       "        4.87822247e-01,  1.79219628e-02,  7.22313546e-01, -3.68098108e-01,\n",
       "        1.18753785e+00,  1.06526806e+00, -3.83724486e-01, -3.89674561e-01,\n",
       "        1.60205707e+00, -1.97924126e-01,  2.63566020e+00,  2.09553751e+00,\n",
       "       -8.05569144e-01,  1.17389031e-01, -1.21177226e+00, -1.48833685e+00,\n",
       "        5.90632713e-01, -7.81651297e-01,  2.84055180e-01, -7.53133565e-01,\n",
       "        6.96734013e-01,  7.60576738e-01, -1.68506285e+00, -1.60110299e+00,\n",
       "       -1.61138862e+00, -6.02763878e-01,  7.33519624e-02,  3.73994741e-01,\n",
       "        6.90304342e-01,  1.46801544e-01,  1.00176582e-01, -3.10032435e-01,\n",
       "        1.33585606e-01, -1.37651699e-01, -8.45758636e-01, -1.76361257e-01,\n",
       "       -3.61130865e-01,  1.02618723e+00, -1.45322881e+00, -1.14516688e+00,\n",
       "       -2.15599986e+00,  4.90788176e-01,  9.71407964e-01,  7.12363861e-01,\n",
       "        1.05024017e+00,  2.87274815e-01, -1.79142258e+00,  7.52009850e-01,\n",
       "        9.78192782e-01,  6.20359764e-01, -1.02809733e+00,  1.97046242e-01,\n",
       "       -7.06624132e-01, -3.33595982e+00, -3.89405214e-01,  5.63757584e-02,\n",
       "        2.07988322e+00,  3.69161288e-01, -9.79030983e-01, -1.04832508e+00,\n",
       "       -4.22926258e-01,  8.10929428e-01,  1.12726305e+00, -1.27485481e+00,\n",
       "        2.10794403e+00,  2.56811845e-01, -2.33730573e-01,  3.85219328e-01,\n",
       "        4.47738388e-01, -8.10686382e-04,  3.52052263e-01,  8.31346292e-01,\n",
       "        5.20741585e-01, -6.17822787e-01,  2.87863309e+00,  5.52618681e-01,\n",
       "        1.40673426e+00, -1.39409030e+00, -6.94629954e-01,  4.31583840e-01,\n",
       "       -4.18288225e-01,  4.10796130e-01, -1.83413017e+00,  3.83088173e-01,\n",
       "       -5.82582743e-01,  1.21862388e-01,  1.33579575e-02,  5.43334859e-01,\n",
       "        5.21338894e-01, -6.76628488e-03, -5.59970864e-01,  9.07417204e-01,\n",
       "       -4.96049104e-01,  3.24086993e-01,  9.12377345e-01,  5.98959247e-01,\n",
       "       -3.72949768e-01, -2.50070593e-01,  1.25684052e+00, -8.05833760e-01,\n",
       "        8.44420525e-01, -1.04675397e+00,  5.69920850e-01,  1.23848974e-01,\n",
       "       -9.09089044e-01, -6.85956229e-01, -1.63938049e+00,  4.85879981e-01,\n",
       "        5.87733201e-01, -5.79955460e-01, -1.31972466e-01, -1.04495946e+00,\n",
       "       -3.16012999e-01,  2.13193282e+00,  1.49777073e+00,  7.97964713e-01,\n",
       "        4.20647717e-01,  7.13207360e-02,  1.68451143e+00,  2.17911562e-01,\n",
       "       -1.82451203e+00,  2.18416628e-01,  1.09077689e+00, -7.90145971e-01,\n",
       "       -4.10697083e-02,  9.22093300e-01, -5.93578716e-01, -5.54935621e-01,\n",
       "        1.22458841e-01, -1.24421014e-01, -1.01161132e+00, -2.30121133e-01,\n",
       "       -3.84141263e-01, -3.08679783e-01, -9.97555058e-01,  3.90529603e-02,\n",
       "       -1.68505451e-01, -2.00358809e-01, -1.00098725e+00, -3.16983922e-01,\n",
       "        8.73181753e-01, -4.86780024e-01,  1.91300779e+00, -3.46555078e-01,\n",
       "        9.44151784e-01, -1.19642327e-01, -4.04883955e-01, -1.41409488e+00,\n",
       "       -1.91466894e+00,  5.44122701e-01,  1.32448869e-02, -9.28091884e-02,\n",
       "       -9.81617082e-01,  2.89954315e-02,  5.33416255e-01, -1.24763056e+00,\n",
       "        9.55383388e-01, -3.17561547e-01,  2.12438514e+00,  4.67856853e-01,\n",
       "       -8.04686152e-01, -4.95841472e-01,  2.14172651e-01, -7.73554999e-01,\n",
       "       -6.63132709e-01,  8.41478059e-01,  4.55919022e-01, -3.01023792e-01,\n",
       "        4.22184376e-01, -1.96156241e-01, -1.20529990e+00, -4.46963145e-01,\n",
       "        6.33839181e-01,  1.68161560e-02,  2.40195327e-02,  8.43472854e-01,\n",
       "        1.66875448e+00,  2.51951820e+00, -1.56946449e+00,  7.68348346e-01,\n",
       "       -4.75530197e-01, -1.63764080e+00, -1.46255819e+00,  1.96324267e+00,\n",
       "       -1.11929112e+00,  4.98727397e-01, -3.94355652e-01,  4.20899128e-02,\n",
       "        5.37190366e-01, -8.92621830e-01, -9.23873375e-01,  5.55474137e-02,\n",
       "       -2.60877747e-02,  5.59406063e-01,  2.07360744e-02, -1.14423470e+00,\n",
       "        2.21467033e+00,  1.15286710e+00, -1.78437257e+00,  4.77047472e-01,\n",
       "       -5.84825537e-01, -1.97088843e+00,  5.01890759e-02, -2.81572161e-01,\n",
       "       -1.39064179e-01, -5.54501780e-01,  7.89278943e-01,  6.79949375e-01,\n",
       "        4.84579278e-01,  2.66856507e-01,  7.15664499e-01, -8.32028220e-01,\n",
       "        9.62215566e-01, -2.37736964e+00, -1.39268778e+00,  9.86047607e-01,\n",
       "        7.07001474e-01,  7.70581260e-01, -9.82664714e-02,  2.83511117e-01,\n",
       "        3.59616080e-01, -1.03249729e+00, -1.68169546e+00,  8.14900168e-01,\n",
       "       -6.65723947e-02, -5.72214343e-01,  3.87559588e-01,  8.45365245e-02,\n",
       "       -9.30408936e-02,  1.47222805e+00,  5.60114219e-01, -1.73924315e+00,\n",
       "        1.49199626e+00,  3.91514048e-01,  2.36232524e+00,  9.42235199e-02,\n",
       "        1.45973803e+00, -6.83481455e-01, -2.80313761e+00,  1.83311083e+00,\n",
       "        7.12456539e-01,  8.97795372e-01, -1.97569637e-02, -3.28369758e-01,\n",
       "       -7.22808466e-01, -7.81103729e-01,  3.80673824e-02, -1.92048371e+00,\n",
       "        8.31321310e-01, -3.34285569e-01, -3.12266109e-01, -7.56239480e-01,\n",
       "        1.31358593e-01, -7.20162723e-01, -7.34892460e-01,  1.12543541e+00,\n",
       "       -7.54967275e-01,  9.02459184e-01, -8.59633199e-01, -7.73747725e-01,\n",
       "       -2.19812608e+00,  1.01551443e+00, -1.96821719e-01, -1.00958587e+00,\n",
       "        7.68143286e-01,  5.97931081e-01, -1.01594029e+00,  1.29485644e+00,\n",
       "       -1.38431409e+00, -1.40047263e+00,  3.67077286e-01, -1.91831777e+00,\n",
       "        9.99991804e-01,  7.01300296e-01, -2.57351945e+00,  1.01768040e+00,\n",
       "        1.21820098e-02,  4.75219356e-01,  1.06701197e+00, -3.41028717e-01,\n",
       "       -9.33959555e-01, -2.11833169e+00, -6.15435803e-01,  8.54363156e-01,\n",
       "       -6.31896219e-01,  9.93766321e-02, -1.68866337e+00,  3.96857893e-01,\n",
       "        4.07349568e-01,  3.75946563e-01,  9.32667255e-01,  1.93713549e-01,\n",
       "        6.91177348e-01, -1.08769235e+00, -1.06901552e+00,  4.36017921e-01,\n",
       "       -1.26457346e-01,  1.90659177e+00, -5.37951368e-01,  1.34562512e+00,\n",
       "        4.88092393e-01,  1.64859165e+00, -7.99774557e-01, -1.46989960e-01,\n",
       "        1.02429064e-01,  3.69504842e-01, -1.25995047e+00, -1.42718903e+00,\n",
       "       -1.25049053e+00, -8.15045368e-01,  1.10196206e+00,  7.03064490e-01,\n",
       "       -6.17013344e-02, -6.41191270e-01,  6.59446107e-01,  2.27793787e-02,\n",
       "       -9.54244997e-01, -1.32874308e-01, -4.69748813e-01,  4.85552697e-01,\n",
       "        6.17463035e-01, -4.34381811e-01, -9.27558880e-01, -4.53048544e-01,\n",
       "        9.95165736e-01,  3.24933149e-01, -8.88435962e-01,  4.12265052e-01,\n",
       "        7.97182276e-01, -1.18985632e+00,  5.72154046e-01,  1.32100415e+00,\n",
       "       -1.22786369e+00, -1.59888731e+00,  1.49169609e+00,  1.28958157e-01,\n",
       "       -5.93336657e-01,  1.74436491e-01, -4.27236805e-01, -1.42820498e+00,\n",
       "       -3.24314628e-01, -7.89104649e-01, -6.88956185e-01,  5.87909469e-01,\n",
       "       -3.86537357e-01, -2.08401392e-01, -1.91123729e+00, -6.45162965e-01,\n",
       "        8.22784815e-01, -1.66713574e+00,  6.77319131e-01,  4.61175738e-01,\n",
       "       -1.15199590e+00, -1.05322090e+00,  1.07956041e+00, -1.40634559e-01,\n",
       "        1.52195142e-02,  4.80463240e-01,  1.62303296e+00, -5.49026124e-01,\n",
       "       -1.31672837e+00, -1.95972006e-01, -1.82844078e-01, -4.56993940e-01,\n",
       "        5.79899226e-01, -1.40504985e+00,  9.97115067e-01,  1.42075701e-02,\n",
       "       -9.90276120e-01,  5.26104892e-01, -1.18197561e+00, -1.18047677e+00,\n",
       "        1.32085030e+00,  1.03180490e+00,  1.04629043e+00, -4.73096875e-01,\n",
       "       -8.41912627e-02, -1.32337781e-03,  1.16094111e+00,  6.40546907e-01,\n",
       "        2.69844005e-01, -2.02046430e+00,  5.31363509e-01,  2.92063988e-01,\n",
       "        1.74370599e-01,  1.08046242e+00,  6.51555665e-01, -2.37432065e-01,\n",
       "       -1.04527114e+00, -1.95109222e+00,  2.86833857e-01, -2.65079987e-01,\n",
       "        8.23350045e-01, -7.73174168e-01, -7.12660603e-01, -1.40812739e+00,\n",
       "        1.18695881e+00, -4.56516780e-01, -1.09491014e+00,  4.25873776e-02,\n",
       "        4.54089941e-01,  1.04387642e+00,  2.34727916e-01, -1.55950506e+00,\n",
       "       -6.32338228e-01,  1.66845863e+00, -6.08010745e-01,  8.54798177e-01,\n",
       "       -7.79256520e-01,  1.54637465e-01, -1.13611234e+00, -8.93635134e-01,\n",
       "        5.16662557e-01,  2.57113212e-01,  5.30252012e-01, -1.85577767e+00,\n",
       "        1.16414141e+00, -1.79987199e+00,  4.69267515e-01,  9.13479868e-03,\n",
       "       -2.52482399e+00,  7.90702837e-01, -5.00337585e-01,  1.81117093e-01,\n",
       "       -4.36314650e-01,  3.45709884e-01,  2.57233112e-01, -5.01690452e-01,\n",
       "       -1.87219449e+00,  5.31106450e-01,  4.44818735e-02,  1.61082807e-01,\n",
       "        6.85977067e-02, -2.07927968e+00,  1.25404109e+00, -1.34496539e-01,\n",
       "       -2.87425729e-01, -4.24558821e-02, -4.76456507e-01, -1.21463882e+00,\n",
       "        1.58223001e+00, -1.03932776e+00,  1.42225675e+00, -2.30491678e-01,\n",
       "       -6.25561710e-01, -3.32777040e-01, -5.14371660e-02,  4.81697810e-01,\n",
       "       -1.88913444e-01, -1.01397944e+00,  7.88052364e-01,  3.05004628e-01,\n",
       "        7.20256867e-01, -1.23554304e+00,  1.25191450e+00,  1.65953367e+00,\n",
       "        8.53660181e-01,  2.63992136e-01,  2.87421676e-01,  2.51877927e-01,\n",
       "        1.03707249e-01, -2.06152322e-01,  2.63935008e-01,  4.53620227e-01,\n",
       "       -1.55728417e+00,  1.29995722e+00, -1.08524446e+00,  1.41142515e+00,\n",
       "       -5.69759976e-01,  2.48572055e-01, -1.07972590e+00, -1.10090089e-01,\n",
       "       -3.88480315e-01,  4.60656230e-01, -1.00615336e+00, -1.13609208e+00,\n",
       "       -9.69202742e-02,  4.21252995e-01,  1.11159161e+00, -3.00449865e-01,\n",
       "       -8.66160754e-01, -6.56140541e-01, -1.32957831e+00,  8.36840083e-01,\n",
       "        2.03462782e-01,  1.83220276e-01,  1.45238921e+00,  1.95609153e+00,\n",
       "       -1.44286010e+00,  5.51734889e-01,  7.25463186e-01, -9.73410754e-01,\n",
       "       -4.67934694e-01, -7.76246021e-01,  1.05726890e+00,  1.37926623e+00,\n",
       "       -1.72973797e-01,  5.15202064e-01, -1.01366495e+00,  1.22949050e-01,\n",
       "       -1.66603763e+00, -1.87745737e-01,  4.68038363e-01,  5.68477131e-02,\n",
       "        1.05865618e+00, -1.78590760e-01,  3.29867762e-02, -9.51393652e-01,\n",
       "       -1.23303744e-01, -1.62986982e-01, -4.06047098e-01,  8.47779126e-01,\n",
       "        6.39737021e-01, -1.58128223e+00,  1.50898469e+00,  8.33791441e-02,\n",
       "        1.23910492e+00,  1.84675351e+00, -3.65931974e-01,  8.97626828e-01,\n",
       "        3.11701285e-01, -2.84066439e-02, -1.94322033e-01,  1.59556803e+00,\n",
       "       -2.42897894e-01,  6.38465255e-01, -4.93630649e-02,  2.71922660e-01,\n",
       "        9.91749162e-01, -1.67951904e+00,  6.74375064e-01, -1.03896335e+00,\n",
       "        1.28382899e+00, -1.00318715e-01,  1.96334770e-01,  1.91921349e+00,\n",
       "        2.63352469e-01,  1.14421455e+00,  1.08236691e+00,  1.45956814e-01,\n",
       "        1.36854145e+00,  8.15486285e-01,  5.83524163e-01, -1.20233450e+00,\n",
       "        2.01934908e+00,  1.57656102e+00,  9.53032325e-01,  5.91095458e-01,\n",
       "        5.12191149e-01, -1.45981469e-01,  2.04999557e-01,  5.96700458e-01,\n",
       "       -2.18088460e-01,  3.57743995e+00, -5.59942909e-01, -1.82995292e+00,\n",
       "       -7.80971448e-01,  5.63491132e-01, -1.49758742e+00,  2.10233733e+00,\n",
       "       -8.19754265e-02,  4.04598691e-01, -1.30601973e+00,  3.99695173e-01,\n",
       "       -6.76445869e-01, -1.57851538e+00,  9.97043405e-01, -6.98428725e-01,\n",
       "       -1.04163977e+00, -1.15373999e+00,  6.14856932e-01,  2.00314920e-01,\n",
       "        2.85738115e-01,  1.28142025e+00,  2.61494028e-01, -8.10634421e-02,\n",
       "        4.84467683e-01,  2.87959649e-01, -1.34171955e-01,  2.49782795e-01,\n",
       "       -1.15986184e+00,  4.98172605e-01, -7.69906772e-01, -2.24401249e-01,\n",
       "        8.33131190e-01, -2.15323866e-01,  4.40277388e-01, -1.23241689e-02,\n",
       "       -1.62172408e+00, -9.02117965e-01,  1.70026266e-01,  1.23872278e+00,\n",
       "        3.00034932e-01,  8.77217428e-01, -4.28254196e-01, -1.60384176e+00,\n",
       "       -7.27758577e-01,  5.75339012e-01,  1.84002975e+00, -2.82762331e-01,\n",
       "       -4.46689503e-01,  4.54598411e-01, -7.20925959e-01, -4.94958971e-01,\n",
       "        1.83361358e+00,  5.41639029e-01, -2.37669615e-02,  6.91161817e-02,\n",
       "       -1.16625399e+00,  1.47998363e+00, -5.24639431e-02,  2.29484969e-01,\n",
       "        9.80085556e-01,  4.87309926e-01, -1.36829218e+00, -1.45687696e+00,\n",
       "        6.29236519e-01,  3.96237597e-02, -1.36637113e-01, -8.87980543e-01,\n",
       "        1.70098302e+00,  1.20626516e+00,  2.22293721e-01, -1.30343406e+00,\n",
       "        1.21402625e-01, -7.37671565e-01,  1.24324714e+00, -1.06006414e+00,\n",
       "        9.59501140e-01, -2.30747847e-01,  9.25549861e-02,  1.23926865e+00,\n",
       "       -4.65883226e-02, -4.12507690e-01, -7.79592894e-02, -2.34582513e-01,\n",
       "        2.04675826e+00, -1.90529405e+00,  1.03559580e+00, -1.29599878e-01,\n",
       "       -9.13081280e-02,  1.32167985e+00, -7.82731387e-01, -1.29193227e-01,\n",
       "        1.06190146e+00,  7.12800474e-02,  4.87489742e-01,  3.49450406e-01,\n",
       "       -8.27049072e-01, -1.22200747e+00,  3.63325814e-01, -9.89588832e-01,\n",
       "       -3.99031463e-01,  1.06271907e+00, -4.31001520e-01, -3.35374493e-01,\n",
       "       -2.59420603e-01,  5.94133788e-01, -1.04866736e+00,  5.14124318e-01,\n",
       "       -6.74788979e-01,  9.84543893e-01,  2.59130202e-01, -2.99614411e-01,\n",
       "       -2.75028926e-01, -1.97154563e+00,  2.76552718e-01, -1.21348559e-01,\n",
       "        4.23998677e-01,  9.99576446e-01, -5.97071914e-01,  6.27470600e-02,\n",
       "       -1.66601703e+00, -6.69013944e-02,  3.12415661e-01,  1.55112924e+00,\n",
       "       -8.89793886e-02,  8.85875678e-01,  7.13058616e-01, -1.98426571e-01,\n",
       "       -2.65242984e-01, -2.52357526e-01,  6.00371300e-01, -2.08330454e-02,\n",
       "       -5.72334494e-01,  1.41294710e+00,  1.41930339e+00, -1.97152614e-01,\n",
       "        2.37624892e+00,  4.10624511e-01, -2.21481753e+00, -1.25978403e+00,\n",
       "       -9.22850490e-01,  4.09233034e-01,  1.36508035e-02,  2.42267981e-01,\n",
       "        1.37652942e+00,  2.04707159e-01,  2.55829270e+00,  1.43859514e+00,\n",
       "       -8.53406856e-01,  2.75853110e-01, -1.55833580e+00,  1.87071033e+00,\n",
       "       -2.96816075e-02,  1.46482987e+00, -2.70073097e-01,  2.22843795e-01,\n",
       "       -1.73495332e+00, -1.79123868e+00,  2.55090536e-01, -5.59974244e-01,\n",
       "       -1.19106010e+00,  1.45898740e+00,  1.12486047e+00, -3.05256139e+00,\n",
       "        4.25047223e-01, -8.73451852e-01, -1.35230212e+00, -7.00146439e-01,\n",
       "        3.14385902e-01, -2.12366454e-01, -8.71508302e-01, -1.30916258e+00,\n",
       "       -1.72477038e+00, -2.90329443e-01, -4.21085409e-01,  6.05154984e-01,\n",
       "        1.69788035e+00, -9.88034651e-01, -5.41483717e-01,  1.30337753e+00,\n",
       "       -2.67124700e-01,  5.07921602e-01, -1.18395699e+00,  2.69626352e-01,\n",
       "       -6.40309375e-01, -1.49689527e+00, -1.02137799e+00,  1.32697320e+00,\n",
       "       -1.50832225e-01, -1.16704569e+00, -3.66238762e-01,  1.78498356e-01,\n",
       "       -1.56367822e+00,  1.62769081e-01, -6.17314078e-01,  1.28822669e+00,\n",
       "        1.38514589e+00,  1.15046967e+00,  2.88737467e-01, -4.03412949e-01,\n",
       "        1.29210459e+00,  1.15792139e+00,  2.99769079e-01, -6.41471572e-01,\n",
       "        1.27528759e+00,  1.31437480e-01, -3.45603323e-01,  1.20102478e+00])"
      ]
     },
     "execution_count": 57,
     "metadata": {},
     "output_type": "execute_result"
    }
   ],
   "source": [
    "data = np.random.randn(1000)\n",
    "data"
   ]
  },
  {
   "cell_type": "code",
   "execution_count": 58,
   "id": "a1d11006-7f7f-4527-9bd1-29b467bb9d29",
   "metadata": {},
   "outputs": [
    {
     "data": {
      "text/plain": [
       "[(0.00631, 0.591], (-3.3369999999999997, -0.651], (-0.651, 0.00631], (0.00631, 0.591], (-3.3369999999999997, -0.651], ..., (-0.651, 0.00631], (0.591, 3.577], (0.00631, 0.591], (-0.651, 0.00631], (0.591, 3.577]]\n",
       "Length: 1000\n",
       "Categories (4, interval[float64, right]): [(-3.3369999999999997, -0.651] < (-0.651, 0.00631] < (0.00631, 0.591] < (0.591, 3.577]]"
      ]
     },
     "execution_count": 58,
     "metadata": {},
     "output_type": "execute_result"
    }
   ],
   "source": [
    "cats = pd.qcut(data,4)\n",
    "cats"
   ]
  },
  {
   "cell_type": "code",
   "execution_count": 59,
   "id": "3309fa07-d0d3-4541-b582-2dac8dba7578",
   "metadata": {},
   "outputs": [
    {
     "name": "stderr",
     "output_type": "stream",
     "text": [
      "C:\\Users\\shyam\\AppData\\Local\\Temp\\ipykernel_12920\\1485279302.py:1: FutureWarning: pandas.value_counts is deprecated and will be removed in a future version. Use pd.Series(obj).value_counts() instead.\n",
      "  pd.value_counts(cats)\n"
     ]
    },
    {
     "data": {
      "text/plain": [
       "(-3.3369999999999997, -0.651]    250\n",
       "(-0.651, 0.00631]                250\n",
       "(0.00631, 0.591]                 250\n",
       "(0.591, 3.577]                   250\n",
       "Name: count, dtype: int64"
      ]
     },
     "execution_count": 59,
     "metadata": {},
     "output_type": "execute_result"
    }
   ],
   "source": [
    "pd.value_counts(cats)"
   ]
  },
  {
   "cell_type": "code",
   "execution_count": 60,
   "id": "a607f4ab-d826-49c0-a0dd-c885cfaa61ab",
   "metadata": {},
   "outputs": [
    {
     "data": {
      "text/plain": [
       "[(0.00631, 1.187], (-1.248, 0.00631], (-1.248, 0.00631], (0.00631, 1.187], (-3.3369999999999997, -1.248], ..., (-1.248, 0.00631], (1.187, 3.577], (0.00631, 1.187], (-1.248, 0.00631], (1.187, 3.577]]\n",
       "Length: 1000\n",
       "Categories (4, interval[float64, right]): [(-3.3369999999999997, -1.248] < (-1.248, 0.00631] < (0.00631, 1.187] < (1.187, 3.577]]"
      ]
     },
     "execution_count": 60,
     "metadata": {},
     "output_type": "execute_result"
    }
   ],
   "source": [
    "pd.qcut(data, [0, 0.1, 0.5, 0.9, 1.])"
   ]
  },
  {
   "cell_type": "markdown",
   "id": "07676bb7-4bc6-4381-b370-8d73d532a628",
   "metadata": {},
   "source": [
    "# Detecting n filtering outliners"
   ]
  },
  {
   "cell_type": "code",
   "execution_count": 61,
   "id": "8f13ef0d-569d-4d35-8432-6317f1a5dfd3",
   "metadata": {},
   "outputs": [
    {
     "data": {
      "text/html": [
       "<div>\n",
       "<style scoped>\n",
       "    .dataframe tbody tr th:only-of-type {\n",
       "        vertical-align: middle;\n",
       "    }\n",
       "\n",
       "    .dataframe tbody tr th {\n",
       "        vertical-align: top;\n",
       "    }\n",
       "\n",
       "    .dataframe thead th {\n",
       "        text-align: right;\n",
       "    }\n",
       "</style>\n",
       "<table border=\"1\" class=\"dataframe\">\n",
       "  <thead>\n",
       "    <tr style=\"text-align: right;\">\n",
       "      <th></th>\n",
       "      <th>0</th>\n",
       "      <th>1</th>\n",
       "      <th>2</th>\n",
       "      <th>3</th>\n",
       "    </tr>\n",
       "  </thead>\n",
       "  <tbody>\n",
       "    <tr>\n",
       "      <th>0</th>\n",
       "      <td>0.287580</td>\n",
       "      <td>-0.370574</td>\n",
       "      <td>0.909957</td>\n",
       "      <td>-0.129304</td>\n",
       "    </tr>\n",
       "    <tr>\n",
       "      <th>1</th>\n",
       "      <td>-0.004854</td>\n",
       "      <td>-0.749599</td>\n",
       "      <td>-1.150362</td>\n",
       "      <td>0.279239</td>\n",
       "    </tr>\n",
       "    <tr>\n",
       "      <th>2</th>\n",
       "      <td>0.026134</td>\n",
       "      <td>0.787641</td>\n",
       "      <td>-0.329050</td>\n",
       "      <td>1.052395</td>\n",
       "    </tr>\n",
       "    <tr>\n",
       "      <th>3</th>\n",
       "      <td>-1.232495</td>\n",
       "      <td>-0.010449</td>\n",
       "      <td>0.409616</td>\n",
       "      <td>2.278230</td>\n",
       "    </tr>\n",
       "    <tr>\n",
       "      <th>4</th>\n",
       "      <td>0.778101</td>\n",
       "      <td>0.884371</td>\n",
       "      <td>0.986519</td>\n",
       "      <td>-0.178258</td>\n",
       "    </tr>\n",
       "    <tr>\n",
       "      <th>...</th>\n",
       "      <td>...</td>\n",
       "      <td>...</td>\n",
       "      <td>...</td>\n",
       "      <td>...</td>\n",
       "    </tr>\n",
       "    <tr>\n",
       "      <th>995</th>\n",
       "      <td>0.550412</td>\n",
       "      <td>0.349343</td>\n",
       "      <td>-1.028002</td>\n",
       "      <td>-2.282341</td>\n",
       "    </tr>\n",
       "    <tr>\n",
       "      <th>996</th>\n",
       "      <td>0.766920</td>\n",
       "      <td>0.458252</td>\n",
       "      <td>1.507505</td>\n",
       "      <td>-0.741712</td>\n",
       "    </tr>\n",
       "    <tr>\n",
       "      <th>997</th>\n",
       "      <td>-0.690742</td>\n",
       "      <td>-0.195222</td>\n",
       "      <td>0.146626</td>\n",
       "      <td>-1.009976</td>\n",
       "    </tr>\n",
       "    <tr>\n",
       "      <th>998</th>\n",
       "      <td>1.086992</td>\n",
       "      <td>-0.076574</td>\n",
       "      <td>1.803292</td>\n",
       "      <td>-0.090404</td>\n",
       "    </tr>\n",
       "    <tr>\n",
       "      <th>999</th>\n",
       "      <td>-0.165501</td>\n",
       "      <td>1.739893</td>\n",
       "      <td>-0.229780</td>\n",
       "      <td>-0.083877</td>\n",
       "    </tr>\n",
       "  </tbody>\n",
       "</table>\n",
       "<p>1000 rows × 4 columns</p>\n",
       "</div>"
      ],
      "text/plain": [
       "            0         1         2         3\n",
       "0    0.287580 -0.370574  0.909957 -0.129304\n",
       "1   -0.004854 -0.749599 -1.150362  0.279239\n",
       "2    0.026134  0.787641 -0.329050  1.052395\n",
       "3   -1.232495 -0.010449  0.409616  2.278230\n",
       "4    0.778101  0.884371  0.986519 -0.178258\n",
       "..        ...       ...       ...       ...\n",
       "995  0.550412  0.349343 -1.028002 -2.282341\n",
       "996  0.766920  0.458252  1.507505 -0.741712\n",
       "997 -0.690742 -0.195222  0.146626 -1.009976\n",
       "998  1.086992 -0.076574  1.803292 -0.090404\n",
       "999 -0.165501  1.739893 -0.229780 -0.083877\n",
       "\n",
       "[1000 rows x 4 columns]"
      ]
     },
     "execution_count": 61,
     "metadata": {},
     "output_type": "execute_result"
    }
   ],
   "source": [
    "data = pd.DataFrame(np.random.randn(1000,4))\n",
    "data"
   ]
  },
  {
   "cell_type": "code",
   "execution_count": 62,
   "id": "bf70407b-8e42-4105-b4ef-bc11f38ea318",
   "metadata": {},
   "outputs": [
    {
     "data": {
      "text/html": [
       "<div>\n",
       "<style scoped>\n",
       "    .dataframe tbody tr th:only-of-type {\n",
       "        vertical-align: middle;\n",
       "    }\n",
       "\n",
       "    .dataframe tbody tr th {\n",
       "        vertical-align: top;\n",
       "    }\n",
       "\n",
       "    .dataframe thead th {\n",
       "        text-align: right;\n",
       "    }\n",
       "</style>\n",
       "<table border=\"1\" class=\"dataframe\">\n",
       "  <thead>\n",
       "    <tr style=\"text-align: right;\">\n",
       "      <th></th>\n",
       "      <th>0</th>\n",
       "      <th>1</th>\n",
       "      <th>2</th>\n",
       "      <th>3</th>\n",
       "    </tr>\n",
       "  </thead>\n",
       "  <tbody>\n",
       "    <tr>\n",
       "      <th>count</th>\n",
       "      <td>1000.000000</td>\n",
       "      <td>1000.000000</td>\n",
       "      <td>1000.000000</td>\n",
       "      <td>1000.000000</td>\n",
       "    </tr>\n",
       "    <tr>\n",
       "      <th>mean</th>\n",
       "      <td>0.005143</td>\n",
       "      <td>0.019643</td>\n",
       "      <td>0.042527</td>\n",
       "      <td>-0.054404</td>\n",
       "    </tr>\n",
       "    <tr>\n",
       "      <th>std</th>\n",
       "      <td>1.004336</td>\n",
       "      <td>0.978889</td>\n",
       "      <td>0.971768</td>\n",
       "      <td>1.020243</td>\n",
       "    </tr>\n",
       "    <tr>\n",
       "      <th>min</th>\n",
       "      <td>-2.999347</td>\n",
       "      <td>-3.186111</td>\n",
       "      <td>-3.507897</td>\n",
       "      <td>-2.964339</td>\n",
       "    </tr>\n",
       "    <tr>\n",
       "      <th>25%</th>\n",
       "      <td>-0.659353</td>\n",
       "      <td>-0.630791</td>\n",
       "      <td>-0.591754</td>\n",
       "      <td>-0.730021</td>\n",
       "    </tr>\n",
       "    <tr>\n",
       "      <th>50%</th>\n",
       "      <td>-0.012837</td>\n",
       "      <td>0.030979</td>\n",
       "      <td>0.065624</td>\n",
       "      <td>-0.097660</td>\n",
       "    </tr>\n",
       "    <tr>\n",
       "      <th>75%</th>\n",
       "      <td>0.645869</td>\n",
       "      <td>0.696513</td>\n",
       "      <td>0.708433</td>\n",
       "      <td>0.578846</td>\n",
       "    </tr>\n",
       "    <tr>\n",
       "      <th>max</th>\n",
       "      <td>3.293812</td>\n",
       "      <td>4.294978</td>\n",
       "      <td>3.035468</td>\n",
       "      <td>3.486695</td>\n",
       "    </tr>\n",
       "  </tbody>\n",
       "</table>\n",
       "</div>"
      ],
      "text/plain": [
       "                 0            1            2            3\n",
       "count  1000.000000  1000.000000  1000.000000  1000.000000\n",
       "mean      0.005143     0.019643     0.042527    -0.054404\n",
       "std       1.004336     0.978889     0.971768     1.020243\n",
       "min      -2.999347    -3.186111    -3.507897    -2.964339\n",
       "25%      -0.659353    -0.630791    -0.591754    -0.730021\n",
       "50%      -0.012837     0.030979     0.065624    -0.097660\n",
       "75%       0.645869     0.696513     0.708433     0.578846\n",
       "max       3.293812     4.294978     3.035468     3.486695"
      ]
     },
     "execution_count": 62,
     "metadata": {},
     "output_type": "execute_result"
    }
   ],
   "source": [
    "data.describe()"
   ]
  },
  {
   "cell_type": "code",
   "execution_count": 63,
   "id": "eef97619-7abc-4ef7-bff2-97cd8cf15ef2",
   "metadata": {},
   "outputs": [
    {
     "data": {
      "text/plain": [
       "0      0.909957\n",
       "1     -1.150362\n",
       "2     -0.329050\n",
       "3      0.409616\n",
       "4      0.986519\n",
       "         ...   \n",
       "995   -1.028002\n",
       "996    1.507505\n",
       "997    0.146626\n",
       "998    1.803292\n",
       "999   -0.229780\n",
       "Name: 2, Length: 1000, dtype: float64"
      ]
     },
     "execution_count": 63,
     "metadata": {},
     "output_type": "execute_result"
    }
   ],
   "source": [
    "col = data[2]\n",
    "col"
   ]
  },
  {
   "cell_type": "code",
   "execution_count": 64,
   "id": "7447f801-b65d-4e11-a7ea-f89cee79cd1f",
   "metadata": {},
   "outputs": [
    {
     "data": {
      "text/plain": [
       "339   -3.507897\n",
       "435    3.035468\n",
       "847   -3.333012\n",
       "Name: 2, dtype: float64"
      ]
     },
     "execution_count": 64,
     "metadata": {},
     "output_type": "execute_result"
    }
   ],
   "source": [
    "col[np.abs(col)>3]"
   ]
  },
  {
   "cell_type": "code",
   "execution_count": 65,
   "id": "8fcad96b-1805-4784-97d0-2b2d37e34308",
   "metadata": {},
   "outputs": [
    {
     "data": {
      "text/html": [
       "<div>\n",
       "<style scoped>\n",
       "    .dataframe tbody tr th:only-of-type {\n",
       "        vertical-align: middle;\n",
       "    }\n",
       "\n",
       "    .dataframe tbody tr th {\n",
       "        vertical-align: top;\n",
       "    }\n",
       "\n",
       "    .dataframe thead th {\n",
       "        text-align: right;\n",
       "    }\n",
       "</style>\n",
       "<table border=\"1\" class=\"dataframe\">\n",
       "  <thead>\n",
       "    <tr style=\"text-align: right;\">\n",
       "      <th></th>\n",
       "      <th>0</th>\n",
       "      <th>1</th>\n",
       "      <th>2</th>\n",
       "      <th>3</th>\n",
       "    </tr>\n",
       "  </thead>\n",
       "  <tbody>\n",
       "    <tr>\n",
       "      <th>173</th>\n",
       "      <td>-0.298458</td>\n",
       "      <td>0.594988</td>\n",
       "      <td>0.772039</td>\n",
       "      <td>3.486695</td>\n",
       "    </tr>\n",
       "    <tr>\n",
       "      <th>241</th>\n",
       "      <td>0.100473</td>\n",
       "      <td>1.047663</td>\n",
       "      <td>-1.069333</td>\n",
       "      <td>3.019715</td>\n",
       "    </tr>\n",
       "    <tr>\n",
       "      <th>339</th>\n",
       "      <td>-1.178524</td>\n",
       "      <td>0.257122</td>\n",
       "      <td>-3.507897</td>\n",
       "      <td>-1.545857</td>\n",
       "    </tr>\n",
       "    <tr>\n",
       "      <th>360</th>\n",
       "      <td>0.783584</td>\n",
       "      <td>4.294978</td>\n",
       "      <td>1.049759</td>\n",
       "      <td>0.483642</td>\n",
       "    </tr>\n",
       "    <tr>\n",
       "      <th>435</th>\n",
       "      <td>-0.664589</td>\n",
       "      <td>0.610001</td>\n",
       "      <td>3.035468</td>\n",
       "      <td>-2.928027</td>\n",
       "    </tr>\n",
       "    <tr>\n",
       "      <th>662</th>\n",
       "      <td>0.885851</td>\n",
       "      <td>3.181820</td>\n",
       "      <td>-0.367145</td>\n",
       "      <td>-1.105964</td>\n",
       "    </tr>\n",
       "    <tr>\n",
       "      <th>798</th>\n",
       "      <td>0.034476</td>\n",
       "      <td>-3.186111</td>\n",
       "      <td>0.691565</td>\n",
       "      <td>2.086348</td>\n",
       "    </tr>\n",
       "    <tr>\n",
       "      <th>847</th>\n",
       "      <td>-0.007694</td>\n",
       "      <td>-1.419145</td>\n",
       "      <td>-3.333012</td>\n",
       "      <td>0.627807</td>\n",
       "    </tr>\n",
       "    <tr>\n",
       "      <th>855</th>\n",
       "      <td>3.293812</td>\n",
       "      <td>-0.437603</td>\n",
       "      <td>0.823346</td>\n",
       "      <td>0.782997</td>\n",
       "    </tr>\n",
       "  </tbody>\n",
       "</table>\n",
       "</div>"
      ],
      "text/plain": [
       "            0         1         2         3\n",
       "173 -0.298458  0.594988  0.772039  3.486695\n",
       "241  0.100473  1.047663 -1.069333  3.019715\n",
       "339 -1.178524  0.257122 -3.507897 -1.545857\n",
       "360  0.783584  4.294978  1.049759  0.483642\n",
       "435 -0.664589  0.610001  3.035468 -2.928027\n",
       "662  0.885851  3.181820 -0.367145 -1.105964\n",
       "798  0.034476 -3.186111  0.691565  2.086348\n",
       "847 -0.007694 -1.419145 -3.333012  0.627807\n",
       "855  3.293812 -0.437603  0.823346  0.782997"
      ]
     },
     "execution_count": 65,
     "metadata": {},
     "output_type": "execute_result"
    }
   ],
   "source": [
    "data[(np.abs(data) > 3).any(axis=1)]"
   ]
  },
  {
   "cell_type": "code",
   "execution_count": 66,
   "id": "123b076d-95be-458b-b068-44fe34ee4d0d",
   "metadata": {},
   "outputs": [
    {
     "data": {
      "text/html": [
       "<div>\n",
       "<style scoped>\n",
       "    .dataframe tbody tr th:only-of-type {\n",
       "        vertical-align: middle;\n",
       "    }\n",
       "\n",
       "    .dataframe tbody tr th {\n",
       "        vertical-align: top;\n",
       "    }\n",
       "\n",
       "    .dataframe thead th {\n",
       "        text-align: right;\n",
       "    }\n",
       "</style>\n",
       "<table border=\"1\" class=\"dataframe\">\n",
       "  <thead>\n",
       "    <tr style=\"text-align: right;\">\n",
       "      <th></th>\n",
       "      <th>0</th>\n",
       "      <th>1</th>\n",
       "      <th>2</th>\n",
       "      <th>3</th>\n",
       "    </tr>\n",
       "  </thead>\n",
       "  <tbody>\n",
       "    <tr>\n",
       "      <th>count</th>\n",
       "      <td>1000.000000</td>\n",
       "      <td>1000.000000</td>\n",
       "      <td>1000.000000</td>\n",
       "      <td>1000.000000</td>\n",
       "    </tr>\n",
       "    <tr>\n",
       "      <th>mean</th>\n",
       "      <td>0.004849</td>\n",
       "      <td>0.018352</td>\n",
       "      <td>0.043332</td>\n",
       "      <td>-0.054910</td>\n",
       "    </tr>\n",
       "    <tr>\n",
       "      <th>std</th>\n",
       "      <td>1.003415</td>\n",
       "      <td>0.972902</td>\n",
       "      <td>0.968829</td>\n",
       "      <td>1.018608</td>\n",
       "    </tr>\n",
       "    <tr>\n",
       "      <th>min</th>\n",
       "      <td>-2.999347</td>\n",
       "      <td>-3.000000</td>\n",
       "      <td>-3.000000</td>\n",
       "      <td>-2.964339</td>\n",
       "    </tr>\n",
       "    <tr>\n",
       "      <th>25%</th>\n",
       "      <td>-0.659353</td>\n",
       "      <td>-0.630791</td>\n",
       "      <td>-0.591754</td>\n",
       "      <td>-0.730021</td>\n",
       "    </tr>\n",
       "    <tr>\n",
       "      <th>50%</th>\n",
       "      <td>-0.012837</td>\n",
       "      <td>0.030979</td>\n",
       "      <td>0.065624</td>\n",
       "      <td>-0.097660</td>\n",
       "    </tr>\n",
       "    <tr>\n",
       "      <th>75%</th>\n",
       "      <td>0.645869</td>\n",
       "      <td>0.696513</td>\n",
       "      <td>0.708433</td>\n",
       "      <td>0.578846</td>\n",
       "    </tr>\n",
       "    <tr>\n",
       "      <th>max</th>\n",
       "      <td>3.000000</td>\n",
       "      <td>3.000000</td>\n",
       "      <td>3.000000</td>\n",
       "      <td>3.000000</td>\n",
       "    </tr>\n",
       "  </tbody>\n",
       "</table>\n",
       "</div>"
      ],
      "text/plain": [
       "                 0            1            2            3\n",
       "count  1000.000000  1000.000000  1000.000000  1000.000000\n",
       "mean      0.004849     0.018352     0.043332    -0.054910\n",
       "std       1.003415     0.972902     0.968829     1.018608\n",
       "min      -2.999347    -3.000000    -3.000000    -2.964339\n",
       "25%      -0.659353    -0.630791    -0.591754    -0.730021\n",
       "50%      -0.012837     0.030979     0.065624    -0.097660\n",
       "75%       0.645869     0.696513     0.708433     0.578846\n",
       "max       3.000000     3.000000     3.000000     3.000000"
      ]
     },
     "execution_count": 66,
     "metadata": {},
     "output_type": "execute_result"
    }
   ],
   "source": [
    "data[np.abs(data) > 3] = np.sign(data) * 3\n",
    "data.describe()"
   ]
  },
  {
   "cell_type": "code",
   "execution_count": 67,
   "id": "2eff3d47-3a3e-4047-98b1-2e1fb31ded6b",
   "metadata": {},
   "outputs": [
    {
     "data": {
      "text/html": [
       "<div>\n",
       "<style scoped>\n",
       "    .dataframe tbody tr th:only-of-type {\n",
       "        vertical-align: middle;\n",
       "    }\n",
       "\n",
       "    .dataframe tbody tr th {\n",
       "        vertical-align: top;\n",
       "    }\n",
       "\n",
       "    .dataframe thead th {\n",
       "        text-align: right;\n",
       "    }\n",
       "</style>\n",
       "<table border=\"1\" class=\"dataframe\">\n",
       "  <thead>\n",
       "    <tr style=\"text-align: right;\">\n",
       "      <th></th>\n",
       "      <th>0</th>\n",
       "      <th>1</th>\n",
       "      <th>2</th>\n",
       "      <th>3</th>\n",
       "    </tr>\n",
       "  </thead>\n",
       "  <tbody>\n",
       "    <tr>\n",
       "      <th>0</th>\n",
       "      <td>1.0</td>\n",
       "      <td>-1.0</td>\n",
       "      <td>1.0</td>\n",
       "      <td>-1.0</td>\n",
       "    </tr>\n",
       "    <tr>\n",
       "      <th>1</th>\n",
       "      <td>-1.0</td>\n",
       "      <td>-1.0</td>\n",
       "      <td>-1.0</td>\n",
       "      <td>1.0</td>\n",
       "    </tr>\n",
       "    <tr>\n",
       "      <th>2</th>\n",
       "      <td>1.0</td>\n",
       "      <td>1.0</td>\n",
       "      <td>-1.0</td>\n",
       "      <td>1.0</td>\n",
       "    </tr>\n",
       "    <tr>\n",
       "      <th>3</th>\n",
       "      <td>-1.0</td>\n",
       "      <td>-1.0</td>\n",
       "      <td>1.0</td>\n",
       "      <td>1.0</td>\n",
       "    </tr>\n",
       "    <tr>\n",
       "      <th>4</th>\n",
       "      <td>1.0</td>\n",
       "      <td>1.0</td>\n",
       "      <td>1.0</td>\n",
       "      <td>-1.0</td>\n",
       "    </tr>\n",
       "  </tbody>\n",
       "</table>\n",
       "</div>"
      ],
      "text/plain": [
       "     0    1    2    3\n",
       "0  1.0 -1.0  1.0 -1.0\n",
       "1 -1.0 -1.0 -1.0  1.0\n",
       "2  1.0  1.0 -1.0  1.0\n",
       "3 -1.0 -1.0  1.0  1.0\n",
       "4  1.0  1.0  1.0 -1.0"
      ]
     },
     "execution_count": 67,
     "metadata": {},
     "output_type": "execute_result"
    }
   ],
   "source": [
    "np.sign(data).head()"
   ]
  },
  {
   "cell_type": "markdown",
   "id": "15b13f45-08f4-4118-a31b-572741953895",
   "metadata": {},
   "source": [
    "# String Manipulation"
   ]
  },
  {
   "cell_type": "code",
   "execution_count": 68,
   "id": "13b3cf9a-025a-43fe-b149-9d60f3a999f7",
   "metadata": {},
   "outputs": [
    {
     "data": {
      "text/plain": [
       "'a,b,guido'"
      ]
     },
     "execution_count": 68,
     "metadata": {},
     "output_type": "execute_result"
    }
   ],
   "source": [
    "val = 'a,b,guido'\n",
    "val"
   ]
  },
  {
   "cell_type": "code",
   "execution_count": 69,
   "id": "32f0016f-ac76-4cde-91aa-e69de6b3fb1e",
   "metadata": {},
   "outputs": [
    {
     "data": {
      "text/plain": [
       "['a', 'b', 'guido']"
      ]
     },
     "execution_count": 69,
     "metadata": {},
     "output_type": "execute_result"
    }
   ],
   "source": [
    "val.split(',')"
   ]
  },
  {
   "cell_type": "code",
   "execution_count": 70,
   "id": "e320217e-99e9-4d9e-a139-e9e2517786fa",
   "metadata": {},
   "outputs": [
    {
     "data": {
      "text/plain": [
       "['a', 'b', 'guido']"
      ]
     },
     "execution_count": 70,
     "metadata": {},
     "output_type": "execute_result"
    }
   ],
   "source": [
    "pieces = [x.strip() for x in val.split(',')]\n",
    "pieces"
   ]
  },
  {
   "cell_type": "code",
   "execution_count": 71,
   "id": "8b2cf546-187a-4dd7-b7a1-dd6331c59c27",
   "metadata": {},
   "outputs": [
    {
     "data": {
      "text/plain": [
       "'a::b::guido'"
      ]
     },
     "execution_count": 71,
     "metadata": {},
     "output_type": "execute_result"
    }
   ],
   "source": [
    "'::'.join(pieces)"
   ]
  },
  {
   "cell_type": "code",
   "execution_count": 72,
   "id": "45d7dd6f-ea74-433b-a4ce-1134799f0783",
   "metadata": {},
   "outputs": [
    {
     "data": {
      "text/plain": [
       "True"
      ]
     },
     "execution_count": 72,
     "metadata": {},
     "output_type": "execute_result"
    }
   ],
   "source": [
    "'guido' in val"
   ]
  },
  {
   "cell_type": "code",
   "execution_count": 73,
   "id": "13e49823-584e-4138-95f6-277955a2f9ed",
   "metadata": {},
   "outputs": [
    {
     "data": {
      "text/plain": [
       "1"
      ]
     },
     "execution_count": 73,
     "metadata": {},
     "output_type": "execute_result"
    }
   ],
   "source": [
    "val.index(',')"
   ]
  },
  {
   "cell_type": "code",
   "execution_count": 74,
   "id": "314b7a5a-17d0-4e45-b190-2d433f86fbf0",
   "metadata": {},
   "outputs": [
    {
     "data": {
      "text/plain": [
       "-1"
      ]
     },
     "execution_count": 74,
     "metadata": {},
     "output_type": "execute_result"
    }
   ],
   "source": [
    "val.find(':')"
   ]
  },
  {
   "cell_type": "code",
   "execution_count": 75,
   "id": "7e76b9be-a76c-498e-814d-077e30013efe",
   "metadata": {},
   "outputs": [
    {
     "data": {
      "text/plain": [
       "2"
      ]
     },
     "execution_count": 75,
     "metadata": {},
     "output_type": "execute_result"
    }
   ],
   "source": [
    "val.count(',')"
   ]
  },
  {
   "cell_type": "code",
   "execution_count": 76,
   "id": "6d816a67-c53d-4e1f-a379-0752f669ac22",
   "metadata": {},
   "outputs": [
    {
     "data": {
      "text/plain": [
       "'a::b::guido'"
      ]
     },
     "execution_count": 76,
     "metadata": {},
     "output_type": "execute_result"
    }
   ],
   "source": [
    "val.replace(',','::')"
   ]
  },
  {
   "cell_type": "code",
   "execution_count": 77,
   "id": "2dd67e00-3fc3-4a7b-89a0-46a7c019d6e4",
   "metadata": {},
   "outputs": [
    {
     "data": {
      "text/plain": [
       "'abguido'"
      ]
     },
     "execution_count": 77,
     "metadata": {},
     "output_type": "execute_result"
    }
   ],
   "source": [
    "val.replace(',','')"
   ]
  },
  {
   "cell_type": "markdown",
   "id": "edcd3f70-f7ae-4182-ad89-7ba61294d33d",
   "metadata": {},
   "source": [
    "# Regular Expression"
   ]
  },
  {
   "cell_type": "code",
   "execution_count": 78,
   "id": "1ed3b460-9e9f-4564-98bc-30bedbc50d98",
   "metadata": {},
   "outputs": [],
   "source": [
    "import re"
   ]
  },
  {
   "cell_type": "code",
   "execution_count": 79,
   "id": "930e1756-8873-4f7b-a1c7-2681a3004f31",
   "metadata": {},
   "outputs": [
    {
     "data": {
      "text/plain": [
       "'foo bar\\t baz \\tqux'"
      ]
     },
     "execution_count": 79,
     "metadata": {},
     "output_type": "execute_result"
    }
   ],
   "source": [
    "text = \"foo bar\\t baz \\tqux\"\n",
    "text"
   ]
  },
  {
   "cell_type": "code",
   "execution_count": 80,
   "id": "cd20948e-3ab6-4713-99f0-35502057e4be",
   "metadata": {},
   "outputs": [
    {
     "name": "stderr",
     "output_type": "stream",
     "text": [
      "<>:1: SyntaxWarning: invalid escape sequence '\\s'\n",
      "<>:1: SyntaxWarning: invalid escape sequence '\\s'\n",
      "C:\\Users\\shyam\\AppData\\Local\\Temp\\ipykernel_12920\\1971101977.py:1: SyntaxWarning: invalid escape sequence '\\s'\n",
      "  re.split('\\s+',text)\n"
     ]
    },
    {
     "data": {
      "text/plain": [
       "['foo', 'bar', 'baz', 'qux']"
      ]
     },
     "execution_count": 80,
     "metadata": {},
     "output_type": "execute_result"
    }
   ],
   "source": [
    "re.split('\\s+',text)"
   ]
  },
  {
   "cell_type": "code",
   "execution_count": 81,
   "id": "d851b7ec-65a8-40e2-8901-746450a09a71",
   "metadata": {},
   "outputs": [
    {
     "name": "stderr",
     "output_type": "stream",
     "text": [
      "<>:1: SyntaxWarning: invalid escape sequence '\\s'\n",
      "<>:1: SyntaxWarning: invalid escape sequence '\\s'\n",
      "C:\\Users\\shyam\\AppData\\Local\\Temp\\ipykernel_12920\\2557403008.py:1: SyntaxWarning: invalid escape sequence '\\s'\n",
      "  regex = re.compile('\\s+')\n"
     ]
    },
    {
     "data": {
      "text/plain": [
       "re.compile(r'\\s+', re.UNICODE)"
      ]
     },
     "execution_count": 81,
     "metadata": {},
     "output_type": "execute_result"
    }
   ],
   "source": [
    "regex = re.compile('\\s+')\n",
    "regex"
   ]
  },
  {
   "cell_type": "code",
   "execution_count": 82,
   "id": "494173ad-55b0-4cbe-b686-272d8a32bd97",
   "metadata": {},
   "outputs": [
    {
     "data": {
      "text/plain": [
       "['foo', 'bar', 'baz', 'qux']"
      ]
     },
     "execution_count": 82,
     "metadata": {},
     "output_type": "execute_result"
    }
   ],
   "source": [
    "regex.split(text)"
   ]
  },
  {
   "cell_type": "code",
   "execution_count": 83,
   "id": "bd5c8f2e-08f3-43eb-8414-8513fecb3314",
   "metadata": {},
   "outputs": [
    {
     "data": {
      "text/plain": [
       "[' ', '\\t ', ' \\t']"
      ]
     },
     "execution_count": 83,
     "metadata": {},
     "output_type": "execute_result"
    }
   ],
   "source": [
    "regex.findall(text)"
   ]
  },
  {
   "cell_type": "code",
   "execution_count": 84,
   "id": "d5f37104-875d-4861-a1bf-9f81f935a9d3",
   "metadata": {},
   "outputs": [
    {
     "data": {
      "text/plain": [
       "re.compile(r'[A-Z0-9._%+-]+@[A-Z0-9.-]+\\.[A-Z]{2,4}', re.IGNORECASE|re.UNICODE)"
      ]
     },
     "execution_count": 84,
     "metadata": {},
     "output_type": "execute_result"
    }
   ],
   "source": [
    "text = \"\"\"Dave dave@google.com\n",
    "Steve steve@gmail.com\n",
    "Rob rob@gmail.com\n",
    "Ryan ryan@yahoo.com\n",
    "\"\"\"\n",
    "pattern = r'[A-Z0-9._%+-]+@[A-Z0-9.-]+\\.[A-Z]{2,4}'\n",
    "\n",
    "regex = re.compile(pattern, flags=re.IGNORECASE)\n",
    "regex"
   ]
  },
  {
   "cell_type": "code",
   "execution_count": 85,
   "id": "f1f77355-0139-420d-b513-68a8b1b714ca",
   "metadata": {},
   "outputs": [
    {
     "data": {
      "text/plain": [
       "['dave@google.com', 'steve@gmail.com', 'rob@gmail.com', 'ryan@yahoo.com']"
      ]
     },
     "execution_count": 85,
     "metadata": {},
     "output_type": "execute_result"
    }
   ],
   "source": [
    "regex.findall(text)"
   ]
  },
  {
   "cell_type": "code",
   "execution_count": 86,
   "id": "c94dfd66-07ba-402c-b07d-771d419a3199",
   "metadata": {},
   "outputs": [
    {
     "data": {
      "text/plain": [
       "<re.Match object; span=(5, 20), match='dave@google.com'>"
      ]
     },
     "execution_count": 86,
     "metadata": {},
     "output_type": "execute_result"
    }
   ],
   "source": [
    "m= regex.search(text)\n",
    "m"
   ]
  },
  {
   "cell_type": "code",
   "execution_count": 87,
   "id": "5d8ee5be-fa33-4c9d-9c4a-2480b511c6cc",
   "metadata": {},
   "outputs": [
    {
     "data": {
      "text/plain": [
       "'dave@google.com'"
      ]
     },
     "execution_count": 87,
     "metadata": {},
     "output_type": "execute_result"
    }
   ],
   "source": [
    "text[m.start():m.end()]"
   ]
  },
  {
   "cell_type": "code",
   "execution_count": 88,
   "id": "482d1ddf-0a57-4262-a729-c848dfb6c7b3",
   "metadata": {},
   "outputs": [
    {
     "name": "stdout",
     "output_type": "stream",
     "text": [
      "None\n"
     ]
    }
   ],
   "source": [
    "print(regex.match(text))"
   ]
  },
  {
   "cell_type": "code",
   "execution_count": 89,
   "id": "4c1cb63b-bb57-4b94-ad89-f4cbe7033ad6",
   "metadata": {},
   "outputs": [
    {
     "name": "stdout",
     "output_type": "stream",
     "text": [
      "Dave REDACTED\n",
      "Steve REDACTED\n",
      "Rob REDACTED\n",
      "Ryan REDACTED\n",
      "\n"
     ]
    }
   ],
   "source": [
    "print(regex.sub('REDACTED',text))"
   ]
  }
 ],
 "metadata": {
  "kernelspec": {
   "display_name": "Python 3 (ipykernel)",
   "language": "python",
   "name": "python3"
  },
  "language_info": {
   "codemirror_mode": {
    "name": "ipython",
    "version": 3
   },
   "file_extension": ".py",
   "mimetype": "text/x-python",
   "name": "python",
   "nbconvert_exporter": "python",
   "pygments_lexer": "ipython3",
   "version": "3.12.3"
  }
 },
 "nbformat": 4,
 "nbformat_minor": 5
}
